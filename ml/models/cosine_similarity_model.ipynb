{
 "nbformat": 4,
 "nbformat_minor": 0,
 "metadata": {
  "colab": {
   "provenance": []
  },
  "kernelspec": {
   "name": "python3",
   "display_name": "Python 3 (ipykernel)",
   "language": "python"
  },
  "language_info": {
   "name": "python"
  }
 },
 "cells": [
  {
   "cell_type": "code",
   "metadata": {
    "id": "-R9P-tMV6C5M",
    "ExecuteTime": {
     "end_time": "2025-10-31T16:43:51.312632Z",
     "start_time": "2025-10-31T16:43:51.309247Z"
    }
   },
   "source": [
    "import numpy as np\n",
    "import pandas as pd\n",
    "from sklearn.feature_extraction.text import CountVectorizer\n",
    "from sklearn.metrics.pairwise import cosine_similarity"
   ],
   "outputs": [],
   "execution_count": 3
  },
  {
   "cell_type": "code",
   "source": "game = pd.read_csv(r'C:\\Work\\Programing Language\\task4\\Game-Recommendation-System\\data\\raw\\rawg_games_20k_with_images.csv')",
   "metadata": {
    "id": "95K2y7GW6SC3",
    "ExecuteTime": {
     "end_time": "2025-10-31T16:43:51.408547Z",
     "start_time": "2025-10-31T16:43:51.322641Z"
    }
   },
   "outputs": [],
   "execution_count": 4
  },
  {
   "cell_type": "code",
   "source": [
    "game"
   ],
   "metadata": {
    "colab": {
     "base_uri": "https://localhost:8080/",
     "height": 721
    },
    "id": "8k8f1nus6SFT",
    "outputId": "4f13a440-048f-4729-b224-c641a0f2d6aa",
    "ExecuteTime": {
     "end_time": "2025-10-31T16:43:51.428912Z",
     "start_time": "2025-10-31T16:43:51.415406Z"
    }
   },
   "outputs": [
    {
     "data": {
      "text/plain": [
       "          id                              name  \\\n",
       "0       3498                Grand Theft Auto V   \n",
       "1       3328          The Witcher 3: Wild Hunt   \n",
       "2       4200                          Portal 2   \n",
       "3       4291  Counter-Strike: Global Offensive   \n",
       "4       5286                Tomb Raider (2013)   \n",
       "...      ...                               ...   \n",
       "19995  20304              Fallen: A2P Protocol   \n",
       "19996  19999  MUD Motocross World Championship   \n",
       "19997  18168                        Lepofrenia   \n",
       "19998  17151               Fables from the Den   \n",
       "19999  17108                  Mysterious Space   \n",
       "\n",
       "                                   slug    released  metacritic  rating  \\\n",
       "0                    grand-theft-auto-v  2013-09-17        92.0    4.47   \n",
       "1               the-witcher-3-wild-hunt  2015-05-18        92.0    4.64   \n",
       "2                              portal-2  2011-04-18        95.0    4.58   \n",
       "3       counter-strike-global-offensive  2012-08-21        81.0    3.57   \n",
       "4                           tomb-raider  2013-03-05        86.0    4.06   \n",
       "...                                 ...         ...         ...     ...   \n",
       "19995               fallen-a2p-protocol  2015-08-14         NaN    0.00   \n",
       "19996  mud-motocross-world-championship  2012-04-20        55.0    0.00   \n",
       "19997                        lepofrenia  2017-06-09         NaN    0.00   \n",
       "19998               fables-from-the-den  2016-10-26         NaN    0.00   \n",
       "19999                  mysterious-space  2015-05-15         NaN    0.00   \n",
       "\n",
       "       ratings_count                                          platforms  \\\n",
       "0               7237  PC|PlayStation 5|Xbox Series S/X|PlayStation 4...   \n",
       "1               7053  PlayStation 5|Xbox Series S/X|macOS|PlayStatio...   \n",
       "2               5992     PlayStation 3|PC|Xbox 360|Linux|macOS|Xbox One   \n",
       "3               3603                    PC|Linux|Xbox 360|PlayStation 3   \n",
       "4               4048  PlayStation 3|Xbox 360|macOS|PC|Xbox One|PlayS...   \n",
       "...              ...                                                ...   \n",
       "19995              5                       PlayStation 4|Linux|macOS|PC   \n",
       "19996              5                  PlayStation 3|PS Vita|PC|Xbox 360   \n",
       "19997              3                                                 PC   \n",
       "19998              2                                     macOS|PC|Linux   \n",
       "19999              1                                                 PC   \n",
       "\n",
       "                         genres  \\\n",
       "0                        Action   \n",
       "1                    Action|RPG   \n",
       "2                Shooter|Puzzle   \n",
       "3                       Shooter   \n",
       "4                        Action   \n",
       "...                         ...   \n",
       "19995        RPG|Strategy|Indie   \n",
       "19996  Simulation|Sports|Racing   \n",
       "19997       Adventure|RPG|Indie   \n",
       "19998                       NaN   \n",
       "19999              Action|Indie   \n",
       "\n",
       "                                                  stores  added  \\\n",
       "0      Steam|PlayStation Store|Epic Games|Xbox 360 St...  22284   \n",
       "1      GOG|PlayStation Store|Steam|Xbox Store|Nintend...  21955   \n",
       "2      Xbox Store|Steam|PlayStation Store|Xbox 360 Store  20717   \n",
       "3                 PlayStation Store|Steam|Xbox 360 Store  18318   \n",
       "4      Xbox 360 Store|Steam|PlayStation Store|Google ...  17698   \n",
       "...                                                  ...    ...   \n",
       "19995                            PlayStation Store|Steam     60   \n",
       "19996                            PlayStation Store|Steam     60   \n",
       "19997                                              Steam     60   \n",
       "19998                                              Steam     60   \n",
       "19999                                              Steam     60   \n",
       "\n",
       "                                                    tags  \\\n",
       "0      Singleplayer|Steam Achievements|Multiplayer|Fu...   \n",
       "1      Singleplayer|Full controller support|Atmospher...   \n",
       "2      Singleplayer|Steam Achievements|Multiplayer|Fu...   \n",
       "3      Steam Achievements|Multiplayer|Full controller...   \n",
       "4      Singleplayer|Multiplayer|Full controller suppo...   \n",
       "...                                                  ...   \n",
       "19995  Singleplayer|Steam Achievements|Full controlle...   \n",
       "19996  Singleplayer|Steam Achievements|Multiplayer|St...   \n",
       "19997  Singleplayer|Steam Achievements|steam-trading-...   \n",
       "19998                              Design & Illustration   \n",
       "19999  Singleplayer|Steam Achievements|Full controlle...   \n",
       "\n",
       "                                        background_image  \\\n",
       "0      https://media.rawg.io/media/games/20a/20aa03a1...   \n",
       "1      https://media.rawg.io/media/games/618/618c2031...   \n",
       "2      https://media.rawg.io/media/games/2ba/2bac0e87...   \n",
       "3      https://media.rawg.io/media/games/736/73619bd3...   \n",
       "4      https://media.rawg.io/media/games/021/021c4e21...   \n",
       "...                                                  ...   \n",
       "19995  https://media.rawg.io/media/screenshots/2b6/2b...   \n",
       "19996  https://media.rawg.io/media/games/e34/e347ff3e...   \n",
       "19997  https://media.rawg.io/media/screenshots/99b/99...   \n",
       "19998  https://media.rawg.io/media/screenshots/389/38...   \n",
       "19999  https://media.rawg.io/media/screenshots/222/22...   \n",
       "\n",
       "       background_image_additional  \n",
       "0                              NaN  \n",
       "1                              NaN  \n",
       "2                              NaN  \n",
       "3                              NaN  \n",
       "4                              NaN  \n",
       "...                            ...  \n",
       "19995                          NaN  \n",
       "19996                          NaN  \n",
       "19997                          NaN  \n",
       "19998                          NaN  \n",
       "19999                          NaN  \n",
       "\n",
       "[20000 rows x 14 columns]"
      ],
      "text/html": [
       "<div>\n",
       "<style scoped>\n",
       "    .dataframe tbody tr th:only-of-type {\n",
       "        vertical-align: middle;\n",
       "    }\n",
       "\n",
       "    .dataframe tbody tr th {\n",
       "        vertical-align: top;\n",
       "    }\n",
       "\n",
       "    .dataframe thead th {\n",
       "        text-align: right;\n",
       "    }\n",
       "</style>\n",
       "<table border=\"1\" class=\"dataframe\">\n",
       "  <thead>\n",
       "    <tr style=\"text-align: right;\">\n",
       "      <th></th>\n",
       "      <th>id</th>\n",
       "      <th>name</th>\n",
       "      <th>slug</th>\n",
       "      <th>released</th>\n",
       "      <th>metacritic</th>\n",
       "      <th>rating</th>\n",
       "      <th>ratings_count</th>\n",
       "      <th>platforms</th>\n",
       "      <th>genres</th>\n",
       "      <th>stores</th>\n",
       "      <th>added</th>\n",
       "      <th>tags</th>\n",
       "      <th>background_image</th>\n",
       "      <th>background_image_additional</th>\n",
       "    </tr>\n",
       "  </thead>\n",
       "  <tbody>\n",
       "    <tr>\n",
       "      <th>0</th>\n",
       "      <td>3498</td>\n",
       "      <td>Grand Theft Auto V</td>\n",
       "      <td>grand-theft-auto-v</td>\n",
       "      <td>2013-09-17</td>\n",
       "      <td>92.0</td>\n",
       "      <td>4.47</td>\n",
       "      <td>7237</td>\n",
       "      <td>PC|PlayStation 5|Xbox Series S/X|PlayStation 4...</td>\n",
       "      <td>Action</td>\n",
       "      <td>Steam|PlayStation Store|Epic Games|Xbox 360 St...</td>\n",
       "      <td>22284</td>\n",
       "      <td>Singleplayer|Steam Achievements|Multiplayer|Fu...</td>\n",
       "      <td>https://media.rawg.io/media/games/20a/20aa03a1...</td>\n",
       "      <td>NaN</td>\n",
       "    </tr>\n",
       "    <tr>\n",
       "      <th>1</th>\n",
       "      <td>3328</td>\n",
       "      <td>The Witcher 3: Wild Hunt</td>\n",
       "      <td>the-witcher-3-wild-hunt</td>\n",
       "      <td>2015-05-18</td>\n",
       "      <td>92.0</td>\n",
       "      <td>4.64</td>\n",
       "      <td>7053</td>\n",
       "      <td>PlayStation 5|Xbox Series S/X|macOS|PlayStatio...</td>\n",
       "      <td>Action|RPG</td>\n",
       "      <td>GOG|PlayStation Store|Steam|Xbox Store|Nintend...</td>\n",
       "      <td>21955</td>\n",
       "      <td>Singleplayer|Full controller support|Atmospher...</td>\n",
       "      <td>https://media.rawg.io/media/games/618/618c2031...</td>\n",
       "      <td>NaN</td>\n",
       "    </tr>\n",
       "    <tr>\n",
       "      <th>2</th>\n",
       "      <td>4200</td>\n",
       "      <td>Portal 2</td>\n",
       "      <td>portal-2</td>\n",
       "      <td>2011-04-18</td>\n",
       "      <td>95.0</td>\n",
       "      <td>4.58</td>\n",
       "      <td>5992</td>\n",
       "      <td>PlayStation 3|PC|Xbox 360|Linux|macOS|Xbox One</td>\n",
       "      <td>Shooter|Puzzle</td>\n",
       "      <td>Xbox Store|Steam|PlayStation Store|Xbox 360 Store</td>\n",
       "      <td>20717</td>\n",
       "      <td>Singleplayer|Steam Achievements|Multiplayer|Fu...</td>\n",
       "      <td>https://media.rawg.io/media/games/2ba/2bac0e87...</td>\n",
       "      <td>NaN</td>\n",
       "    </tr>\n",
       "    <tr>\n",
       "      <th>3</th>\n",
       "      <td>4291</td>\n",
       "      <td>Counter-Strike: Global Offensive</td>\n",
       "      <td>counter-strike-global-offensive</td>\n",
       "      <td>2012-08-21</td>\n",
       "      <td>81.0</td>\n",
       "      <td>3.57</td>\n",
       "      <td>3603</td>\n",
       "      <td>PC|Linux|Xbox 360|PlayStation 3</td>\n",
       "      <td>Shooter</td>\n",
       "      <td>PlayStation Store|Steam|Xbox 360 Store</td>\n",
       "      <td>18318</td>\n",
       "      <td>Steam Achievements|Multiplayer|Full controller...</td>\n",
       "      <td>https://media.rawg.io/media/games/736/73619bd3...</td>\n",
       "      <td>NaN</td>\n",
       "    </tr>\n",
       "    <tr>\n",
       "      <th>4</th>\n",
       "      <td>5286</td>\n",
       "      <td>Tomb Raider (2013)</td>\n",
       "      <td>tomb-raider</td>\n",
       "      <td>2013-03-05</td>\n",
       "      <td>86.0</td>\n",
       "      <td>4.06</td>\n",
       "      <td>4048</td>\n",
       "      <td>PlayStation 3|Xbox 360|macOS|PC|Xbox One|PlayS...</td>\n",
       "      <td>Action</td>\n",
       "      <td>Xbox 360 Store|Steam|PlayStation Store|Google ...</td>\n",
       "      <td>17698</td>\n",
       "      <td>Singleplayer|Multiplayer|Full controller suppo...</td>\n",
       "      <td>https://media.rawg.io/media/games/021/021c4e21...</td>\n",
       "      <td>NaN</td>\n",
       "    </tr>\n",
       "    <tr>\n",
       "      <th>...</th>\n",
       "      <td>...</td>\n",
       "      <td>...</td>\n",
       "      <td>...</td>\n",
       "      <td>...</td>\n",
       "      <td>...</td>\n",
       "      <td>...</td>\n",
       "      <td>...</td>\n",
       "      <td>...</td>\n",
       "      <td>...</td>\n",
       "      <td>...</td>\n",
       "      <td>...</td>\n",
       "      <td>...</td>\n",
       "      <td>...</td>\n",
       "      <td>...</td>\n",
       "    </tr>\n",
       "    <tr>\n",
       "      <th>19995</th>\n",
       "      <td>20304</td>\n",
       "      <td>Fallen: A2P Protocol</td>\n",
       "      <td>fallen-a2p-protocol</td>\n",
       "      <td>2015-08-14</td>\n",
       "      <td>NaN</td>\n",
       "      <td>0.00</td>\n",
       "      <td>5</td>\n",
       "      <td>PlayStation 4|Linux|macOS|PC</td>\n",
       "      <td>RPG|Strategy|Indie</td>\n",
       "      <td>PlayStation Store|Steam</td>\n",
       "      <td>60</td>\n",
       "      <td>Singleplayer|Steam Achievements|Full controlle...</td>\n",
       "      <td>https://media.rawg.io/media/screenshots/2b6/2b...</td>\n",
       "      <td>NaN</td>\n",
       "    </tr>\n",
       "    <tr>\n",
       "      <th>19996</th>\n",
       "      <td>19999</td>\n",
       "      <td>MUD Motocross World Championship</td>\n",
       "      <td>mud-motocross-world-championship</td>\n",
       "      <td>2012-04-20</td>\n",
       "      <td>55.0</td>\n",
       "      <td>0.00</td>\n",
       "      <td>5</td>\n",
       "      <td>PlayStation 3|PS Vita|PC|Xbox 360</td>\n",
       "      <td>Simulation|Sports|Racing</td>\n",
       "      <td>PlayStation Store|Steam</td>\n",
       "      <td>60</td>\n",
       "      <td>Singleplayer|Steam Achievements|Multiplayer|St...</td>\n",
       "      <td>https://media.rawg.io/media/games/e34/e347ff3e...</td>\n",
       "      <td>NaN</td>\n",
       "    </tr>\n",
       "    <tr>\n",
       "      <th>19997</th>\n",
       "      <td>18168</td>\n",
       "      <td>Lepofrenia</td>\n",
       "      <td>lepofrenia</td>\n",
       "      <td>2017-06-09</td>\n",
       "      <td>NaN</td>\n",
       "      <td>0.00</td>\n",
       "      <td>3</td>\n",
       "      <td>PC</td>\n",
       "      <td>Adventure|RPG|Indie</td>\n",
       "      <td>Steam</td>\n",
       "      <td>60</td>\n",
       "      <td>Singleplayer|Steam Achievements|steam-trading-...</td>\n",
       "      <td>https://media.rawg.io/media/screenshots/99b/99...</td>\n",
       "      <td>NaN</td>\n",
       "    </tr>\n",
       "    <tr>\n",
       "      <th>19998</th>\n",
       "      <td>17151</td>\n",
       "      <td>Fables from the Den</td>\n",
       "      <td>fables-from-the-den</td>\n",
       "      <td>2016-10-26</td>\n",
       "      <td>NaN</td>\n",
       "      <td>0.00</td>\n",
       "      <td>2</td>\n",
       "      <td>macOS|PC|Linux</td>\n",
       "      <td>NaN</td>\n",
       "      <td>Steam</td>\n",
       "      <td>60</td>\n",
       "      <td>Design &amp; Illustration</td>\n",
       "      <td>https://media.rawg.io/media/screenshots/389/38...</td>\n",
       "      <td>NaN</td>\n",
       "    </tr>\n",
       "    <tr>\n",
       "      <th>19999</th>\n",
       "      <td>17108</td>\n",
       "      <td>Mysterious Space</td>\n",
       "      <td>mysterious-space</td>\n",
       "      <td>2015-05-15</td>\n",
       "      <td>NaN</td>\n",
       "      <td>0.00</td>\n",
       "      <td>1</td>\n",
       "      <td>PC</td>\n",
       "      <td>Action|Indie</td>\n",
       "      <td>Steam</td>\n",
       "      <td>60</td>\n",
       "      <td>Singleplayer|Steam Achievements|Full controlle...</td>\n",
       "      <td>https://media.rawg.io/media/screenshots/222/22...</td>\n",
       "      <td>NaN</td>\n",
       "    </tr>\n",
       "  </tbody>\n",
       "</table>\n",
       "<p>20000 rows × 14 columns</p>\n",
       "</div>"
      ]
     },
     "execution_count": 5,
     "metadata": {},
     "output_type": "execute_result"
    }
   ],
   "execution_count": 5
  },
  {
   "cell_type": "code",
   "source": [
    "game.info()"
   ],
   "metadata": {
    "colab": {
     "base_uri": "https://localhost:8080/"
    },
    "id": "dxawHRzT6SI2",
    "outputId": "ff848b07-1d35-4724-ac0b-697c836e31e9",
    "ExecuteTime": {
     "end_time": "2025-10-31T16:43:51.482802Z",
     "start_time": "2025-10-31T16:43:51.470784Z"
    }
   },
   "outputs": [
    {
     "name": "stdout",
     "output_type": "stream",
     "text": [
      "<class 'pandas.core.frame.DataFrame'>\n",
      "RangeIndex: 20000 entries, 0 to 19999\n",
      "Data columns (total 14 columns):\n",
      " #   Column                       Non-Null Count  Dtype  \n",
      "---  ------                       --------------  -----  \n",
      " 0   id                           20000 non-null  int64  \n",
      " 1   name                         20000 non-null  object \n",
      " 2   slug                         20000 non-null  object \n",
      " 3   released                     19332 non-null  object \n",
      " 4   metacritic                   5406 non-null   float64\n",
      " 5   rating                       20000 non-null  float64\n",
      " 6   ratings_count                20000 non-null  int64  \n",
      " 7   platforms                    19998 non-null  object \n",
      " 8   genres                       19652 non-null  object \n",
      " 9   stores                       18841 non-null  object \n",
      " 10  added                        20000 non-null  int64  \n",
      " 11  tags                         19322 non-null  object \n",
      " 12  background_image             19959 non-null  object \n",
      " 13  background_image_additional  0 non-null      float64\n",
      "dtypes: float64(3), int64(3), object(8)\n",
      "memory usage: 2.1+ MB\n"
     ]
    }
   ],
   "execution_count": 6
  },
  {
   "cell_type": "code",
   "source": [
    "game.describe()"
   ],
   "metadata": {
    "colab": {
     "base_uri": "https://localhost:8080/",
     "height": 300
    },
    "id": "pk_E183d6dSh",
    "outputId": "71cf7ac7-8109-4399-ba5b-508dc25b7bc5",
    "ExecuteTime": {
     "end_time": "2025-10-31T16:43:51.577974Z",
     "start_time": "2025-10-31T16:43:51.563497Z"
    }
   },
   "outputs": [
    {
     "data": {
      "text/plain": [
       "                 id   metacritic        rating  ratings_count         added  \\\n",
       "count  2.000000e+04  5406.000000  20000.000000   20000.000000  20000.000000   \n",
       "mean   1.378843e+05    73.750092      2.292542      84.132700    620.561350   \n",
       "std    2.403026e+05    11.087653      1.631823     278.994055   1325.572598   \n",
       "min    1.000000e+00    21.000000      0.000000       0.000000     60.000000   \n",
       "25%    1.415675e+04    68.000000      0.000000       4.000000    109.000000   \n",
       "50%    2.269850e+04    75.000000      2.880000      14.000000    193.500000   \n",
       "75%    6.138425e+04    81.000000      3.670000      49.000000    520.000000   \n",
       "max    1.007483e+06    99.000000      4.860000    7237.000000  22284.000000   \n",
       "\n",
       "       background_image_additional  \n",
       "count                          0.0  \n",
       "mean                           NaN  \n",
       "std                            NaN  \n",
       "min                            NaN  \n",
       "25%                            NaN  \n",
       "50%                            NaN  \n",
       "75%                            NaN  \n",
       "max                            NaN  "
      ],
      "text/html": [
       "<div>\n",
       "<style scoped>\n",
       "    .dataframe tbody tr th:only-of-type {\n",
       "        vertical-align: middle;\n",
       "    }\n",
       "\n",
       "    .dataframe tbody tr th {\n",
       "        vertical-align: top;\n",
       "    }\n",
       "\n",
       "    .dataframe thead th {\n",
       "        text-align: right;\n",
       "    }\n",
       "</style>\n",
       "<table border=\"1\" class=\"dataframe\">\n",
       "  <thead>\n",
       "    <tr style=\"text-align: right;\">\n",
       "      <th></th>\n",
       "      <th>id</th>\n",
       "      <th>metacritic</th>\n",
       "      <th>rating</th>\n",
       "      <th>ratings_count</th>\n",
       "      <th>added</th>\n",
       "      <th>background_image_additional</th>\n",
       "    </tr>\n",
       "  </thead>\n",
       "  <tbody>\n",
       "    <tr>\n",
       "      <th>count</th>\n",
       "      <td>2.000000e+04</td>\n",
       "      <td>5406.000000</td>\n",
       "      <td>20000.000000</td>\n",
       "      <td>20000.000000</td>\n",
       "      <td>20000.000000</td>\n",
       "      <td>0.0</td>\n",
       "    </tr>\n",
       "    <tr>\n",
       "      <th>mean</th>\n",
       "      <td>1.378843e+05</td>\n",
       "      <td>73.750092</td>\n",
       "      <td>2.292542</td>\n",
       "      <td>84.132700</td>\n",
       "      <td>620.561350</td>\n",
       "      <td>NaN</td>\n",
       "    </tr>\n",
       "    <tr>\n",
       "      <th>std</th>\n",
       "      <td>2.403026e+05</td>\n",
       "      <td>11.087653</td>\n",
       "      <td>1.631823</td>\n",
       "      <td>278.994055</td>\n",
       "      <td>1325.572598</td>\n",
       "      <td>NaN</td>\n",
       "    </tr>\n",
       "    <tr>\n",
       "      <th>min</th>\n",
       "      <td>1.000000e+00</td>\n",
       "      <td>21.000000</td>\n",
       "      <td>0.000000</td>\n",
       "      <td>0.000000</td>\n",
       "      <td>60.000000</td>\n",
       "      <td>NaN</td>\n",
       "    </tr>\n",
       "    <tr>\n",
       "      <th>25%</th>\n",
       "      <td>1.415675e+04</td>\n",
       "      <td>68.000000</td>\n",
       "      <td>0.000000</td>\n",
       "      <td>4.000000</td>\n",
       "      <td>109.000000</td>\n",
       "      <td>NaN</td>\n",
       "    </tr>\n",
       "    <tr>\n",
       "      <th>50%</th>\n",
       "      <td>2.269850e+04</td>\n",
       "      <td>75.000000</td>\n",
       "      <td>2.880000</td>\n",
       "      <td>14.000000</td>\n",
       "      <td>193.500000</td>\n",
       "      <td>NaN</td>\n",
       "    </tr>\n",
       "    <tr>\n",
       "      <th>75%</th>\n",
       "      <td>6.138425e+04</td>\n",
       "      <td>81.000000</td>\n",
       "      <td>3.670000</td>\n",
       "      <td>49.000000</td>\n",
       "      <td>520.000000</td>\n",
       "      <td>NaN</td>\n",
       "    </tr>\n",
       "    <tr>\n",
       "      <th>max</th>\n",
       "      <td>1.007483e+06</td>\n",
       "      <td>99.000000</td>\n",
       "      <td>4.860000</td>\n",
       "      <td>7237.000000</td>\n",
       "      <td>22284.000000</td>\n",
       "      <td>NaN</td>\n",
       "    </tr>\n",
       "  </tbody>\n",
       "</table>\n",
       "</div>"
      ]
     },
     "execution_count": 7,
     "metadata": {},
     "output_type": "execute_result"
    }
   ],
   "execution_count": 7
  },
  {
   "cell_type": "code",
   "source": [
    "game['name'].duplicated()"
   ],
   "metadata": {
    "colab": {
     "base_uri": "https://localhost:8080/",
     "height": 458
    },
    "id": "iHGNq1pm6hOx",
    "outputId": "d6bd3697-a4e2-4524-d4db-c761a3728cb6",
    "ExecuteTime": {
     "end_time": "2025-10-31T16:43:51.691791Z",
     "start_time": "2025-10-31T16:43:51.685721Z"
    }
   },
   "outputs": [
    {
     "data": {
      "text/plain": [
       "0        False\n",
       "1        False\n",
       "2        False\n",
       "3        False\n",
       "4        False\n",
       "         ...  \n",
       "19995    False\n",
       "19996    False\n",
       "19997    False\n",
       "19998    False\n",
       "19999    False\n",
       "Name: name, Length: 20000, dtype: bool"
      ]
     },
     "execution_count": 8,
     "metadata": {},
     "output_type": "execute_result"
    }
   ],
   "execution_count": 8
  },
  {
   "cell_type": "code",
   "source": [
    "game = game[['id', 'name', 'platforms', 'genres', 'stores', 'tags']]"
   ],
   "metadata": {
    "id": "NIIxWwIh611Q",
    "ExecuteTime": {
     "end_time": "2025-10-31T16:43:52.051771Z",
     "start_time": "2025-10-31T16:43:52.045722Z"
    }
   },
   "outputs": [],
   "execution_count": 9
  },
  {
   "cell_type": "code",
   "source": [
    "game"
   ],
   "metadata": {
    "colab": {
     "base_uri": "https://localhost:8080/",
     "height": 721
    },
    "id": "u7XXcJwC7nKw",
    "outputId": "eeeaa35c-7017-4e2f-a448-d7ef186463bb",
    "ExecuteTime": {
     "end_time": "2025-10-31T16:43:52.101205Z",
     "start_time": "2025-10-31T16:43:52.093218Z"
    }
   },
   "outputs": [
    {
     "data": {
      "text/plain": [
       "          id                              name  \\\n",
       "0       3498                Grand Theft Auto V   \n",
       "1       3328          The Witcher 3: Wild Hunt   \n",
       "2       4200                          Portal 2   \n",
       "3       4291  Counter-Strike: Global Offensive   \n",
       "4       5286                Tomb Raider (2013)   \n",
       "...      ...                               ...   \n",
       "19995  20304              Fallen: A2P Protocol   \n",
       "19996  19999  MUD Motocross World Championship   \n",
       "19997  18168                        Lepofrenia   \n",
       "19998  17151               Fables from the Den   \n",
       "19999  17108                  Mysterious Space   \n",
       "\n",
       "                                               platforms  \\\n",
       "0      PC|PlayStation 5|Xbox Series S/X|PlayStation 4...   \n",
       "1      PlayStation 5|Xbox Series S/X|macOS|PlayStatio...   \n",
       "2         PlayStation 3|PC|Xbox 360|Linux|macOS|Xbox One   \n",
       "3                        PC|Linux|Xbox 360|PlayStation 3   \n",
       "4      PlayStation 3|Xbox 360|macOS|PC|Xbox One|PlayS...   \n",
       "...                                                  ...   \n",
       "19995                       PlayStation 4|Linux|macOS|PC   \n",
       "19996                  PlayStation 3|PS Vita|PC|Xbox 360   \n",
       "19997                                                 PC   \n",
       "19998                                     macOS|PC|Linux   \n",
       "19999                                                 PC   \n",
       "\n",
       "                         genres  \\\n",
       "0                        Action   \n",
       "1                    Action|RPG   \n",
       "2                Shooter|Puzzle   \n",
       "3                       Shooter   \n",
       "4                        Action   \n",
       "...                         ...   \n",
       "19995        RPG|Strategy|Indie   \n",
       "19996  Simulation|Sports|Racing   \n",
       "19997       Adventure|RPG|Indie   \n",
       "19998                       NaN   \n",
       "19999              Action|Indie   \n",
       "\n",
       "                                                  stores  \\\n",
       "0      Steam|PlayStation Store|Epic Games|Xbox 360 St...   \n",
       "1      GOG|PlayStation Store|Steam|Xbox Store|Nintend...   \n",
       "2      Xbox Store|Steam|PlayStation Store|Xbox 360 Store   \n",
       "3                 PlayStation Store|Steam|Xbox 360 Store   \n",
       "4      Xbox 360 Store|Steam|PlayStation Store|Google ...   \n",
       "...                                                  ...   \n",
       "19995                            PlayStation Store|Steam   \n",
       "19996                            PlayStation Store|Steam   \n",
       "19997                                              Steam   \n",
       "19998                                              Steam   \n",
       "19999                                              Steam   \n",
       "\n",
       "                                                    tags  \n",
       "0      Singleplayer|Steam Achievements|Multiplayer|Fu...  \n",
       "1      Singleplayer|Full controller support|Atmospher...  \n",
       "2      Singleplayer|Steam Achievements|Multiplayer|Fu...  \n",
       "3      Steam Achievements|Multiplayer|Full controller...  \n",
       "4      Singleplayer|Multiplayer|Full controller suppo...  \n",
       "...                                                  ...  \n",
       "19995  Singleplayer|Steam Achievements|Full controlle...  \n",
       "19996  Singleplayer|Steam Achievements|Multiplayer|St...  \n",
       "19997  Singleplayer|Steam Achievements|steam-trading-...  \n",
       "19998                              Design & Illustration  \n",
       "19999  Singleplayer|Steam Achievements|Full controlle...  \n",
       "\n",
       "[20000 rows x 6 columns]"
      ],
      "text/html": [
       "<div>\n",
       "<style scoped>\n",
       "    .dataframe tbody tr th:only-of-type {\n",
       "        vertical-align: middle;\n",
       "    }\n",
       "\n",
       "    .dataframe tbody tr th {\n",
       "        vertical-align: top;\n",
       "    }\n",
       "\n",
       "    .dataframe thead th {\n",
       "        text-align: right;\n",
       "    }\n",
       "</style>\n",
       "<table border=\"1\" class=\"dataframe\">\n",
       "  <thead>\n",
       "    <tr style=\"text-align: right;\">\n",
       "      <th></th>\n",
       "      <th>id</th>\n",
       "      <th>name</th>\n",
       "      <th>platforms</th>\n",
       "      <th>genres</th>\n",
       "      <th>stores</th>\n",
       "      <th>tags</th>\n",
       "    </tr>\n",
       "  </thead>\n",
       "  <tbody>\n",
       "    <tr>\n",
       "      <th>0</th>\n",
       "      <td>3498</td>\n",
       "      <td>Grand Theft Auto V</td>\n",
       "      <td>PC|PlayStation 5|Xbox Series S/X|PlayStation 4...</td>\n",
       "      <td>Action</td>\n",
       "      <td>Steam|PlayStation Store|Epic Games|Xbox 360 St...</td>\n",
       "      <td>Singleplayer|Steam Achievements|Multiplayer|Fu...</td>\n",
       "    </tr>\n",
       "    <tr>\n",
       "      <th>1</th>\n",
       "      <td>3328</td>\n",
       "      <td>The Witcher 3: Wild Hunt</td>\n",
       "      <td>PlayStation 5|Xbox Series S/X|macOS|PlayStatio...</td>\n",
       "      <td>Action|RPG</td>\n",
       "      <td>GOG|PlayStation Store|Steam|Xbox Store|Nintend...</td>\n",
       "      <td>Singleplayer|Full controller support|Atmospher...</td>\n",
       "    </tr>\n",
       "    <tr>\n",
       "      <th>2</th>\n",
       "      <td>4200</td>\n",
       "      <td>Portal 2</td>\n",
       "      <td>PlayStation 3|PC|Xbox 360|Linux|macOS|Xbox One</td>\n",
       "      <td>Shooter|Puzzle</td>\n",
       "      <td>Xbox Store|Steam|PlayStation Store|Xbox 360 Store</td>\n",
       "      <td>Singleplayer|Steam Achievements|Multiplayer|Fu...</td>\n",
       "    </tr>\n",
       "    <tr>\n",
       "      <th>3</th>\n",
       "      <td>4291</td>\n",
       "      <td>Counter-Strike: Global Offensive</td>\n",
       "      <td>PC|Linux|Xbox 360|PlayStation 3</td>\n",
       "      <td>Shooter</td>\n",
       "      <td>PlayStation Store|Steam|Xbox 360 Store</td>\n",
       "      <td>Steam Achievements|Multiplayer|Full controller...</td>\n",
       "    </tr>\n",
       "    <tr>\n",
       "      <th>4</th>\n",
       "      <td>5286</td>\n",
       "      <td>Tomb Raider (2013)</td>\n",
       "      <td>PlayStation 3|Xbox 360|macOS|PC|Xbox One|PlayS...</td>\n",
       "      <td>Action</td>\n",
       "      <td>Xbox 360 Store|Steam|PlayStation Store|Google ...</td>\n",
       "      <td>Singleplayer|Multiplayer|Full controller suppo...</td>\n",
       "    </tr>\n",
       "    <tr>\n",
       "      <th>...</th>\n",
       "      <td>...</td>\n",
       "      <td>...</td>\n",
       "      <td>...</td>\n",
       "      <td>...</td>\n",
       "      <td>...</td>\n",
       "      <td>...</td>\n",
       "    </tr>\n",
       "    <tr>\n",
       "      <th>19995</th>\n",
       "      <td>20304</td>\n",
       "      <td>Fallen: A2P Protocol</td>\n",
       "      <td>PlayStation 4|Linux|macOS|PC</td>\n",
       "      <td>RPG|Strategy|Indie</td>\n",
       "      <td>PlayStation Store|Steam</td>\n",
       "      <td>Singleplayer|Steam Achievements|Full controlle...</td>\n",
       "    </tr>\n",
       "    <tr>\n",
       "      <th>19996</th>\n",
       "      <td>19999</td>\n",
       "      <td>MUD Motocross World Championship</td>\n",
       "      <td>PlayStation 3|PS Vita|PC|Xbox 360</td>\n",
       "      <td>Simulation|Sports|Racing</td>\n",
       "      <td>PlayStation Store|Steam</td>\n",
       "      <td>Singleplayer|Steam Achievements|Multiplayer|St...</td>\n",
       "    </tr>\n",
       "    <tr>\n",
       "      <th>19997</th>\n",
       "      <td>18168</td>\n",
       "      <td>Lepofrenia</td>\n",
       "      <td>PC</td>\n",
       "      <td>Adventure|RPG|Indie</td>\n",
       "      <td>Steam</td>\n",
       "      <td>Singleplayer|Steam Achievements|steam-trading-...</td>\n",
       "    </tr>\n",
       "    <tr>\n",
       "      <th>19998</th>\n",
       "      <td>17151</td>\n",
       "      <td>Fables from the Den</td>\n",
       "      <td>macOS|PC|Linux</td>\n",
       "      <td>NaN</td>\n",
       "      <td>Steam</td>\n",
       "      <td>Design &amp; Illustration</td>\n",
       "    </tr>\n",
       "    <tr>\n",
       "      <th>19999</th>\n",
       "      <td>17108</td>\n",
       "      <td>Mysterious Space</td>\n",
       "      <td>PC</td>\n",
       "      <td>Action|Indie</td>\n",
       "      <td>Steam</td>\n",
       "      <td>Singleplayer|Steam Achievements|Full controlle...</td>\n",
       "    </tr>\n",
       "  </tbody>\n",
       "</table>\n",
       "<p>20000 rows × 6 columns</p>\n",
       "</div>"
      ]
     },
     "execution_count": 10,
     "metadata": {},
     "output_type": "execute_result"
    }
   ],
   "execution_count": 10
  },
  {
   "cell_type": "code",
   "source": [
    "game['platforms'].isnull().sum()"
   ],
   "metadata": {
    "colab": {
     "base_uri": "https://localhost:8080/"
    },
    "id": "uHNQRq1y7nka",
    "outputId": "0b609a2b-ce2e-41c9-ebde-a4a87be58a13",
    "ExecuteTime": {
     "end_time": "2025-10-31T16:43:52.147173Z",
     "start_time": "2025-10-31T16:43:52.142135Z"
    }
   },
   "outputs": [
    {
     "data": {
      "text/plain": [
       "np.int64(2)"
      ]
     },
     "execution_count": 11,
     "metadata": {},
     "output_type": "execute_result"
    }
   ],
   "execution_count": 11
  },
  {
   "cell_type": "code",
   "source": [
    "game['genres'].isnull().sum()"
   ],
   "metadata": {
    "colab": {
     "base_uri": "https://localhost:8080/"
    },
    "id": "x8eh9-TB8Cup",
    "outputId": "bd4f76c7-2ae1-44cb-a7c3-57fac33d23fa",
    "ExecuteTime": {
     "end_time": "2025-10-31T16:43:52.226655Z",
     "start_time": "2025-10-31T16:43:52.222651Z"
    }
   },
   "outputs": [
    {
     "data": {
      "text/plain": [
       "np.int64(348)"
      ]
     },
     "execution_count": 12,
     "metadata": {},
     "output_type": "execute_result"
    }
   ],
   "execution_count": 12
  },
  {
   "cell_type": "code",
   "source": [
    "game['id'].isnull().sum()"
   ],
   "metadata": {
    "id": "T0W_M557cON4",
    "outputId": "fda68cf6-5e23-4b21-c108-27882323775f",
    "colab": {
     "base_uri": "https://localhost:8080/"
    },
    "ExecuteTime": {
     "end_time": "2025-10-31T16:43:52.262409Z",
     "start_time": "2025-10-31T16:43:52.256705Z"
    }
   },
   "outputs": [
    {
     "data": {
      "text/plain": [
       "np.int64(0)"
      ]
     },
     "execution_count": 13,
     "metadata": {},
     "output_type": "execute_result"
    }
   ],
   "execution_count": 13
  },
  {
   "cell_type": "code",
   "source": [
    "game['name'].isnull().sum()"
   ],
   "metadata": {
    "id": "wnGDuk3ocORa",
    "outputId": "4c649a72-a25d-479c-a98d-de56a7c65b87",
    "colab": {
     "base_uri": "https://localhost:8080/"
    },
    "ExecuteTime": {
     "end_time": "2025-10-31T16:43:52.295046Z",
     "start_time": "2025-10-31T16:43:52.290100Z"
    }
   },
   "outputs": [
    {
     "data": {
      "text/plain": [
       "np.int64(0)"
      ]
     },
     "execution_count": 14,
     "metadata": {},
     "output_type": "execute_result"
    }
   ],
   "execution_count": 14
  },
  {
   "cell_type": "code",
   "source": [
    "game"
   ],
   "metadata": {
    "id": "NQ2n25tIckCo",
    "outputId": "b25fa5f8-426a-41b8-fe8b-4791ddc80ba6",
    "colab": {
     "base_uri": "https://localhost:8080/",
     "height": 721
    },
    "ExecuteTime": {
     "end_time": "2025-10-31T16:43:52.412342Z",
     "start_time": "2025-10-31T16:43:52.404979Z"
    }
   },
   "outputs": [
    {
     "data": {
      "text/plain": [
       "          id                              name  \\\n",
       "0       3498                Grand Theft Auto V   \n",
       "1       3328          The Witcher 3: Wild Hunt   \n",
       "2       4200                          Portal 2   \n",
       "3       4291  Counter-Strike: Global Offensive   \n",
       "4       5286                Tomb Raider (2013)   \n",
       "...      ...                               ...   \n",
       "19995  20304              Fallen: A2P Protocol   \n",
       "19996  19999  MUD Motocross World Championship   \n",
       "19997  18168                        Lepofrenia   \n",
       "19998  17151               Fables from the Den   \n",
       "19999  17108                  Mysterious Space   \n",
       "\n",
       "                                               platforms  \\\n",
       "0      PC|PlayStation 5|Xbox Series S/X|PlayStation 4...   \n",
       "1      PlayStation 5|Xbox Series S/X|macOS|PlayStatio...   \n",
       "2         PlayStation 3|PC|Xbox 360|Linux|macOS|Xbox One   \n",
       "3                        PC|Linux|Xbox 360|PlayStation 3   \n",
       "4      PlayStation 3|Xbox 360|macOS|PC|Xbox One|PlayS...   \n",
       "...                                                  ...   \n",
       "19995                       PlayStation 4|Linux|macOS|PC   \n",
       "19996                  PlayStation 3|PS Vita|PC|Xbox 360   \n",
       "19997                                                 PC   \n",
       "19998                                     macOS|PC|Linux   \n",
       "19999                                                 PC   \n",
       "\n",
       "                         genres  \\\n",
       "0                        Action   \n",
       "1                    Action|RPG   \n",
       "2                Shooter|Puzzle   \n",
       "3                       Shooter   \n",
       "4                        Action   \n",
       "...                         ...   \n",
       "19995        RPG|Strategy|Indie   \n",
       "19996  Simulation|Sports|Racing   \n",
       "19997       Adventure|RPG|Indie   \n",
       "19998                       NaN   \n",
       "19999              Action|Indie   \n",
       "\n",
       "                                                  stores  \\\n",
       "0      Steam|PlayStation Store|Epic Games|Xbox 360 St...   \n",
       "1      GOG|PlayStation Store|Steam|Xbox Store|Nintend...   \n",
       "2      Xbox Store|Steam|PlayStation Store|Xbox 360 Store   \n",
       "3                 PlayStation Store|Steam|Xbox 360 Store   \n",
       "4      Xbox 360 Store|Steam|PlayStation Store|Google ...   \n",
       "...                                                  ...   \n",
       "19995                            PlayStation Store|Steam   \n",
       "19996                            PlayStation Store|Steam   \n",
       "19997                                              Steam   \n",
       "19998                                              Steam   \n",
       "19999                                              Steam   \n",
       "\n",
       "                                                    tags  \n",
       "0      Singleplayer|Steam Achievements|Multiplayer|Fu...  \n",
       "1      Singleplayer|Full controller support|Atmospher...  \n",
       "2      Singleplayer|Steam Achievements|Multiplayer|Fu...  \n",
       "3      Steam Achievements|Multiplayer|Full controller...  \n",
       "4      Singleplayer|Multiplayer|Full controller suppo...  \n",
       "...                                                  ...  \n",
       "19995  Singleplayer|Steam Achievements|Full controlle...  \n",
       "19996  Singleplayer|Steam Achievements|Multiplayer|St...  \n",
       "19997  Singleplayer|Steam Achievements|steam-trading-...  \n",
       "19998                              Design & Illustration  \n",
       "19999  Singleplayer|Steam Achievements|Full controlle...  \n",
       "\n",
       "[20000 rows x 6 columns]"
      ],
      "text/html": [
       "<div>\n",
       "<style scoped>\n",
       "    .dataframe tbody tr th:only-of-type {\n",
       "        vertical-align: middle;\n",
       "    }\n",
       "\n",
       "    .dataframe tbody tr th {\n",
       "        vertical-align: top;\n",
       "    }\n",
       "\n",
       "    .dataframe thead th {\n",
       "        text-align: right;\n",
       "    }\n",
       "</style>\n",
       "<table border=\"1\" class=\"dataframe\">\n",
       "  <thead>\n",
       "    <tr style=\"text-align: right;\">\n",
       "      <th></th>\n",
       "      <th>id</th>\n",
       "      <th>name</th>\n",
       "      <th>platforms</th>\n",
       "      <th>genres</th>\n",
       "      <th>stores</th>\n",
       "      <th>tags</th>\n",
       "    </tr>\n",
       "  </thead>\n",
       "  <tbody>\n",
       "    <tr>\n",
       "      <th>0</th>\n",
       "      <td>3498</td>\n",
       "      <td>Grand Theft Auto V</td>\n",
       "      <td>PC|PlayStation 5|Xbox Series S/X|PlayStation 4...</td>\n",
       "      <td>Action</td>\n",
       "      <td>Steam|PlayStation Store|Epic Games|Xbox 360 St...</td>\n",
       "      <td>Singleplayer|Steam Achievements|Multiplayer|Fu...</td>\n",
       "    </tr>\n",
       "    <tr>\n",
       "      <th>1</th>\n",
       "      <td>3328</td>\n",
       "      <td>The Witcher 3: Wild Hunt</td>\n",
       "      <td>PlayStation 5|Xbox Series S/X|macOS|PlayStatio...</td>\n",
       "      <td>Action|RPG</td>\n",
       "      <td>GOG|PlayStation Store|Steam|Xbox Store|Nintend...</td>\n",
       "      <td>Singleplayer|Full controller support|Atmospher...</td>\n",
       "    </tr>\n",
       "    <tr>\n",
       "      <th>2</th>\n",
       "      <td>4200</td>\n",
       "      <td>Portal 2</td>\n",
       "      <td>PlayStation 3|PC|Xbox 360|Linux|macOS|Xbox One</td>\n",
       "      <td>Shooter|Puzzle</td>\n",
       "      <td>Xbox Store|Steam|PlayStation Store|Xbox 360 Store</td>\n",
       "      <td>Singleplayer|Steam Achievements|Multiplayer|Fu...</td>\n",
       "    </tr>\n",
       "    <tr>\n",
       "      <th>3</th>\n",
       "      <td>4291</td>\n",
       "      <td>Counter-Strike: Global Offensive</td>\n",
       "      <td>PC|Linux|Xbox 360|PlayStation 3</td>\n",
       "      <td>Shooter</td>\n",
       "      <td>PlayStation Store|Steam|Xbox 360 Store</td>\n",
       "      <td>Steam Achievements|Multiplayer|Full controller...</td>\n",
       "    </tr>\n",
       "    <tr>\n",
       "      <th>4</th>\n",
       "      <td>5286</td>\n",
       "      <td>Tomb Raider (2013)</td>\n",
       "      <td>PlayStation 3|Xbox 360|macOS|PC|Xbox One|PlayS...</td>\n",
       "      <td>Action</td>\n",
       "      <td>Xbox 360 Store|Steam|PlayStation Store|Google ...</td>\n",
       "      <td>Singleplayer|Multiplayer|Full controller suppo...</td>\n",
       "    </tr>\n",
       "    <tr>\n",
       "      <th>...</th>\n",
       "      <td>...</td>\n",
       "      <td>...</td>\n",
       "      <td>...</td>\n",
       "      <td>...</td>\n",
       "      <td>...</td>\n",
       "      <td>...</td>\n",
       "    </tr>\n",
       "    <tr>\n",
       "      <th>19995</th>\n",
       "      <td>20304</td>\n",
       "      <td>Fallen: A2P Protocol</td>\n",
       "      <td>PlayStation 4|Linux|macOS|PC</td>\n",
       "      <td>RPG|Strategy|Indie</td>\n",
       "      <td>PlayStation Store|Steam</td>\n",
       "      <td>Singleplayer|Steam Achievements|Full controlle...</td>\n",
       "    </tr>\n",
       "    <tr>\n",
       "      <th>19996</th>\n",
       "      <td>19999</td>\n",
       "      <td>MUD Motocross World Championship</td>\n",
       "      <td>PlayStation 3|PS Vita|PC|Xbox 360</td>\n",
       "      <td>Simulation|Sports|Racing</td>\n",
       "      <td>PlayStation Store|Steam</td>\n",
       "      <td>Singleplayer|Steam Achievements|Multiplayer|St...</td>\n",
       "    </tr>\n",
       "    <tr>\n",
       "      <th>19997</th>\n",
       "      <td>18168</td>\n",
       "      <td>Lepofrenia</td>\n",
       "      <td>PC</td>\n",
       "      <td>Adventure|RPG|Indie</td>\n",
       "      <td>Steam</td>\n",
       "      <td>Singleplayer|Steam Achievements|steam-trading-...</td>\n",
       "    </tr>\n",
       "    <tr>\n",
       "      <th>19998</th>\n",
       "      <td>17151</td>\n",
       "      <td>Fables from the Den</td>\n",
       "      <td>macOS|PC|Linux</td>\n",
       "      <td>NaN</td>\n",
       "      <td>Steam</td>\n",
       "      <td>Design &amp; Illustration</td>\n",
       "    </tr>\n",
       "    <tr>\n",
       "      <th>19999</th>\n",
       "      <td>17108</td>\n",
       "      <td>Mysterious Space</td>\n",
       "      <td>PC</td>\n",
       "      <td>Action|Indie</td>\n",
       "      <td>Steam</td>\n",
       "      <td>Singleplayer|Steam Achievements|Full controlle...</td>\n",
       "    </tr>\n",
       "  </tbody>\n",
       "</table>\n",
       "<p>20000 rows × 6 columns</p>\n",
       "</div>"
      ]
     },
     "execution_count": 15,
     "metadata": {},
     "output_type": "execute_result"
    }
   ],
   "execution_count": 15
  },
  {
   "cell_type": "code",
   "source": [
    "game['stores'].isnull().sum()"
   ],
   "metadata": {
    "id": "cyyK54R7cYDn",
    "outputId": "e8f870e5-ee21-41a1-f2f9-2d1c2fdbaf31",
    "colab": {
     "base_uri": "https://localhost:8080/"
    },
    "ExecuteTime": {
     "end_time": "2025-10-31T16:43:52.525977Z",
     "start_time": "2025-10-31T16:43:52.520696Z"
    }
   },
   "outputs": [
    {
     "data": {
      "text/plain": [
       "np.int64(1159)"
      ]
     },
     "execution_count": 16,
     "metadata": {},
     "output_type": "execute_result"
    }
   ],
   "execution_count": 16
  },
  {
   "cell_type": "code",
   "source": [
    "game['tags'].isnull().sum()"
   ],
   "metadata": {
    "id": "jiLvezXuci26",
    "outputId": "10da5af2-afa4-4449-b18d-1dc8d8d6fee3",
    "colab": {
     "base_uri": "https://localhost:8080/"
    },
    "ExecuteTime": {
     "end_time": "2025-10-31T16:43:52.580783Z",
     "start_time": "2025-10-31T16:43:52.574561Z"
    }
   },
   "outputs": [
    {
     "data": {
      "text/plain": [
       "np.int64(678)"
      ]
     },
     "execution_count": 17,
     "metadata": {},
     "output_type": "execute_result"
    }
   ],
   "execution_count": 17
  },
  {
   "cell_type": "code",
   "source": [
    "game = game.dropna(subset=['genres', 'stores', 'tags', 'platforms'])"
   ],
   "metadata": {
    "id": "X6xmoZwbS0zs",
    "ExecuteTime": {
     "end_time": "2025-10-31T16:43:52.654683Z",
     "start_time": "2025-10-31T16:43:52.646666Z"
    }
   },
   "outputs": [],
   "execution_count": 18
  },
  {
   "cell_type": "code",
   "source": [
    "game"
   ],
   "metadata": {
    "colab": {
     "base_uri": "https://localhost:8080/",
     "height": 721
    },
    "id": "MGyfhPogHFvd",
    "outputId": "2e5bf8a5-0584-4bba-87fa-f8b2fb00995c",
    "ExecuteTime": {
     "end_time": "2025-10-31T16:43:52.700126Z",
     "start_time": "2025-10-31T16:43:52.693776Z"
    }
   },
   "outputs": [
    {
     "data": {
      "text/plain": [
       "          id                              name  \\\n",
       "0       3498                Grand Theft Auto V   \n",
       "1       3328          The Witcher 3: Wild Hunt   \n",
       "2       4200                          Portal 2   \n",
       "3       4291  Counter-Strike: Global Offensive   \n",
       "4       5286                Tomb Raider (2013)   \n",
       "...      ...                               ...   \n",
       "19994  20370                     We Are Legion   \n",
       "19995  20304              Fallen: A2P Protocol   \n",
       "19996  19999  MUD Motocross World Championship   \n",
       "19997  18168                        Lepofrenia   \n",
       "19999  17108                  Mysterious Space   \n",
       "\n",
       "                                               platforms  \\\n",
       "0      PC|PlayStation 5|Xbox Series S/X|PlayStation 4...   \n",
       "1      PlayStation 5|Xbox Series S/X|macOS|PlayStatio...   \n",
       "2         PlayStation 3|PC|Xbox 360|Linux|macOS|Xbox One   \n",
       "3                        PC|Linux|Xbox 360|PlayStation 3   \n",
       "4      PlayStation 3|Xbox 360|macOS|PC|Xbox One|PlayS...   \n",
       "...                                                  ...   \n",
       "19994                                     Linux|macOS|PC   \n",
       "19995                       PlayStation 4|Linux|macOS|PC   \n",
       "19996                  PlayStation 3|PS Vita|PC|Xbox 360   \n",
       "19997                                                 PC   \n",
       "19999                                                 PC   \n",
       "\n",
       "                         genres  \\\n",
       "0                        Action   \n",
       "1                    Action|RPG   \n",
       "2                Shooter|Puzzle   \n",
       "3                       Shooter   \n",
       "4                        Action   \n",
       "...                         ...   \n",
       "19994            Strategy|Indie   \n",
       "19995        RPG|Strategy|Indie   \n",
       "19996  Simulation|Sports|Racing   \n",
       "19997       Adventure|RPG|Indie   \n",
       "19999              Action|Indie   \n",
       "\n",
       "                                                  stores  \\\n",
       "0      Steam|PlayStation Store|Epic Games|Xbox 360 St...   \n",
       "1      GOG|PlayStation Store|Steam|Xbox Store|Nintend...   \n",
       "2      Xbox Store|Steam|PlayStation Store|Xbox 360 Store   \n",
       "3                 PlayStation Store|Steam|Xbox 360 Store   \n",
       "4      Xbox 360 Store|Steam|PlayStation Store|Google ...   \n",
       "...                                                  ...   \n",
       "19994                                              Steam   \n",
       "19995                            PlayStation Store|Steam   \n",
       "19996                            PlayStation Store|Steam   \n",
       "19997                                              Steam   \n",
       "19999                                              Steam   \n",
       "\n",
       "                                                    tags  \n",
       "0      Singleplayer|Steam Achievements|Multiplayer|Fu...  \n",
       "1      Singleplayer|Full controller support|Atmospher...  \n",
       "2      Singleplayer|Steam Achievements|Multiplayer|Fu...  \n",
       "3      Steam Achievements|Multiplayer|Full controller...  \n",
       "4      Singleplayer|Multiplayer|Full controller suppo...  \n",
       "...                                                  ...  \n",
       "19994                                        Multiplayer  \n",
       "19995  Singleplayer|Steam Achievements|Full controlle...  \n",
       "19996  Singleplayer|Steam Achievements|Multiplayer|St...  \n",
       "19997  Singleplayer|Steam Achievements|steam-trading-...  \n",
       "19999  Singleplayer|Steam Achievements|Full controlle...  \n",
       "\n",
       "[18284 rows x 6 columns]"
      ],
      "text/html": [
       "<div>\n",
       "<style scoped>\n",
       "    .dataframe tbody tr th:only-of-type {\n",
       "        vertical-align: middle;\n",
       "    }\n",
       "\n",
       "    .dataframe tbody tr th {\n",
       "        vertical-align: top;\n",
       "    }\n",
       "\n",
       "    .dataframe thead th {\n",
       "        text-align: right;\n",
       "    }\n",
       "</style>\n",
       "<table border=\"1\" class=\"dataframe\">\n",
       "  <thead>\n",
       "    <tr style=\"text-align: right;\">\n",
       "      <th></th>\n",
       "      <th>id</th>\n",
       "      <th>name</th>\n",
       "      <th>platforms</th>\n",
       "      <th>genres</th>\n",
       "      <th>stores</th>\n",
       "      <th>tags</th>\n",
       "    </tr>\n",
       "  </thead>\n",
       "  <tbody>\n",
       "    <tr>\n",
       "      <th>0</th>\n",
       "      <td>3498</td>\n",
       "      <td>Grand Theft Auto V</td>\n",
       "      <td>PC|PlayStation 5|Xbox Series S/X|PlayStation 4...</td>\n",
       "      <td>Action</td>\n",
       "      <td>Steam|PlayStation Store|Epic Games|Xbox 360 St...</td>\n",
       "      <td>Singleplayer|Steam Achievements|Multiplayer|Fu...</td>\n",
       "    </tr>\n",
       "    <tr>\n",
       "      <th>1</th>\n",
       "      <td>3328</td>\n",
       "      <td>The Witcher 3: Wild Hunt</td>\n",
       "      <td>PlayStation 5|Xbox Series S/X|macOS|PlayStatio...</td>\n",
       "      <td>Action|RPG</td>\n",
       "      <td>GOG|PlayStation Store|Steam|Xbox Store|Nintend...</td>\n",
       "      <td>Singleplayer|Full controller support|Atmospher...</td>\n",
       "    </tr>\n",
       "    <tr>\n",
       "      <th>2</th>\n",
       "      <td>4200</td>\n",
       "      <td>Portal 2</td>\n",
       "      <td>PlayStation 3|PC|Xbox 360|Linux|macOS|Xbox One</td>\n",
       "      <td>Shooter|Puzzle</td>\n",
       "      <td>Xbox Store|Steam|PlayStation Store|Xbox 360 Store</td>\n",
       "      <td>Singleplayer|Steam Achievements|Multiplayer|Fu...</td>\n",
       "    </tr>\n",
       "    <tr>\n",
       "      <th>3</th>\n",
       "      <td>4291</td>\n",
       "      <td>Counter-Strike: Global Offensive</td>\n",
       "      <td>PC|Linux|Xbox 360|PlayStation 3</td>\n",
       "      <td>Shooter</td>\n",
       "      <td>PlayStation Store|Steam|Xbox 360 Store</td>\n",
       "      <td>Steam Achievements|Multiplayer|Full controller...</td>\n",
       "    </tr>\n",
       "    <tr>\n",
       "      <th>4</th>\n",
       "      <td>5286</td>\n",
       "      <td>Tomb Raider (2013)</td>\n",
       "      <td>PlayStation 3|Xbox 360|macOS|PC|Xbox One|PlayS...</td>\n",
       "      <td>Action</td>\n",
       "      <td>Xbox 360 Store|Steam|PlayStation Store|Google ...</td>\n",
       "      <td>Singleplayer|Multiplayer|Full controller suppo...</td>\n",
       "    </tr>\n",
       "    <tr>\n",
       "      <th>...</th>\n",
       "      <td>...</td>\n",
       "      <td>...</td>\n",
       "      <td>...</td>\n",
       "      <td>...</td>\n",
       "      <td>...</td>\n",
       "      <td>...</td>\n",
       "    </tr>\n",
       "    <tr>\n",
       "      <th>19994</th>\n",
       "      <td>20370</td>\n",
       "      <td>We Are Legion</td>\n",
       "      <td>Linux|macOS|PC</td>\n",
       "      <td>Strategy|Indie</td>\n",
       "      <td>Steam</td>\n",
       "      <td>Multiplayer</td>\n",
       "    </tr>\n",
       "    <tr>\n",
       "      <th>19995</th>\n",
       "      <td>20304</td>\n",
       "      <td>Fallen: A2P Protocol</td>\n",
       "      <td>PlayStation 4|Linux|macOS|PC</td>\n",
       "      <td>RPG|Strategy|Indie</td>\n",
       "      <td>PlayStation Store|Steam</td>\n",
       "      <td>Singleplayer|Steam Achievements|Full controlle...</td>\n",
       "    </tr>\n",
       "    <tr>\n",
       "      <th>19996</th>\n",
       "      <td>19999</td>\n",
       "      <td>MUD Motocross World Championship</td>\n",
       "      <td>PlayStation 3|PS Vita|PC|Xbox 360</td>\n",
       "      <td>Simulation|Sports|Racing</td>\n",
       "      <td>PlayStation Store|Steam</td>\n",
       "      <td>Singleplayer|Steam Achievements|Multiplayer|St...</td>\n",
       "    </tr>\n",
       "    <tr>\n",
       "      <th>19997</th>\n",
       "      <td>18168</td>\n",
       "      <td>Lepofrenia</td>\n",
       "      <td>PC</td>\n",
       "      <td>Adventure|RPG|Indie</td>\n",
       "      <td>Steam</td>\n",
       "      <td>Singleplayer|Steam Achievements|steam-trading-...</td>\n",
       "    </tr>\n",
       "    <tr>\n",
       "      <th>19999</th>\n",
       "      <td>17108</td>\n",
       "      <td>Mysterious Space</td>\n",
       "      <td>PC</td>\n",
       "      <td>Action|Indie</td>\n",
       "      <td>Steam</td>\n",
       "      <td>Singleplayer|Steam Achievements|Full controlle...</td>\n",
       "    </tr>\n",
       "  </tbody>\n",
       "</table>\n",
       "<p>18284 rows × 6 columns</p>\n",
       "</div>"
      ]
     },
     "execution_count": 19,
     "metadata": {},
     "output_type": "execute_result"
    }
   ],
   "execution_count": 19
  },
  {
   "cell_type": "code",
   "source": [
    "def blank_space_remover(obj):\n",
    "  return obj.str.replace(' ', '', regex=False)"
   ],
   "metadata": {
    "id": "vl7w4_vdFcM9",
    "ExecuteTime": {
     "end_time": "2025-10-31T16:43:52.757196Z",
     "start_time": "2025-10-31T16:43:52.754285Z"
    }
   },
   "outputs": [],
   "execution_count": 20
  },
  {
   "cell_type": "code",
   "source": [
    "game[['platforms', 'genres', 'stores', 'tags']] = game[['platforms', 'genres', 'stores', 'tags']].apply(blank_space_remover)"
   ],
   "metadata": {
    "colab": {
     "base_uri": "https://localhost:8080/"
    },
    "id": "UUmeUU1pFcQb",
    "outputId": "4a27fe29-a1d8-4e97-c0ae-77a5da1ce104",
    "ExecuteTime": {
     "end_time": "2025-10-31T16:43:52.860556Z",
     "start_time": "2025-10-31T16:43:52.836210Z"
    }
   },
   "outputs": [
    {
     "name": "stderr",
     "output_type": "stream",
     "text": [
      "C:\\Users\\Harsh Giri\\AppData\\Local\\Temp\\ipykernel_21288\\2774913022.py:1: SettingWithCopyWarning: \n",
      "A value is trying to be set on a copy of a slice from a DataFrame.\n",
      "Try using .loc[row_indexer,col_indexer] = value instead\n",
      "\n",
      "See the caveats in the documentation: https://pandas.pydata.org/pandas-docs/stable/user_guide/indexing.html#returning-a-view-versus-a-copy\n",
      "  game[['platforms', 'genres', 'stores', 'tags']] = game[['platforms', 'genres', 'stores', 'tags']].apply(blank_space_remover)\n"
     ]
    }
   ],
   "execution_count": 21
  },
  {
   "cell_type": "code",
   "source": [
    "def pipe_remover(obj):\n",
    "  return obj.str.replace('|', ' ', regex=False)"
   ],
   "metadata": {
    "id": "pdSjm7V9-DjB",
    "ExecuteTime": {
     "end_time": "2025-10-31T16:43:52.873586Z",
     "start_time": "2025-10-31T16:43:52.870564Z"
    }
   },
   "outputs": [],
   "execution_count": 22
  },
  {
   "cell_type": "code",
   "source": [
    "game[['platforms', 'genres', 'stores', 'tags']] = game[['platforms', 'genres', 'stores', 'tags']].apply(pipe_remover)"
   ],
   "metadata": {
    "colab": {
     "base_uri": "https://localhost:8080/"
    },
    "id": "IfXezBcX9bhH",
    "outputId": "b422baad-6951-434a-e42d-ec099b2db758",
    "ExecuteTime": {
     "end_time": "2025-10-31T16:43:52.955977Z",
     "start_time": "2025-10-31T16:43:52.932458Z"
    }
   },
   "outputs": [
    {
     "name": "stderr",
     "output_type": "stream",
     "text": [
      "C:\\Users\\Harsh Giri\\AppData\\Local\\Temp\\ipykernel_21288\\4195758581.py:1: SettingWithCopyWarning: \n",
      "A value is trying to be set on a copy of a slice from a DataFrame.\n",
      "Try using .loc[row_indexer,col_indexer] = value instead\n",
      "\n",
      "See the caveats in the documentation: https://pandas.pydata.org/pandas-docs/stable/user_guide/indexing.html#returning-a-view-versus-a-copy\n",
      "  game[['platforms', 'genres', 'stores', 'tags']] = game[['platforms', 'genres', 'stores', 'tags']].apply(pipe_remover)\n"
     ]
    }
   ],
   "execution_count": 23
  },
  {
   "cell_type": "code",
   "source": [
    "game"
   ],
   "metadata": {
    "colab": {
     "base_uri": "https://localhost:8080/",
     "height": 894
    },
    "id": "VJPDOegN9rHt",
    "outputId": "ca0f2d1e-c2c6-4e2c-b7b1-e81a67c0c053",
    "ExecuteTime": {
     "end_time": "2025-10-31T16:43:53.008242Z",
     "start_time": "2025-10-31T16:43:53.001208Z"
    }
   },
   "outputs": [
    {
     "data": {
      "text/plain": [
       "          id                              name  \\\n",
       "0       3498                Grand Theft Auto V   \n",
       "1       3328          The Witcher 3: Wild Hunt   \n",
       "2       4200                          Portal 2   \n",
       "3       4291  Counter-Strike: Global Offensive   \n",
       "4       5286                Tomb Raider (2013)   \n",
       "...      ...                               ...   \n",
       "19994  20370                     We Are Legion   \n",
       "19995  20304              Fallen: A2P Protocol   \n",
       "19996  19999  MUD Motocross World Championship   \n",
       "19997  18168                        Lepofrenia   \n",
       "19999  17108                  Mysterious Space   \n",
       "\n",
       "                                               platforms  \\\n",
       "0      PC PlayStation5 XboxSeriesS/X PlayStation4 Pla...   \n",
       "1      PlayStation5 XboxSeriesS/X macOS PlayStation4 ...   \n",
       "2            PlayStation3 PC Xbox360 Linux macOS XboxOne   \n",
       "3                          PC Linux Xbox360 PlayStation3   \n",
       "4      PlayStation3 Xbox360 macOS PC XboxOne PlayStat...   \n",
       "...                                                  ...   \n",
       "19994                                     Linux macOS PC   \n",
       "19995                        PlayStation4 Linux macOS PC   \n",
       "19996                     PlayStation3 PSVita PC Xbox360   \n",
       "19997                                                 PC   \n",
       "19999                                                 PC   \n",
       "\n",
       "                         genres  \\\n",
       "0                        Action   \n",
       "1                    Action RPG   \n",
       "2                Shooter Puzzle   \n",
       "3                       Shooter   \n",
       "4                        Action   \n",
       "...                         ...   \n",
       "19994            Strategy Indie   \n",
       "19995        RPG Strategy Indie   \n",
       "19996  Simulation Sports Racing   \n",
       "19997       Adventure RPG Indie   \n",
       "19999              Action Indie   \n",
       "\n",
       "                                                  stores  \\\n",
       "0      Steam PlayStationStore EpicGames Xbox360Store ...   \n",
       "1      GOG PlayStationStore Steam XboxStore NintendoS...   \n",
       "2          XboxStore Steam PlayStationStore Xbox360Store   \n",
       "3                    PlayStationStore Steam Xbox360Store   \n",
       "4      Xbox360Store Steam PlayStationStore GooglePlay...   \n",
       "...                                                  ...   \n",
       "19994                                              Steam   \n",
       "19995                             PlayStationStore Steam   \n",
       "19996                             PlayStationStore Steam   \n",
       "19997                                              Steam   \n",
       "19999                                              Steam   \n",
       "\n",
       "                                                    tags  \n",
       "0      Singleplayer SteamAchievements Multiplayer Ful...  \n",
       "1      Singleplayer Fullcontrollersupport Atmospheric...  \n",
       "2      Singleplayer SteamAchievements Multiplayer Ful...  \n",
       "3      SteamAchievements Multiplayer Fullcontrollersu...  \n",
       "4      Singleplayer Multiplayer Fullcontrollersupport...  \n",
       "...                                                  ...  \n",
       "19994                                        Multiplayer  \n",
       "19995  Singleplayer SteamAchievements Fullcontrollers...  \n",
       "19996  Singleplayer SteamAchievements Multiplayer Ste...  \n",
       "19997  Singleplayer SteamAchievements steam-trading-c...  \n",
       "19999  Singleplayer SteamAchievements Fullcontrollers...  \n",
       "\n",
       "[18284 rows x 6 columns]"
      ],
      "text/html": [
       "<div>\n",
       "<style scoped>\n",
       "    .dataframe tbody tr th:only-of-type {\n",
       "        vertical-align: middle;\n",
       "    }\n",
       "\n",
       "    .dataframe tbody tr th {\n",
       "        vertical-align: top;\n",
       "    }\n",
       "\n",
       "    .dataframe thead th {\n",
       "        text-align: right;\n",
       "    }\n",
       "</style>\n",
       "<table border=\"1\" class=\"dataframe\">\n",
       "  <thead>\n",
       "    <tr style=\"text-align: right;\">\n",
       "      <th></th>\n",
       "      <th>id</th>\n",
       "      <th>name</th>\n",
       "      <th>platforms</th>\n",
       "      <th>genres</th>\n",
       "      <th>stores</th>\n",
       "      <th>tags</th>\n",
       "    </tr>\n",
       "  </thead>\n",
       "  <tbody>\n",
       "    <tr>\n",
       "      <th>0</th>\n",
       "      <td>3498</td>\n",
       "      <td>Grand Theft Auto V</td>\n",
       "      <td>PC PlayStation5 XboxSeriesS/X PlayStation4 Pla...</td>\n",
       "      <td>Action</td>\n",
       "      <td>Steam PlayStationStore EpicGames Xbox360Store ...</td>\n",
       "      <td>Singleplayer SteamAchievements Multiplayer Ful...</td>\n",
       "    </tr>\n",
       "    <tr>\n",
       "      <th>1</th>\n",
       "      <td>3328</td>\n",
       "      <td>The Witcher 3: Wild Hunt</td>\n",
       "      <td>PlayStation5 XboxSeriesS/X macOS PlayStation4 ...</td>\n",
       "      <td>Action RPG</td>\n",
       "      <td>GOG PlayStationStore Steam XboxStore NintendoS...</td>\n",
       "      <td>Singleplayer Fullcontrollersupport Atmospheric...</td>\n",
       "    </tr>\n",
       "    <tr>\n",
       "      <th>2</th>\n",
       "      <td>4200</td>\n",
       "      <td>Portal 2</td>\n",
       "      <td>PlayStation3 PC Xbox360 Linux macOS XboxOne</td>\n",
       "      <td>Shooter Puzzle</td>\n",
       "      <td>XboxStore Steam PlayStationStore Xbox360Store</td>\n",
       "      <td>Singleplayer SteamAchievements Multiplayer Ful...</td>\n",
       "    </tr>\n",
       "    <tr>\n",
       "      <th>3</th>\n",
       "      <td>4291</td>\n",
       "      <td>Counter-Strike: Global Offensive</td>\n",
       "      <td>PC Linux Xbox360 PlayStation3</td>\n",
       "      <td>Shooter</td>\n",
       "      <td>PlayStationStore Steam Xbox360Store</td>\n",
       "      <td>SteamAchievements Multiplayer Fullcontrollersu...</td>\n",
       "    </tr>\n",
       "    <tr>\n",
       "      <th>4</th>\n",
       "      <td>5286</td>\n",
       "      <td>Tomb Raider (2013)</td>\n",
       "      <td>PlayStation3 Xbox360 macOS PC XboxOne PlayStat...</td>\n",
       "      <td>Action</td>\n",
       "      <td>Xbox360Store Steam PlayStationStore GooglePlay...</td>\n",
       "      <td>Singleplayer Multiplayer Fullcontrollersupport...</td>\n",
       "    </tr>\n",
       "    <tr>\n",
       "      <th>...</th>\n",
       "      <td>...</td>\n",
       "      <td>...</td>\n",
       "      <td>...</td>\n",
       "      <td>...</td>\n",
       "      <td>...</td>\n",
       "      <td>...</td>\n",
       "    </tr>\n",
       "    <tr>\n",
       "      <th>19994</th>\n",
       "      <td>20370</td>\n",
       "      <td>We Are Legion</td>\n",
       "      <td>Linux macOS PC</td>\n",
       "      <td>Strategy Indie</td>\n",
       "      <td>Steam</td>\n",
       "      <td>Multiplayer</td>\n",
       "    </tr>\n",
       "    <tr>\n",
       "      <th>19995</th>\n",
       "      <td>20304</td>\n",
       "      <td>Fallen: A2P Protocol</td>\n",
       "      <td>PlayStation4 Linux macOS PC</td>\n",
       "      <td>RPG Strategy Indie</td>\n",
       "      <td>PlayStationStore Steam</td>\n",
       "      <td>Singleplayer SteamAchievements Fullcontrollers...</td>\n",
       "    </tr>\n",
       "    <tr>\n",
       "      <th>19996</th>\n",
       "      <td>19999</td>\n",
       "      <td>MUD Motocross World Championship</td>\n",
       "      <td>PlayStation3 PSVita PC Xbox360</td>\n",
       "      <td>Simulation Sports Racing</td>\n",
       "      <td>PlayStationStore Steam</td>\n",
       "      <td>Singleplayer SteamAchievements Multiplayer Ste...</td>\n",
       "    </tr>\n",
       "    <tr>\n",
       "      <th>19997</th>\n",
       "      <td>18168</td>\n",
       "      <td>Lepofrenia</td>\n",
       "      <td>PC</td>\n",
       "      <td>Adventure RPG Indie</td>\n",
       "      <td>Steam</td>\n",
       "      <td>Singleplayer SteamAchievements steam-trading-c...</td>\n",
       "    </tr>\n",
       "    <tr>\n",
       "      <th>19999</th>\n",
       "      <td>17108</td>\n",
       "      <td>Mysterious Space</td>\n",
       "      <td>PC</td>\n",
       "      <td>Action Indie</td>\n",
       "      <td>Steam</td>\n",
       "      <td>Singleplayer SteamAchievements Fullcontrollers...</td>\n",
       "    </tr>\n",
       "  </tbody>\n",
       "</table>\n",
       "<p>18284 rows × 6 columns</p>\n",
       "</div>"
      ]
     },
     "execution_count": 24,
     "metadata": {},
     "output_type": "execute_result"
    }
   ],
   "execution_count": 24
  },
  {
   "cell_type": "code",
   "source": [
    "game['tags'] = game['platforms'] + ' ' + game['genres'] + ' ' + game['stores'] + ' ' + game['tags']"
   ],
   "metadata": {
    "colab": {
     "base_uri": "https://localhost:8080/"
    },
    "id": "I-9Sjj1c-kjB",
    "outputId": "56e94b29-c07e-4ab8-bee8-4c7355b49a90",
    "ExecuteTime": {
     "end_time": "2025-10-31T16:43:53.070385Z",
     "start_time": "2025-10-31T16:43:53.057272Z"
    }
   },
   "outputs": [
    {
     "name": "stderr",
     "output_type": "stream",
     "text": [
      "C:\\Users\\Harsh Giri\\AppData\\Local\\Temp\\ipykernel_21288\\2440153178.py:1: SettingWithCopyWarning: \n",
      "A value is trying to be set on a copy of a slice from a DataFrame.\n",
      "Try using .loc[row_indexer,col_indexer] = value instead\n",
      "\n",
      "See the caveats in the documentation: https://pandas.pydata.org/pandas-docs/stable/user_guide/indexing.html#returning-a-view-versus-a-copy\n",
      "  game['tags'] = game['platforms'] + ' ' + game['genres'] + ' ' + game['stores'] + ' ' + game['tags']\n"
     ]
    }
   ],
   "execution_count": 25
  },
  {
   "cell_type": "code",
   "source": [
    "game"
   ],
   "metadata": {
    "colab": {
     "base_uri": "https://localhost:8080/",
     "height": 857
    },
    "id": "vtutX0r2_Cxz",
    "outputId": "07271dca-8acc-4d7d-a840-eeb7b68eb47a",
    "ExecuteTime": {
     "end_time": "2025-10-31T16:43:53.153908Z",
     "start_time": "2025-10-31T16:43:53.145817Z"
    }
   },
   "outputs": [
    {
     "data": {
      "text/plain": [
       "          id                              name  \\\n",
       "0       3498                Grand Theft Auto V   \n",
       "1       3328          The Witcher 3: Wild Hunt   \n",
       "2       4200                          Portal 2   \n",
       "3       4291  Counter-Strike: Global Offensive   \n",
       "4       5286                Tomb Raider (2013)   \n",
       "...      ...                               ...   \n",
       "19994  20370                     We Are Legion   \n",
       "19995  20304              Fallen: A2P Protocol   \n",
       "19996  19999  MUD Motocross World Championship   \n",
       "19997  18168                        Lepofrenia   \n",
       "19999  17108                  Mysterious Space   \n",
       "\n",
       "                                               platforms  \\\n",
       "0      PC PlayStation5 XboxSeriesS/X PlayStation4 Pla...   \n",
       "1      PlayStation5 XboxSeriesS/X macOS PlayStation4 ...   \n",
       "2            PlayStation3 PC Xbox360 Linux macOS XboxOne   \n",
       "3                          PC Linux Xbox360 PlayStation3   \n",
       "4      PlayStation3 Xbox360 macOS PC XboxOne PlayStat...   \n",
       "...                                                  ...   \n",
       "19994                                     Linux macOS PC   \n",
       "19995                        PlayStation4 Linux macOS PC   \n",
       "19996                     PlayStation3 PSVita PC Xbox360   \n",
       "19997                                                 PC   \n",
       "19999                                                 PC   \n",
       "\n",
       "                         genres  \\\n",
       "0                        Action   \n",
       "1                    Action RPG   \n",
       "2                Shooter Puzzle   \n",
       "3                       Shooter   \n",
       "4                        Action   \n",
       "...                         ...   \n",
       "19994            Strategy Indie   \n",
       "19995        RPG Strategy Indie   \n",
       "19996  Simulation Sports Racing   \n",
       "19997       Adventure RPG Indie   \n",
       "19999              Action Indie   \n",
       "\n",
       "                                                  stores  \\\n",
       "0      Steam PlayStationStore EpicGames Xbox360Store ...   \n",
       "1      GOG PlayStationStore Steam XboxStore NintendoS...   \n",
       "2          XboxStore Steam PlayStationStore Xbox360Store   \n",
       "3                    PlayStationStore Steam Xbox360Store   \n",
       "4      Xbox360Store Steam PlayStationStore GooglePlay...   \n",
       "...                                                  ...   \n",
       "19994                                              Steam   \n",
       "19995                             PlayStationStore Steam   \n",
       "19996                             PlayStationStore Steam   \n",
       "19997                                              Steam   \n",
       "19999                                              Steam   \n",
       "\n",
       "                                                    tags  \n",
       "0      PC PlayStation5 XboxSeriesS/X PlayStation4 Pla...  \n",
       "1      PlayStation5 XboxSeriesS/X macOS PlayStation4 ...  \n",
       "2      PlayStation3 PC Xbox360 Linux macOS XboxOne Sh...  \n",
       "3      PC Linux Xbox360 PlayStation3 Shooter PlayStat...  \n",
       "4      PlayStation3 Xbox360 macOS PC XboxOne PlayStat...  \n",
       "...                                                  ...  \n",
       "19994    Linux macOS PC Strategy Indie Steam Multiplayer  \n",
       "19995  PlayStation4 Linux macOS PC RPG Strategy Indie...  \n",
       "19996  PlayStation3 PSVita PC Xbox360 Simulation Spor...  \n",
       "19997  PC Adventure RPG Indie Steam Singleplayer Stea...  \n",
       "19999  PC Action Indie Steam Singleplayer SteamAchiev...  \n",
       "\n",
       "[18284 rows x 6 columns]"
      ],
      "text/html": [
       "<div>\n",
       "<style scoped>\n",
       "    .dataframe tbody tr th:only-of-type {\n",
       "        vertical-align: middle;\n",
       "    }\n",
       "\n",
       "    .dataframe tbody tr th {\n",
       "        vertical-align: top;\n",
       "    }\n",
       "\n",
       "    .dataframe thead th {\n",
       "        text-align: right;\n",
       "    }\n",
       "</style>\n",
       "<table border=\"1\" class=\"dataframe\">\n",
       "  <thead>\n",
       "    <tr style=\"text-align: right;\">\n",
       "      <th></th>\n",
       "      <th>id</th>\n",
       "      <th>name</th>\n",
       "      <th>platforms</th>\n",
       "      <th>genres</th>\n",
       "      <th>stores</th>\n",
       "      <th>tags</th>\n",
       "    </tr>\n",
       "  </thead>\n",
       "  <tbody>\n",
       "    <tr>\n",
       "      <th>0</th>\n",
       "      <td>3498</td>\n",
       "      <td>Grand Theft Auto V</td>\n",
       "      <td>PC PlayStation5 XboxSeriesS/X PlayStation4 Pla...</td>\n",
       "      <td>Action</td>\n",
       "      <td>Steam PlayStationStore EpicGames Xbox360Store ...</td>\n",
       "      <td>PC PlayStation5 XboxSeriesS/X PlayStation4 Pla...</td>\n",
       "    </tr>\n",
       "    <tr>\n",
       "      <th>1</th>\n",
       "      <td>3328</td>\n",
       "      <td>The Witcher 3: Wild Hunt</td>\n",
       "      <td>PlayStation5 XboxSeriesS/X macOS PlayStation4 ...</td>\n",
       "      <td>Action RPG</td>\n",
       "      <td>GOG PlayStationStore Steam XboxStore NintendoS...</td>\n",
       "      <td>PlayStation5 XboxSeriesS/X macOS PlayStation4 ...</td>\n",
       "    </tr>\n",
       "    <tr>\n",
       "      <th>2</th>\n",
       "      <td>4200</td>\n",
       "      <td>Portal 2</td>\n",
       "      <td>PlayStation3 PC Xbox360 Linux macOS XboxOne</td>\n",
       "      <td>Shooter Puzzle</td>\n",
       "      <td>XboxStore Steam PlayStationStore Xbox360Store</td>\n",
       "      <td>PlayStation3 PC Xbox360 Linux macOS XboxOne Sh...</td>\n",
       "    </tr>\n",
       "    <tr>\n",
       "      <th>3</th>\n",
       "      <td>4291</td>\n",
       "      <td>Counter-Strike: Global Offensive</td>\n",
       "      <td>PC Linux Xbox360 PlayStation3</td>\n",
       "      <td>Shooter</td>\n",
       "      <td>PlayStationStore Steam Xbox360Store</td>\n",
       "      <td>PC Linux Xbox360 PlayStation3 Shooter PlayStat...</td>\n",
       "    </tr>\n",
       "    <tr>\n",
       "      <th>4</th>\n",
       "      <td>5286</td>\n",
       "      <td>Tomb Raider (2013)</td>\n",
       "      <td>PlayStation3 Xbox360 macOS PC XboxOne PlayStat...</td>\n",
       "      <td>Action</td>\n",
       "      <td>Xbox360Store Steam PlayStationStore GooglePlay...</td>\n",
       "      <td>PlayStation3 Xbox360 macOS PC XboxOne PlayStat...</td>\n",
       "    </tr>\n",
       "    <tr>\n",
       "      <th>...</th>\n",
       "      <td>...</td>\n",
       "      <td>...</td>\n",
       "      <td>...</td>\n",
       "      <td>...</td>\n",
       "      <td>...</td>\n",
       "      <td>...</td>\n",
       "    </tr>\n",
       "    <tr>\n",
       "      <th>19994</th>\n",
       "      <td>20370</td>\n",
       "      <td>We Are Legion</td>\n",
       "      <td>Linux macOS PC</td>\n",
       "      <td>Strategy Indie</td>\n",
       "      <td>Steam</td>\n",
       "      <td>Linux macOS PC Strategy Indie Steam Multiplayer</td>\n",
       "    </tr>\n",
       "    <tr>\n",
       "      <th>19995</th>\n",
       "      <td>20304</td>\n",
       "      <td>Fallen: A2P Protocol</td>\n",
       "      <td>PlayStation4 Linux macOS PC</td>\n",
       "      <td>RPG Strategy Indie</td>\n",
       "      <td>PlayStationStore Steam</td>\n",
       "      <td>PlayStation4 Linux macOS PC RPG Strategy Indie...</td>\n",
       "    </tr>\n",
       "    <tr>\n",
       "      <th>19996</th>\n",
       "      <td>19999</td>\n",
       "      <td>MUD Motocross World Championship</td>\n",
       "      <td>PlayStation3 PSVita PC Xbox360</td>\n",
       "      <td>Simulation Sports Racing</td>\n",
       "      <td>PlayStationStore Steam</td>\n",
       "      <td>PlayStation3 PSVita PC Xbox360 Simulation Spor...</td>\n",
       "    </tr>\n",
       "    <tr>\n",
       "      <th>19997</th>\n",
       "      <td>18168</td>\n",
       "      <td>Lepofrenia</td>\n",
       "      <td>PC</td>\n",
       "      <td>Adventure RPG Indie</td>\n",
       "      <td>Steam</td>\n",
       "      <td>PC Adventure RPG Indie Steam Singleplayer Stea...</td>\n",
       "    </tr>\n",
       "    <tr>\n",
       "      <th>19999</th>\n",
       "      <td>17108</td>\n",
       "      <td>Mysterious Space</td>\n",
       "      <td>PC</td>\n",
       "      <td>Action Indie</td>\n",
       "      <td>Steam</td>\n",
       "      <td>PC Action Indie Steam Singleplayer SteamAchiev...</td>\n",
       "    </tr>\n",
       "  </tbody>\n",
       "</table>\n",
       "<p>18284 rows × 6 columns</p>\n",
       "</div>"
      ]
     },
     "execution_count": 26,
     "metadata": {},
     "output_type": "execute_result"
    }
   ],
   "execution_count": 26
  },
  {
   "cell_type": "code",
   "source": [
    "game = game[['id', 'name', 'tags']]"
   ],
   "metadata": {
    "id": "BpH75UM__D8M",
    "ExecuteTime": {
     "end_time": "2025-10-31T16:43:53.425944Z",
     "start_time": "2025-10-31T16:43:53.422304Z"
    }
   },
   "outputs": [],
   "execution_count": 27
  },
  {
   "cell_type": "code",
   "source": [
    "game"
   ],
   "metadata": {
    "colab": {
     "base_uri": "https://localhost:8080/",
     "height": 423
    },
    "id": "x41cL9s3_JaQ",
    "outputId": "5c0d4bd4-6a3d-41f6-cc69-5e668ff021fe",
    "ExecuteTime": {
     "end_time": "2025-10-31T16:43:53.481574Z",
     "start_time": "2025-10-31T16:43:53.475504Z"
    }
   },
   "outputs": [
    {
     "data": {
      "text/plain": [
       "          id                              name  \\\n",
       "0       3498                Grand Theft Auto V   \n",
       "1       3328          The Witcher 3: Wild Hunt   \n",
       "2       4200                          Portal 2   \n",
       "3       4291  Counter-Strike: Global Offensive   \n",
       "4       5286                Tomb Raider (2013)   \n",
       "...      ...                               ...   \n",
       "19994  20370                     We Are Legion   \n",
       "19995  20304              Fallen: A2P Protocol   \n",
       "19996  19999  MUD Motocross World Championship   \n",
       "19997  18168                        Lepofrenia   \n",
       "19999  17108                  Mysterious Space   \n",
       "\n",
       "                                                    tags  \n",
       "0      PC PlayStation5 XboxSeriesS/X PlayStation4 Pla...  \n",
       "1      PlayStation5 XboxSeriesS/X macOS PlayStation4 ...  \n",
       "2      PlayStation3 PC Xbox360 Linux macOS XboxOne Sh...  \n",
       "3      PC Linux Xbox360 PlayStation3 Shooter PlayStat...  \n",
       "4      PlayStation3 Xbox360 macOS PC XboxOne PlayStat...  \n",
       "...                                                  ...  \n",
       "19994    Linux macOS PC Strategy Indie Steam Multiplayer  \n",
       "19995  PlayStation4 Linux macOS PC RPG Strategy Indie...  \n",
       "19996  PlayStation3 PSVita PC Xbox360 Simulation Spor...  \n",
       "19997  PC Adventure RPG Indie Steam Singleplayer Stea...  \n",
       "19999  PC Action Indie Steam Singleplayer SteamAchiev...  \n",
       "\n",
       "[18284 rows x 3 columns]"
      ],
      "text/html": [
       "<div>\n",
       "<style scoped>\n",
       "    .dataframe tbody tr th:only-of-type {\n",
       "        vertical-align: middle;\n",
       "    }\n",
       "\n",
       "    .dataframe tbody tr th {\n",
       "        vertical-align: top;\n",
       "    }\n",
       "\n",
       "    .dataframe thead th {\n",
       "        text-align: right;\n",
       "    }\n",
       "</style>\n",
       "<table border=\"1\" class=\"dataframe\">\n",
       "  <thead>\n",
       "    <tr style=\"text-align: right;\">\n",
       "      <th></th>\n",
       "      <th>id</th>\n",
       "      <th>name</th>\n",
       "      <th>tags</th>\n",
       "    </tr>\n",
       "  </thead>\n",
       "  <tbody>\n",
       "    <tr>\n",
       "      <th>0</th>\n",
       "      <td>3498</td>\n",
       "      <td>Grand Theft Auto V</td>\n",
       "      <td>PC PlayStation5 XboxSeriesS/X PlayStation4 Pla...</td>\n",
       "    </tr>\n",
       "    <tr>\n",
       "      <th>1</th>\n",
       "      <td>3328</td>\n",
       "      <td>The Witcher 3: Wild Hunt</td>\n",
       "      <td>PlayStation5 XboxSeriesS/X macOS PlayStation4 ...</td>\n",
       "    </tr>\n",
       "    <tr>\n",
       "      <th>2</th>\n",
       "      <td>4200</td>\n",
       "      <td>Portal 2</td>\n",
       "      <td>PlayStation3 PC Xbox360 Linux macOS XboxOne Sh...</td>\n",
       "    </tr>\n",
       "    <tr>\n",
       "      <th>3</th>\n",
       "      <td>4291</td>\n",
       "      <td>Counter-Strike: Global Offensive</td>\n",
       "      <td>PC Linux Xbox360 PlayStation3 Shooter PlayStat...</td>\n",
       "    </tr>\n",
       "    <tr>\n",
       "      <th>4</th>\n",
       "      <td>5286</td>\n",
       "      <td>Tomb Raider (2013)</td>\n",
       "      <td>PlayStation3 Xbox360 macOS PC XboxOne PlayStat...</td>\n",
       "    </tr>\n",
       "    <tr>\n",
       "      <th>...</th>\n",
       "      <td>...</td>\n",
       "      <td>...</td>\n",
       "      <td>...</td>\n",
       "    </tr>\n",
       "    <tr>\n",
       "      <th>19994</th>\n",
       "      <td>20370</td>\n",
       "      <td>We Are Legion</td>\n",
       "      <td>Linux macOS PC Strategy Indie Steam Multiplayer</td>\n",
       "    </tr>\n",
       "    <tr>\n",
       "      <th>19995</th>\n",
       "      <td>20304</td>\n",
       "      <td>Fallen: A2P Protocol</td>\n",
       "      <td>PlayStation4 Linux macOS PC RPG Strategy Indie...</td>\n",
       "    </tr>\n",
       "    <tr>\n",
       "      <th>19996</th>\n",
       "      <td>19999</td>\n",
       "      <td>MUD Motocross World Championship</td>\n",
       "      <td>PlayStation3 PSVita PC Xbox360 Simulation Spor...</td>\n",
       "    </tr>\n",
       "    <tr>\n",
       "      <th>19997</th>\n",
       "      <td>18168</td>\n",
       "      <td>Lepofrenia</td>\n",
       "      <td>PC Adventure RPG Indie Steam Singleplayer Stea...</td>\n",
       "    </tr>\n",
       "    <tr>\n",
       "      <th>19999</th>\n",
       "      <td>17108</td>\n",
       "      <td>Mysterious Space</td>\n",
       "      <td>PC Action Indie Steam Singleplayer SteamAchiev...</td>\n",
       "    </tr>\n",
       "  </tbody>\n",
       "</table>\n",
       "<p>18284 rows × 3 columns</p>\n",
       "</div>"
      ]
     },
     "execution_count": 28,
     "metadata": {},
     "output_type": "execute_result"
    }
   ],
   "execution_count": 28
  },
  {
   "cell_type": "code",
   "source": [
    "game['tags'][0]"
   ],
   "metadata": {
    "colab": {
     "base_uri": "https://localhost:8080/",
     "height": 104
    },
    "id": "hce2E4ZI_JzS",
    "outputId": "b6d57670-9bc3-4adc-c2f4-ab90dc84e7a0",
    "ExecuteTime": {
     "end_time": "2025-10-31T16:43:53.536537Z",
     "start_time": "2025-10-31T16:43:53.531298Z"
    }
   },
   "outputs": [
    {
     "data": {
      "text/plain": [
       "'PC PlayStation5 XboxSeriesS/X PlayStation4 PlayStation3 Xbox360 XboxOne Action Steam PlayStationStore EpicGames Xbox360Store XboxStore Singleplayer SteamAchievements Multiplayer Fullcontrollersupport Atmospheric GreatSoundtrack RPG Co-op OpenWorld cooperative First-Person ThirdPerson Funny Sandbox Comedy Third-PersonShooter Moddable Crime vrmod'"
      ]
     },
     "execution_count": 29,
     "metadata": {},
     "output_type": "execute_result"
    }
   ],
   "execution_count": 29
  },
  {
   "cell_type": "code",
   "source": [
    "game['tags'] = game['tags'].str.lower()"
   ],
   "metadata": {
    "colab": {
     "base_uri": "https://localhost:8080/"
    },
    "id": "cIT_5om9_Sti",
    "outputId": "77384277-4f20-4efa-ba67-3fc8e4610006",
    "ExecuteTime": {
     "end_time": "2025-10-31T16:43:53.629236Z",
     "start_time": "2025-10-31T16:43:53.620181Z"
    }
   },
   "outputs": [
    {
     "name": "stderr",
     "output_type": "stream",
     "text": [
      "C:\\Users\\Harsh Giri\\AppData\\Local\\Temp\\ipykernel_21288\\1078704792.py:1: SettingWithCopyWarning: \n",
      "A value is trying to be set on a copy of a slice from a DataFrame.\n",
      "Try using .loc[row_indexer,col_indexer] = value instead\n",
      "\n",
      "See the caveats in the documentation: https://pandas.pydata.org/pandas-docs/stable/user_guide/indexing.html#returning-a-view-versus-a-copy\n",
      "  game['tags'] = game['tags'].str.lower()\n"
     ]
    }
   ],
   "execution_count": 30
  },
  {
   "cell_type": "code",
   "source": [
    "game"
   ],
   "metadata": {
    "colab": {
     "base_uri": "https://localhost:8080/",
     "height": 423
    },
    "id": "_cnM76DTGU6O",
    "outputId": "519d0258-bf0a-49f4-cc9d-0f15f9cbc4a8",
    "ExecuteTime": {
     "end_time": "2025-10-31T16:43:53.660383Z",
     "start_time": "2025-10-31T16:43:53.653657Z"
    }
   },
   "outputs": [
    {
     "data": {
      "text/plain": [
       "          id                              name  \\\n",
       "0       3498                Grand Theft Auto V   \n",
       "1       3328          The Witcher 3: Wild Hunt   \n",
       "2       4200                          Portal 2   \n",
       "3       4291  Counter-Strike: Global Offensive   \n",
       "4       5286                Tomb Raider (2013)   \n",
       "...      ...                               ...   \n",
       "19994  20370                     We Are Legion   \n",
       "19995  20304              Fallen: A2P Protocol   \n",
       "19996  19999  MUD Motocross World Championship   \n",
       "19997  18168                        Lepofrenia   \n",
       "19999  17108                  Mysterious Space   \n",
       "\n",
       "                                                    tags  \n",
       "0      pc playstation5 xboxseriess/x playstation4 pla...  \n",
       "1      playstation5 xboxseriess/x macos playstation4 ...  \n",
       "2      playstation3 pc xbox360 linux macos xboxone sh...  \n",
       "3      pc linux xbox360 playstation3 shooter playstat...  \n",
       "4      playstation3 xbox360 macos pc xboxone playstat...  \n",
       "...                                                  ...  \n",
       "19994    linux macos pc strategy indie steam multiplayer  \n",
       "19995  playstation4 linux macos pc rpg strategy indie...  \n",
       "19996  playstation3 psvita pc xbox360 simulation spor...  \n",
       "19997  pc adventure rpg indie steam singleplayer stea...  \n",
       "19999  pc action indie steam singleplayer steamachiev...  \n",
       "\n",
       "[18284 rows x 3 columns]"
      ],
      "text/html": [
       "<div>\n",
       "<style scoped>\n",
       "    .dataframe tbody tr th:only-of-type {\n",
       "        vertical-align: middle;\n",
       "    }\n",
       "\n",
       "    .dataframe tbody tr th {\n",
       "        vertical-align: top;\n",
       "    }\n",
       "\n",
       "    .dataframe thead th {\n",
       "        text-align: right;\n",
       "    }\n",
       "</style>\n",
       "<table border=\"1\" class=\"dataframe\">\n",
       "  <thead>\n",
       "    <tr style=\"text-align: right;\">\n",
       "      <th></th>\n",
       "      <th>id</th>\n",
       "      <th>name</th>\n",
       "      <th>tags</th>\n",
       "    </tr>\n",
       "  </thead>\n",
       "  <tbody>\n",
       "    <tr>\n",
       "      <th>0</th>\n",
       "      <td>3498</td>\n",
       "      <td>Grand Theft Auto V</td>\n",
       "      <td>pc playstation5 xboxseriess/x playstation4 pla...</td>\n",
       "    </tr>\n",
       "    <tr>\n",
       "      <th>1</th>\n",
       "      <td>3328</td>\n",
       "      <td>The Witcher 3: Wild Hunt</td>\n",
       "      <td>playstation5 xboxseriess/x macos playstation4 ...</td>\n",
       "    </tr>\n",
       "    <tr>\n",
       "      <th>2</th>\n",
       "      <td>4200</td>\n",
       "      <td>Portal 2</td>\n",
       "      <td>playstation3 pc xbox360 linux macos xboxone sh...</td>\n",
       "    </tr>\n",
       "    <tr>\n",
       "      <th>3</th>\n",
       "      <td>4291</td>\n",
       "      <td>Counter-Strike: Global Offensive</td>\n",
       "      <td>pc linux xbox360 playstation3 shooter playstat...</td>\n",
       "    </tr>\n",
       "    <tr>\n",
       "      <th>4</th>\n",
       "      <td>5286</td>\n",
       "      <td>Tomb Raider (2013)</td>\n",
       "      <td>playstation3 xbox360 macos pc xboxone playstat...</td>\n",
       "    </tr>\n",
       "    <tr>\n",
       "      <th>...</th>\n",
       "      <td>...</td>\n",
       "      <td>...</td>\n",
       "      <td>...</td>\n",
       "    </tr>\n",
       "    <tr>\n",
       "      <th>19994</th>\n",
       "      <td>20370</td>\n",
       "      <td>We Are Legion</td>\n",
       "      <td>linux macos pc strategy indie steam multiplayer</td>\n",
       "    </tr>\n",
       "    <tr>\n",
       "      <th>19995</th>\n",
       "      <td>20304</td>\n",
       "      <td>Fallen: A2P Protocol</td>\n",
       "      <td>playstation4 linux macos pc rpg strategy indie...</td>\n",
       "    </tr>\n",
       "    <tr>\n",
       "      <th>19996</th>\n",
       "      <td>19999</td>\n",
       "      <td>MUD Motocross World Championship</td>\n",
       "      <td>playstation3 psvita pc xbox360 simulation spor...</td>\n",
       "    </tr>\n",
       "    <tr>\n",
       "      <th>19997</th>\n",
       "      <td>18168</td>\n",
       "      <td>Lepofrenia</td>\n",
       "      <td>pc adventure rpg indie steam singleplayer stea...</td>\n",
       "    </tr>\n",
       "    <tr>\n",
       "      <th>19999</th>\n",
       "      <td>17108</td>\n",
       "      <td>Mysterious Space</td>\n",
       "      <td>pc action indie steam singleplayer steamachiev...</td>\n",
       "    </tr>\n",
       "  </tbody>\n",
       "</table>\n",
       "<p>18284 rows × 3 columns</p>\n",
       "</div>"
      ]
     },
     "execution_count": 31,
     "metadata": {},
     "output_type": "execute_result"
    }
   ],
   "execution_count": 31
  },
  {
   "cell_type": "code",
   "source": [
    "cv = CountVectorizer(max_features=1000, stop_words='english')\n",
    "vectors = cv.fit_transform(game['tags']).toarray()"
   ],
   "metadata": {
    "id": "gqi5-hI9GXE9",
    "ExecuteTime": {
     "end_time": "2025-10-31T16:43:54.097841Z",
     "start_time": "2025-10-31T16:43:53.851045Z"
    }
   },
   "outputs": [],
   "execution_count": 32
  },
  {
   "cell_type": "code",
   "source": [
    "vectors.shape"
   ],
   "metadata": {
    "id": "KOIDaMV7fBTr",
    "outputId": "8cd5ad67-542d-4f65-d420-e66a9a15493a",
    "colab": {
     "base_uri": "https://localhost:8080/"
    },
    "ExecuteTime": {
     "end_time": "2025-10-31T16:43:54.139282Z",
     "start_time": "2025-10-31T16:43:54.135085Z"
    }
   },
   "outputs": [
    {
     "data": {
      "text/plain": [
       "(18284, 1000)"
      ]
     },
     "execution_count": 33,
     "metadata": {},
     "output_type": "execute_result"
    }
   ],
   "execution_count": 33
  },
  {
   "cell_type": "code",
   "source": [
    "game = game.reset_index(drop=True)"
   ],
   "metadata": {
    "id": "6OIdRQANW3p6",
    "ExecuteTime": {
     "end_time": "2025-10-31T16:43:54.160717Z",
     "start_time": "2025-10-31T16:43:54.155288Z"
    }
   },
   "outputs": [],
   "execution_count": 34
  },
  {
   "cell_type": "code",
   "source": [
    "similarity = cosine_similarity(vectors)"
   ],
   "metadata": {
    "id": "1gUupuDuGhXh",
    "ExecuteTime": {
     "end_time": "2025-10-31T16:43:57.865345Z",
     "start_time": "2025-10-31T16:43:54.177731Z"
    }
   },
   "outputs": [],
   "execution_count": 35
  },
  {
   "cell_type": "code",
   "source": [
    "similarity"
   ],
   "metadata": {
    "colab": {
     "base_uri": "https://localhost:8080/"
    },
    "id": "oKiKNAvQTwnr",
    "outputId": "42593277-ef9f-4b93-fef7-3b1b327d075a",
    "ExecuteTime": {
     "end_time": "2025-10-31T16:43:57.901199Z",
     "start_time": "2025-10-31T16:43:57.896198Z"
    }
   },
   "outputs": [
    {
     "data": {
      "text/plain": [
       "array([[1.        , 0.53033009, 0.525     , ..., 0.35355339, 0.30012252,\n",
       "        0.31622777],\n",
       "       [0.53033009, 1.        , 0.25927249, ..., 0.16666667, 0.32338083,\n",
       "        0.2236068 ],\n",
       "       [0.525     , 0.25927249, 1.        , ..., 0.35355339, 0.30869745,\n",
       "        0.44271887],\n",
       "       ...,\n",
       "       [0.35355339, 0.16666667, 0.35355339, ..., 1.        , 0.30316953,\n",
       "        0.2795085 ],\n",
       "       [0.30012252, 0.32338083, 0.30869745, ..., 0.30316953, 1.        ,\n",
       "        0.59655876],\n",
       "       [0.31622777, 0.2236068 , 0.44271887, ..., 0.2795085 , 0.59655876,\n",
       "        1.        ]], shape=(18284, 18284))"
      ]
     },
     "execution_count": 36,
     "metadata": {},
     "output_type": "execute_result"
    }
   ],
   "execution_count": 36
  },
  {
   "cell_type": "code",
   "source": [
    "def recommend(games):\n",
    "  game_index = game[game['name'] == games].index[0]\n",
    "  distances = similarity[game_index]\n",
    "  games_list = sorted(list(enumerate(distances)), reverse=True, key=lambda x:x[1])[1:6]\n",
    "  for i in games_list:\n",
    "        print(game.iloc[i[0]]['name'])"
   ],
   "metadata": {
    "id": "OlR4XNMdTynp",
    "ExecuteTime": {
     "end_time": "2025-10-31T16:43:57.923395Z",
     "start_time": "2025-10-31T16:43:57.919799Z"
    }
   },
   "outputs": [],
   "execution_count": 37
  },
  {
   "cell_type": "code",
   "source": [
    "recommend('Mysterious Space')"
   ],
   "metadata": {
    "colab": {
     "base_uri": "https://localhost:8080/"
    },
    "id": "wdhW1kh5UKcB",
    "outputId": "9a27263f-b2c3-4f3b-dfee-ad3ccd6780ea",
    "ExecuteTime": {
     "end_time": "2025-10-31T16:43:58.144733Z",
     "start_time": "2025-10-31T16:43:58.126862Z"
    }
   },
   "outputs": [
    {
     "name": "stdout",
     "output_type": "stream",
     "text": [
      "Chompy Chomp Chomp\n",
      "Slam Bolt Scrappers\n",
      "Operation KREEP\n",
      "Porcunipine\n",
      "IACTURA\n"
     ]
    }
   ],
   "execution_count": 38
  }
 ]
}
