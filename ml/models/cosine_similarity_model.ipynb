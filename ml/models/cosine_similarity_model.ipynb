{
 "nbformat": 4,
 "nbformat_minor": 0,
 "metadata": {
  "colab": {
   "provenance": []
  },
  "kernelspec": {
   "name": "python3",
   "display_name": "Python 3 (ipykernel)",
   "language": "python"
  },
  "language_info": {
   "name": "python"
  }
 },
 "cells": [
  {
   "cell_type": "code",
   "metadata": {
    "id": "-R9P-tMV6C5M",
    "ExecuteTime": {
     "end_time": "2025-10-31T15:15:34.809962Z",
     "start_time": "2025-10-31T15:15:34.804904Z"
    }
   },
   "source": [
    "import numpy as np\n",
    "import pandas as pd\n",
    "from sklearn.feature_extraction.text import CountVectorizer\n",
    "from sklearn.metrics.pairwise import cosine_similarity"
   ],
   "outputs": [],
   "execution_count": 3
  },
  {
   "cell_type": "code",
   "source": "game = pd.read_csv(r'/Game-Recommendation-System/data/raw/rawg_games_20k.csv')",
   "metadata": {
    "id": "95K2y7GW6SC3",
    "ExecuteTime": {
     "end_time": "2025-10-31T15:15:34.900595Z",
     "start_time": "2025-10-31T15:15:34.817269Z"
    }
   },
   "outputs": [],
   "execution_count": 4
  },
  {
   "cell_type": "code",
   "source": [
    "game"
   ],
   "metadata": {
    "colab": {
     "base_uri": "https://localhost:8080/",
     "height": 721
    },
    "id": "8k8f1nus6SFT",
    "outputId": "4f13a440-048f-4729-b224-c641a0f2d6aa",
    "ExecuteTime": {
     "end_time": "2025-10-31T15:15:34.921980Z",
     "start_time": "2025-10-31T15:15:34.906166Z"
    }
   },
   "outputs": [
    {
     "data": {
      "text/plain": [
       "          id                              name  \\\n",
       "0       3498                Grand Theft Auto V   \n",
       "1       3328          The Witcher 3: Wild Hunt   \n",
       "2       4200                          Portal 2   \n",
       "3       4291  Counter-Strike: Global Offensive   \n",
       "4       5286                Tomb Raider (2013)   \n",
       "...      ...                               ...   \n",
       "19995  17151               Fables from the Den   \n",
       "19996  17108                  Mysterious Space   \n",
       "19997  16530              侠客风云传(Tale of Wuxia)   \n",
       "19998  16221                           Killbot   \n",
       "19999  16208                      Defragmented   \n",
       "\n",
       "                                  slug    released  metacritic  rating  \\\n",
       "0                   grand-theft-auto-v  2013-09-17        92.0    4.47   \n",
       "1              the-witcher-3-wild-hunt  2015-05-18        92.0    4.64   \n",
       "2                             portal-2  2011-04-18        95.0    4.58   \n",
       "3      counter-strike-global-offensive  2012-08-21        81.0    3.57   \n",
       "4                          tomb-raider  2013-03-05        86.0    4.06   \n",
       "...                                ...         ...         ...     ...   \n",
       "19995              fables-from-the-den  2016-10-26         NaN    0.00   \n",
       "19996                 mysterious-space  2015-05-15         NaN    0.00   \n",
       "19997                    tale-of-wuxia  2016-04-28         NaN    0.00   \n",
       "19998                          killbot  2016-07-10         NaN    0.00   \n",
       "19999                     defragmented  2016-02-12        68.0    0.00   \n",
       "\n",
       "       ratings_count                                          platforms  \\\n",
       "0               7236  PC|PlayStation 5|Xbox Series S/X|PlayStation 4...   \n",
       "1               7052  PlayStation 5|Xbox Series S/X|macOS|PlayStatio...   \n",
       "2               5992     PlayStation 3|PC|Xbox 360|Linux|macOS|Xbox One   \n",
       "3               3603                    PC|Linux|Xbox 360|PlayStation 3   \n",
       "4               4048  PlayStation 3|Xbox 360|macOS|PC|Xbox One|PlayS...   \n",
       "...              ...                                                ...   \n",
       "19995              2                                     macOS|PC|Linux   \n",
       "19996              1                                                 PC   \n",
       "19997              5                                                 PC   \n",
       "19998              1                                                 PC   \n",
       "19999              2                                     macOS|PC|Linux   \n",
       "\n",
       "                                                  genres  \\\n",
       "0                                                 Action   \n",
       "1                                             Action|RPG   \n",
       "2                                         Shooter|Puzzle   \n",
       "3                                                Shooter   \n",
       "4                                                 Action   \n",
       "...                                                  ...   \n",
       "19995                                                NaN   \n",
       "19996                                       Action|Indie   \n",
       "19997           Adventure|RPG|Strategy|Simulation|Casual   \n",
       "19998  Action|Adventure|Simulation|Massively Multipla...   \n",
       "19999                                   Action|RPG|Indie   \n",
       "\n",
       "                                                  stores  added  \\\n",
       "0      Steam|PlayStation Store|Epic Games|Xbox 360 St...  22282   \n",
       "1      GOG|PlayStation Store|Steam|Xbox Store|Nintend...  21954   \n",
       "2      Xbox Store|Steam|PlayStation Store|Xbox 360 Store  20717   \n",
       "3                 PlayStation Store|Steam|Xbox 360 Store  18318   \n",
       "4      Xbox 360 Store|Steam|PlayStation Store|Google ...  17697   \n",
       "...                                                  ...    ...   \n",
       "19995                                              Steam     60   \n",
       "19996                                              Steam     60   \n",
       "19997                                              Steam     60   \n",
       "19998                                              Steam     60   \n",
       "19999                                              Steam     60   \n",
       "\n",
       "                                                    tags  \n",
       "0      Singleplayer|Steam Achievements|Multiplayer|Fu...  \n",
       "1      Singleplayer|Full controller support|Atmospher...  \n",
       "2      Singleplayer|Steam Achievements|Multiplayer|Fu...  \n",
       "3      Steam Achievements|Multiplayer|Full controller...  \n",
       "4      Singleplayer|Multiplayer|Full controller suppo...  \n",
       "...                                                  ...  \n",
       "19995                              Design & Illustration  \n",
       "19996  Singleplayer|Steam Achievements|Full controlle...  \n",
       "19997  Singleplayer|Steam Cloud|steam-trading-cards|R...  \n",
       "19998  Singleplayer|Multiplayer|steam-trading-cards|C...  \n",
       "19999  Singleplayer|Steam Achievements|Full controlle...  \n",
       "\n",
       "[20000 rows x 12 columns]"
      ],
      "text/html": [
       "<div>\n",
       "<style scoped>\n",
       "    .dataframe tbody tr th:only-of-type {\n",
       "        vertical-align: middle;\n",
       "    }\n",
       "\n",
       "    .dataframe tbody tr th {\n",
       "        vertical-align: top;\n",
       "    }\n",
       "\n",
       "    .dataframe thead th {\n",
       "        text-align: right;\n",
       "    }\n",
       "</style>\n",
       "<table border=\"1\" class=\"dataframe\">\n",
       "  <thead>\n",
       "    <tr style=\"text-align: right;\">\n",
       "      <th></th>\n",
       "      <th>id</th>\n",
       "      <th>name</th>\n",
       "      <th>slug</th>\n",
       "      <th>released</th>\n",
       "      <th>metacritic</th>\n",
       "      <th>rating</th>\n",
       "      <th>ratings_count</th>\n",
       "      <th>platforms</th>\n",
       "      <th>genres</th>\n",
       "      <th>stores</th>\n",
       "      <th>added</th>\n",
       "      <th>tags</th>\n",
       "    </tr>\n",
       "  </thead>\n",
       "  <tbody>\n",
       "    <tr>\n",
       "      <th>0</th>\n",
       "      <td>3498</td>\n",
       "      <td>Grand Theft Auto V</td>\n",
       "      <td>grand-theft-auto-v</td>\n",
       "      <td>2013-09-17</td>\n",
       "      <td>92.0</td>\n",
       "      <td>4.47</td>\n",
       "      <td>7236</td>\n",
       "      <td>PC|PlayStation 5|Xbox Series S/X|PlayStation 4...</td>\n",
       "      <td>Action</td>\n",
       "      <td>Steam|PlayStation Store|Epic Games|Xbox 360 St...</td>\n",
       "      <td>22282</td>\n",
       "      <td>Singleplayer|Steam Achievements|Multiplayer|Fu...</td>\n",
       "    </tr>\n",
       "    <tr>\n",
       "      <th>1</th>\n",
       "      <td>3328</td>\n",
       "      <td>The Witcher 3: Wild Hunt</td>\n",
       "      <td>the-witcher-3-wild-hunt</td>\n",
       "      <td>2015-05-18</td>\n",
       "      <td>92.0</td>\n",
       "      <td>4.64</td>\n",
       "      <td>7052</td>\n",
       "      <td>PlayStation 5|Xbox Series S/X|macOS|PlayStatio...</td>\n",
       "      <td>Action|RPG</td>\n",
       "      <td>GOG|PlayStation Store|Steam|Xbox Store|Nintend...</td>\n",
       "      <td>21954</td>\n",
       "      <td>Singleplayer|Full controller support|Atmospher...</td>\n",
       "    </tr>\n",
       "    <tr>\n",
       "      <th>2</th>\n",
       "      <td>4200</td>\n",
       "      <td>Portal 2</td>\n",
       "      <td>portal-2</td>\n",
       "      <td>2011-04-18</td>\n",
       "      <td>95.0</td>\n",
       "      <td>4.58</td>\n",
       "      <td>5992</td>\n",
       "      <td>PlayStation 3|PC|Xbox 360|Linux|macOS|Xbox One</td>\n",
       "      <td>Shooter|Puzzle</td>\n",
       "      <td>Xbox Store|Steam|PlayStation Store|Xbox 360 Store</td>\n",
       "      <td>20717</td>\n",
       "      <td>Singleplayer|Steam Achievements|Multiplayer|Fu...</td>\n",
       "    </tr>\n",
       "    <tr>\n",
       "      <th>3</th>\n",
       "      <td>4291</td>\n",
       "      <td>Counter-Strike: Global Offensive</td>\n",
       "      <td>counter-strike-global-offensive</td>\n",
       "      <td>2012-08-21</td>\n",
       "      <td>81.0</td>\n",
       "      <td>3.57</td>\n",
       "      <td>3603</td>\n",
       "      <td>PC|Linux|Xbox 360|PlayStation 3</td>\n",
       "      <td>Shooter</td>\n",
       "      <td>PlayStation Store|Steam|Xbox 360 Store</td>\n",
       "      <td>18318</td>\n",
       "      <td>Steam Achievements|Multiplayer|Full controller...</td>\n",
       "    </tr>\n",
       "    <tr>\n",
       "      <th>4</th>\n",
       "      <td>5286</td>\n",
       "      <td>Tomb Raider (2013)</td>\n",
       "      <td>tomb-raider</td>\n",
       "      <td>2013-03-05</td>\n",
       "      <td>86.0</td>\n",
       "      <td>4.06</td>\n",
       "      <td>4048</td>\n",
       "      <td>PlayStation 3|Xbox 360|macOS|PC|Xbox One|PlayS...</td>\n",
       "      <td>Action</td>\n",
       "      <td>Xbox 360 Store|Steam|PlayStation Store|Google ...</td>\n",
       "      <td>17697</td>\n",
       "      <td>Singleplayer|Multiplayer|Full controller suppo...</td>\n",
       "    </tr>\n",
       "    <tr>\n",
       "      <th>...</th>\n",
       "      <td>...</td>\n",
       "      <td>...</td>\n",
       "      <td>...</td>\n",
       "      <td>...</td>\n",
       "      <td>...</td>\n",
       "      <td>...</td>\n",
       "      <td>...</td>\n",
       "      <td>...</td>\n",
       "      <td>...</td>\n",
       "      <td>...</td>\n",
       "      <td>...</td>\n",
       "      <td>...</td>\n",
       "    </tr>\n",
       "    <tr>\n",
       "      <th>19995</th>\n",
       "      <td>17151</td>\n",
       "      <td>Fables from the Den</td>\n",
       "      <td>fables-from-the-den</td>\n",
       "      <td>2016-10-26</td>\n",
       "      <td>NaN</td>\n",
       "      <td>0.00</td>\n",
       "      <td>2</td>\n",
       "      <td>macOS|PC|Linux</td>\n",
       "      <td>NaN</td>\n",
       "      <td>Steam</td>\n",
       "      <td>60</td>\n",
       "      <td>Design &amp; Illustration</td>\n",
       "    </tr>\n",
       "    <tr>\n",
       "      <th>19996</th>\n",
       "      <td>17108</td>\n",
       "      <td>Mysterious Space</td>\n",
       "      <td>mysterious-space</td>\n",
       "      <td>2015-05-15</td>\n",
       "      <td>NaN</td>\n",
       "      <td>0.00</td>\n",
       "      <td>1</td>\n",
       "      <td>PC</td>\n",
       "      <td>Action|Indie</td>\n",
       "      <td>Steam</td>\n",
       "      <td>60</td>\n",
       "      <td>Singleplayer|Steam Achievements|Full controlle...</td>\n",
       "    </tr>\n",
       "    <tr>\n",
       "      <th>19997</th>\n",
       "      <td>16530</td>\n",
       "      <td>侠客风云传(Tale of Wuxia)</td>\n",
       "      <td>tale-of-wuxia</td>\n",
       "      <td>2016-04-28</td>\n",
       "      <td>NaN</td>\n",
       "      <td>0.00</td>\n",
       "      <td>5</td>\n",
       "      <td>PC</td>\n",
       "      <td>Adventure|RPG|Strategy|Simulation|Casual</td>\n",
       "      <td>Steam</td>\n",
       "      <td>60</td>\n",
       "      <td>Singleplayer|Steam Cloud|steam-trading-cards|R...</td>\n",
       "    </tr>\n",
       "    <tr>\n",
       "      <th>19998</th>\n",
       "      <td>16221</td>\n",
       "      <td>Killbot</td>\n",
       "      <td>killbot</td>\n",
       "      <td>2016-07-10</td>\n",
       "      <td>NaN</td>\n",
       "      <td>0.00</td>\n",
       "      <td>1</td>\n",
       "      <td>PC</td>\n",
       "      <td>Action|Adventure|Simulation|Massively Multipla...</td>\n",
       "      <td>Steam</td>\n",
       "      <td>60</td>\n",
       "      <td>Singleplayer|Multiplayer|steam-trading-cards|C...</td>\n",
       "    </tr>\n",
       "    <tr>\n",
       "      <th>19999</th>\n",
       "      <td>16208</td>\n",
       "      <td>Defragmented</td>\n",
       "      <td>defragmented</td>\n",
       "      <td>2016-02-12</td>\n",
       "      <td>68.0</td>\n",
       "      <td>0.00</td>\n",
       "      <td>2</td>\n",
       "      <td>macOS|PC|Linux</td>\n",
       "      <td>Action|RPG|Indie</td>\n",
       "      <td>Steam</td>\n",
       "      <td>60</td>\n",
       "      <td>Singleplayer|Steam Achievements|Full controlle...</td>\n",
       "    </tr>\n",
       "  </tbody>\n",
       "</table>\n",
       "<p>20000 rows × 12 columns</p>\n",
       "</div>"
      ]
     },
     "execution_count": 5,
     "metadata": {},
     "output_type": "execute_result"
    }
   ],
   "execution_count": 5
  },
  {
   "cell_type": "code",
   "source": [
    "game.info()"
   ],
   "metadata": {
    "colab": {
     "base_uri": "https://localhost:8080/"
    },
    "id": "dxawHRzT6SI2",
    "outputId": "ff848b07-1d35-4724-ac0b-697c836e31e9",
    "ExecuteTime": {
     "end_time": "2025-10-31T15:15:34.973278Z",
     "start_time": "2025-10-31T15:15:34.961891Z"
    }
   },
   "outputs": [
    {
     "name": "stdout",
     "output_type": "stream",
     "text": [
      "<class 'pandas.core.frame.DataFrame'>\n",
      "RangeIndex: 20000 entries, 0 to 19999\n",
      "Data columns (total 12 columns):\n",
      " #   Column         Non-Null Count  Dtype  \n",
      "---  ------         --------------  -----  \n",
      " 0   id             20000 non-null  int64  \n",
      " 1   name           20000 non-null  object \n",
      " 2   slug           20000 non-null  object \n",
      " 3   released       19328 non-null  object \n",
      " 4   metacritic     5406 non-null   float64\n",
      " 5   rating         20000 non-null  float64\n",
      " 6   ratings_count  20000 non-null  int64  \n",
      " 7   platforms      19998 non-null  object \n",
      " 8   genres         19652 non-null  object \n",
      " 9   stores         18842 non-null  object \n",
      " 10  added          20000 non-null  int64  \n",
      " 11  tags           19323 non-null  object \n",
      "dtypes: float64(2), int64(3), object(7)\n",
      "memory usage: 1.8+ MB\n"
     ]
    }
   ],
   "execution_count": 6
  },
  {
   "cell_type": "code",
   "source": [
    "game.describe()"
   ],
   "metadata": {
    "colab": {
     "base_uri": "https://localhost:8080/",
     "height": 300
    },
    "id": "pk_E183d6dSh",
    "outputId": "71cf7ac7-8109-4399-ba5b-508dc25b7bc5",
    "ExecuteTime": {
     "end_time": "2025-10-31T15:15:35.075678Z",
     "start_time": "2025-10-31T15:15:35.060235Z"
    }
   },
   "outputs": [
    {
     "data": {
      "text/plain": [
       "                 id   metacritic        rating  ratings_count         added\n",
       "count  2.000000e+04  5406.000000  20000.000000   20000.000000  20000.000000\n",
       "mean   1.378563e+05    73.747688      2.292000      84.126450    620.540450\n",
       "std    2.402878e+05    11.087490      1.631992     278.981489   1325.524443\n",
       "min    1.000000e+00    21.000000      0.000000       0.000000     60.000000\n",
       "25%    1.415675e+04    68.000000      0.000000       4.000000    109.000000\n",
       "50%    2.269200e+04    75.000000      2.880000      14.000000    193.500000\n",
       "75%    6.138325e+04    81.000000      3.670000      49.000000    520.000000\n",
       "max    1.007483e+06    99.000000      4.860000    7236.000000  22282.000000"
      ],
      "text/html": [
       "<div>\n",
       "<style scoped>\n",
       "    .dataframe tbody tr th:only-of-type {\n",
       "        vertical-align: middle;\n",
       "    }\n",
       "\n",
       "    .dataframe tbody tr th {\n",
       "        vertical-align: top;\n",
       "    }\n",
       "\n",
       "    .dataframe thead th {\n",
       "        text-align: right;\n",
       "    }\n",
       "</style>\n",
       "<table border=\"1\" class=\"dataframe\">\n",
       "  <thead>\n",
       "    <tr style=\"text-align: right;\">\n",
       "      <th></th>\n",
       "      <th>id</th>\n",
       "      <th>metacritic</th>\n",
       "      <th>rating</th>\n",
       "      <th>ratings_count</th>\n",
       "      <th>added</th>\n",
       "    </tr>\n",
       "  </thead>\n",
       "  <tbody>\n",
       "    <tr>\n",
       "      <th>count</th>\n",
       "      <td>2.000000e+04</td>\n",
       "      <td>5406.000000</td>\n",
       "      <td>20000.000000</td>\n",
       "      <td>20000.000000</td>\n",
       "      <td>20000.000000</td>\n",
       "    </tr>\n",
       "    <tr>\n",
       "      <th>mean</th>\n",
       "      <td>1.378563e+05</td>\n",
       "      <td>73.747688</td>\n",
       "      <td>2.292000</td>\n",
       "      <td>84.126450</td>\n",
       "      <td>620.540450</td>\n",
       "    </tr>\n",
       "    <tr>\n",
       "      <th>std</th>\n",
       "      <td>2.402878e+05</td>\n",
       "      <td>11.087490</td>\n",
       "      <td>1.631992</td>\n",
       "      <td>278.981489</td>\n",
       "      <td>1325.524443</td>\n",
       "    </tr>\n",
       "    <tr>\n",
       "      <th>min</th>\n",
       "      <td>1.000000e+00</td>\n",
       "      <td>21.000000</td>\n",
       "      <td>0.000000</td>\n",
       "      <td>0.000000</td>\n",
       "      <td>60.000000</td>\n",
       "    </tr>\n",
       "    <tr>\n",
       "      <th>25%</th>\n",
       "      <td>1.415675e+04</td>\n",
       "      <td>68.000000</td>\n",
       "      <td>0.000000</td>\n",
       "      <td>4.000000</td>\n",
       "      <td>109.000000</td>\n",
       "    </tr>\n",
       "    <tr>\n",
       "      <th>50%</th>\n",
       "      <td>2.269200e+04</td>\n",
       "      <td>75.000000</td>\n",
       "      <td>2.880000</td>\n",
       "      <td>14.000000</td>\n",
       "      <td>193.500000</td>\n",
       "    </tr>\n",
       "    <tr>\n",
       "      <th>75%</th>\n",
       "      <td>6.138325e+04</td>\n",
       "      <td>81.000000</td>\n",
       "      <td>3.670000</td>\n",
       "      <td>49.000000</td>\n",
       "      <td>520.000000</td>\n",
       "    </tr>\n",
       "    <tr>\n",
       "      <th>max</th>\n",
       "      <td>1.007483e+06</td>\n",
       "      <td>99.000000</td>\n",
       "      <td>4.860000</td>\n",
       "      <td>7236.000000</td>\n",
       "      <td>22282.000000</td>\n",
       "    </tr>\n",
       "  </tbody>\n",
       "</table>\n",
       "</div>"
      ]
     },
     "execution_count": 7,
     "metadata": {},
     "output_type": "execute_result"
    }
   ],
   "execution_count": 7
  },
  {
   "cell_type": "code",
   "source": [
    "game['name'].duplicated()"
   ],
   "metadata": {
    "colab": {
     "base_uri": "https://localhost:8080/",
     "height": 458
    },
    "id": "iHGNq1pm6hOx",
    "outputId": "d6bd3697-a4e2-4524-d4db-c761a3728cb6",
    "ExecuteTime": {
     "end_time": "2025-10-31T15:15:35.358521Z",
     "start_time": "2025-10-31T15:15:35.349267Z"
    }
   },
   "outputs": [
    {
     "data": {
      "text/plain": [
       "0        False\n",
       "1        False\n",
       "2        False\n",
       "3        False\n",
       "4        False\n",
       "         ...  \n",
       "19995    False\n",
       "19996    False\n",
       "19997    False\n",
       "19998    False\n",
       "19999    False\n",
       "Name: name, Length: 20000, dtype: bool"
      ]
     },
     "execution_count": 8,
     "metadata": {},
     "output_type": "execute_result"
    }
   ],
   "execution_count": 8
  },
  {
   "cell_type": "code",
   "source": [
    "game = game[['id', 'name', 'platforms', 'genres', 'stores', 'tags']]"
   ],
   "metadata": {
    "id": "NIIxWwIh611Q",
    "ExecuteTime": {
     "end_time": "2025-10-31T15:15:35.433379Z",
     "start_time": "2025-10-31T15:15:35.428948Z"
    }
   },
   "outputs": [],
   "execution_count": 9
  },
  {
   "cell_type": "code",
   "source": [
    "game"
   ],
   "metadata": {
    "colab": {
     "base_uri": "https://localhost:8080/",
     "height": 721
    },
    "id": "u7XXcJwC7nKw",
    "outputId": "eeeaa35c-7017-4e2f-a448-d7ef186463bb",
    "ExecuteTime": {
     "end_time": "2025-10-31T15:15:35.522420Z",
     "start_time": "2025-10-31T15:15:35.513421Z"
    }
   },
   "outputs": [
    {
     "data": {
      "text/plain": [
       "          id                              name  \\\n",
       "0       3498                Grand Theft Auto V   \n",
       "1       3328          The Witcher 3: Wild Hunt   \n",
       "2       4200                          Portal 2   \n",
       "3       4291  Counter-Strike: Global Offensive   \n",
       "4       5286                Tomb Raider (2013)   \n",
       "...      ...                               ...   \n",
       "19995  17151               Fables from the Den   \n",
       "19996  17108                  Mysterious Space   \n",
       "19997  16530              侠客风云传(Tale of Wuxia)   \n",
       "19998  16221                           Killbot   \n",
       "19999  16208                      Defragmented   \n",
       "\n",
       "                                               platforms  \\\n",
       "0      PC|PlayStation 5|Xbox Series S/X|PlayStation 4...   \n",
       "1      PlayStation 5|Xbox Series S/X|macOS|PlayStatio...   \n",
       "2         PlayStation 3|PC|Xbox 360|Linux|macOS|Xbox One   \n",
       "3                        PC|Linux|Xbox 360|PlayStation 3   \n",
       "4      PlayStation 3|Xbox 360|macOS|PC|Xbox One|PlayS...   \n",
       "...                                                  ...   \n",
       "19995                                     macOS|PC|Linux   \n",
       "19996                                                 PC   \n",
       "19997                                                 PC   \n",
       "19998                                                 PC   \n",
       "19999                                     macOS|PC|Linux   \n",
       "\n",
       "                                                  genres  \\\n",
       "0                                                 Action   \n",
       "1                                             Action|RPG   \n",
       "2                                         Shooter|Puzzle   \n",
       "3                                                Shooter   \n",
       "4                                                 Action   \n",
       "...                                                  ...   \n",
       "19995                                                NaN   \n",
       "19996                                       Action|Indie   \n",
       "19997           Adventure|RPG|Strategy|Simulation|Casual   \n",
       "19998  Action|Adventure|Simulation|Massively Multipla...   \n",
       "19999                                   Action|RPG|Indie   \n",
       "\n",
       "                                                  stores  \\\n",
       "0      Steam|PlayStation Store|Epic Games|Xbox 360 St...   \n",
       "1      GOG|PlayStation Store|Steam|Xbox Store|Nintend...   \n",
       "2      Xbox Store|Steam|PlayStation Store|Xbox 360 Store   \n",
       "3                 PlayStation Store|Steam|Xbox 360 Store   \n",
       "4      Xbox 360 Store|Steam|PlayStation Store|Google ...   \n",
       "...                                                  ...   \n",
       "19995                                              Steam   \n",
       "19996                                              Steam   \n",
       "19997                                              Steam   \n",
       "19998                                              Steam   \n",
       "19999                                              Steam   \n",
       "\n",
       "                                                    tags  \n",
       "0      Singleplayer|Steam Achievements|Multiplayer|Fu...  \n",
       "1      Singleplayer|Full controller support|Atmospher...  \n",
       "2      Singleplayer|Steam Achievements|Multiplayer|Fu...  \n",
       "3      Steam Achievements|Multiplayer|Full controller...  \n",
       "4      Singleplayer|Multiplayer|Full controller suppo...  \n",
       "...                                                  ...  \n",
       "19995                              Design & Illustration  \n",
       "19996  Singleplayer|Steam Achievements|Full controlle...  \n",
       "19997  Singleplayer|Steam Cloud|steam-trading-cards|R...  \n",
       "19998  Singleplayer|Multiplayer|steam-trading-cards|C...  \n",
       "19999  Singleplayer|Steam Achievements|Full controlle...  \n",
       "\n",
       "[20000 rows x 6 columns]"
      ],
      "text/html": [
       "<div>\n",
       "<style scoped>\n",
       "    .dataframe tbody tr th:only-of-type {\n",
       "        vertical-align: middle;\n",
       "    }\n",
       "\n",
       "    .dataframe tbody tr th {\n",
       "        vertical-align: top;\n",
       "    }\n",
       "\n",
       "    .dataframe thead th {\n",
       "        text-align: right;\n",
       "    }\n",
       "</style>\n",
       "<table border=\"1\" class=\"dataframe\">\n",
       "  <thead>\n",
       "    <tr style=\"text-align: right;\">\n",
       "      <th></th>\n",
       "      <th>id</th>\n",
       "      <th>name</th>\n",
       "      <th>platforms</th>\n",
       "      <th>genres</th>\n",
       "      <th>stores</th>\n",
       "      <th>tags</th>\n",
       "    </tr>\n",
       "  </thead>\n",
       "  <tbody>\n",
       "    <tr>\n",
       "      <th>0</th>\n",
       "      <td>3498</td>\n",
       "      <td>Grand Theft Auto V</td>\n",
       "      <td>PC|PlayStation 5|Xbox Series S/X|PlayStation 4...</td>\n",
       "      <td>Action</td>\n",
       "      <td>Steam|PlayStation Store|Epic Games|Xbox 360 St...</td>\n",
       "      <td>Singleplayer|Steam Achievements|Multiplayer|Fu...</td>\n",
       "    </tr>\n",
       "    <tr>\n",
       "      <th>1</th>\n",
       "      <td>3328</td>\n",
       "      <td>The Witcher 3: Wild Hunt</td>\n",
       "      <td>PlayStation 5|Xbox Series S/X|macOS|PlayStatio...</td>\n",
       "      <td>Action|RPG</td>\n",
       "      <td>GOG|PlayStation Store|Steam|Xbox Store|Nintend...</td>\n",
       "      <td>Singleplayer|Full controller support|Atmospher...</td>\n",
       "    </tr>\n",
       "    <tr>\n",
       "      <th>2</th>\n",
       "      <td>4200</td>\n",
       "      <td>Portal 2</td>\n",
       "      <td>PlayStation 3|PC|Xbox 360|Linux|macOS|Xbox One</td>\n",
       "      <td>Shooter|Puzzle</td>\n",
       "      <td>Xbox Store|Steam|PlayStation Store|Xbox 360 Store</td>\n",
       "      <td>Singleplayer|Steam Achievements|Multiplayer|Fu...</td>\n",
       "    </tr>\n",
       "    <tr>\n",
       "      <th>3</th>\n",
       "      <td>4291</td>\n",
       "      <td>Counter-Strike: Global Offensive</td>\n",
       "      <td>PC|Linux|Xbox 360|PlayStation 3</td>\n",
       "      <td>Shooter</td>\n",
       "      <td>PlayStation Store|Steam|Xbox 360 Store</td>\n",
       "      <td>Steam Achievements|Multiplayer|Full controller...</td>\n",
       "    </tr>\n",
       "    <tr>\n",
       "      <th>4</th>\n",
       "      <td>5286</td>\n",
       "      <td>Tomb Raider (2013)</td>\n",
       "      <td>PlayStation 3|Xbox 360|macOS|PC|Xbox One|PlayS...</td>\n",
       "      <td>Action</td>\n",
       "      <td>Xbox 360 Store|Steam|PlayStation Store|Google ...</td>\n",
       "      <td>Singleplayer|Multiplayer|Full controller suppo...</td>\n",
       "    </tr>\n",
       "    <tr>\n",
       "      <th>...</th>\n",
       "      <td>...</td>\n",
       "      <td>...</td>\n",
       "      <td>...</td>\n",
       "      <td>...</td>\n",
       "      <td>...</td>\n",
       "      <td>...</td>\n",
       "    </tr>\n",
       "    <tr>\n",
       "      <th>19995</th>\n",
       "      <td>17151</td>\n",
       "      <td>Fables from the Den</td>\n",
       "      <td>macOS|PC|Linux</td>\n",
       "      <td>NaN</td>\n",
       "      <td>Steam</td>\n",
       "      <td>Design &amp; Illustration</td>\n",
       "    </tr>\n",
       "    <tr>\n",
       "      <th>19996</th>\n",
       "      <td>17108</td>\n",
       "      <td>Mysterious Space</td>\n",
       "      <td>PC</td>\n",
       "      <td>Action|Indie</td>\n",
       "      <td>Steam</td>\n",
       "      <td>Singleplayer|Steam Achievements|Full controlle...</td>\n",
       "    </tr>\n",
       "    <tr>\n",
       "      <th>19997</th>\n",
       "      <td>16530</td>\n",
       "      <td>侠客风云传(Tale of Wuxia)</td>\n",
       "      <td>PC</td>\n",
       "      <td>Adventure|RPG|Strategy|Simulation|Casual</td>\n",
       "      <td>Steam</td>\n",
       "      <td>Singleplayer|Steam Cloud|steam-trading-cards|R...</td>\n",
       "    </tr>\n",
       "    <tr>\n",
       "      <th>19998</th>\n",
       "      <td>16221</td>\n",
       "      <td>Killbot</td>\n",
       "      <td>PC</td>\n",
       "      <td>Action|Adventure|Simulation|Massively Multipla...</td>\n",
       "      <td>Steam</td>\n",
       "      <td>Singleplayer|Multiplayer|steam-trading-cards|C...</td>\n",
       "    </tr>\n",
       "    <tr>\n",
       "      <th>19999</th>\n",
       "      <td>16208</td>\n",
       "      <td>Defragmented</td>\n",
       "      <td>macOS|PC|Linux</td>\n",
       "      <td>Action|RPG|Indie</td>\n",
       "      <td>Steam</td>\n",
       "      <td>Singleplayer|Steam Achievements|Full controlle...</td>\n",
       "    </tr>\n",
       "  </tbody>\n",
       "</table>\n",
       "<p>20000 rows × 6 columns</p>\n",
       "</div>"
      ]
     },
     "execution_count": 10,
     "metadata": {},
     "output_type": "execute_result"
    }
   ],
   "execution_count": 10
  },
  {
   "cell_type": "code",
   "source": [
    "game['platforms'].isnull().sum()"
   ],
   "metadata": {
    "colab": {
     "base_uri": "https://localhost:8080/"
    },
    "id": "uHNQRq1y7nka",
    "outputId": "0b609a2b-ce2e-41c9-ebde-a4a87be58a13",
    "ExecuteTime": {
     "end_time": "2025-10-31T15:15:35.808284Z",
     "start_time": "2025-10-31T15:15:35.803099Z"
    }
   },
   "outputs": [
    {
     "data": {
      "text/plain": [
       "np.int64(2)"
      ]
     },
     "execution_count": 11,
     "metadata": {},
     "output_type": "execute_result"
    }
   ],
   "execution_count": 11
  },
  {
   "cell_type": "code",
   "source": [
    "game['genres'].isnull().sum()"
   ],
   "metadata": {
    "colab": {
     "base_uri": "https://localhost:8080/"
    },
    "id": "x8eh9-TB8Cup",
    "outputId": "bd4f76c7-2ae1-44cb-a7c3-57fac33d23fa",
    "ExecuteTime": {
     "end_time": "2025-10-31T15:15:35.885741Z",
     "start_time": "2025-10-31T15:15:35.877187Z"
    }
   },
   "outputs": [
    {
     "data": {
      "text/plain": [
       "np.int64(348)"
      ]
     },
     "execution_count": 12,
     "metadata": {},
     "output_type": "execute_result"
    }
   ],
   "execution_count": 12
  },
  {
   "cell_type": "code",
   "source": [
    "game['id'].isnull().sum()"
   ],
   "metadata": {
    "id": "T0W_M557cON4",
    "outputId": "fda68cf6-5e23-4b21-c108-27882323775f",
    "colab": {
     "base_uri": "https://localhost:8080/"
    },
    "ExecuteTime": {
     "end_time": "2025-10-31T15:15:35.921083Z",
     "start_time": "2025-10-31T15:15:35.913601Z"
    }
   },
   "outputs": [
    {
     "data": {
      "text/plain": [
       "np.int64(0)"
      ]
     },
     "execution_count": 13,
     "metadata": {},
     "output_type": "execute_result"
    }
   ],
   "execution_count": 13
  },
  {
   "cell_type": "code",
   "source": [
    "game['name'].isnull().sum()"
   ],
   "metadata": {
    "id": "wnGDuk3ocORa",
    "outputId": "4c649a72-a25d-479c-a98d-de56a7c65b87",
    "colab": {
     "base_uri": "https://localhost:8080/"
    },
    "ExecuteTime": {
     "end_time": "2025-10-31T15:15:35.958724Z",
     "start_time": "2025-10-31T15:15:35.952696Z"
    }
   },
   "outputs": [
    {
     "data": {
      "text/plain": [
       "np.int64(0)"
      ]
     },
     "execution_count": 14,
     "metadata": {},
     "output_type": "execute_result"
    }
   ],
   "execution_count": 14
  },
  {
   "cell_type": "code",
   "source": [
    "game"
   ],
   "metadata": {
    "id": "NQ2n25tIckCo",
    "outputId": "b25fa5f8-426a-41b8-fe8b-4791ddc80ba6",
    "colab": {
     "base_uri": "https://localhost:8080/",
     "height": 721
    },
    "ExecuteTime": {
     "end_time": "2025-10-31T15:15:35.993648Z",
     "start_time": "2025-10-31T15:15:35.984464Z"
    }
   },
   "outputs": [
    {
     "data": {
      "text/plain": [
       "          id                              name  \\\n",
       "0       3498                Grand Theft Auto V   \n",
       "1       3328          The Witcher 3: Wild Hunt   \n",
       "2       4200                          Portal 2   \n",
       "3       4291  Counter-Strike: Global Offensive   \n",
       "4       5286                Tomb Raider (2013)   \n",
       "...      ...                               ...   \n",
       "19995  17151               Fables from the Den   \n",
       "19996  17108                  Mysterious Space   \n",
       "19997  16530              侠客风云传(Tale of Wuxia)   \n",
       "19998  16221                           Killbot   \n",
       "19999  16208                      Defragmented   \n",
       "\n",
       "                                               platforms  \\\n",
       "0      PC|PlayStation 5|Xbox Series S/X|PlayStation 4...   \n",
       "1      PlayStation 5|Xbox Series S/X|macOS|PlayStatio...   \n",
       "2         PlayStation 3|PC|Xbox 360|Linux|macOS|Xbox One   \n",
       "3                        PC|Linux|Xbox 360|PlayStation 3   \n",
       "4      PlayStation 3|Xbox 360|macOS|PC|Xbox One|PlayS...   \n",
       "...                                                  ...   \n",
       "19995                                     macOS|PC|Linux   \n",
       "19996                                                 PC   \n",
       "19997                                                 PC   \n",
       "19998                                                 PC   \n",
       "19999                                     macOS|PC|Linux   \n",
       "\n",
       "                                                  genres  \\\n",
       "0                                                 Action   \n",
       "1                                             Action|RPG   \n",
       "2                                         Shooter|Puzzle   \n",
       "3                                                Shooter   \n",
       "4                                                 Action   \n",
       "...                                                  ...   \n",
       "19995                                                NaN   \n",
       "19996                                       Action|Indie   \n",
       "19997           Adventure|RPG|Strategy|Simulation|Casual   \n",
       "19998  Action|Adventure|Simulation|Massively Multipla...   \n",
       "19999                                   Action|RPG|Indie   \n",
       "\n",
       "                                                  stores  \\\n",
       "0      Steam|PlayStation Store|Epic Games|Xbox 360 St...   \n",
       "1      GOG|PlayStation Store|Steam|Xbox Store|Nintend...   \n",
       "2      Xbox Store|Steam|PlayStation Store|Xbox 360 Store   \n",
       "3                 PlayStation Store|Steam|Xbox 360 Store   \n",
       "4      Xbox 360 Store|Steam|PlayStation Store|Google ...   \n",
       "...                                                  ...   \n",
       "19995                                              Steam   \n",
       "19996                                              Steam   \n",
       "19997                                              Steam   \n",
       "19998                                              Steam   \n",
       "19999                                              Steam   \n",
       "\n",
       "                                                    tags  \n",
       "0      Singleplayer|Steam Achievements|Multiplayer|Fu...  \n",
       "1      Singleplayer|Full controller support|Atmospher...  \n",
       "2      Singleplayer|Steam Achievements|Multiplayer|Fu...  \n",
       "3      Steam Achievements|Multiplayer|Full controller...  \n",
       "4      Singleplayer|Multiplayer|Full controller suppo...  \n",
       "...                                                  ...  \n",
       "19995                              Design & Illustration  \n",
       "19996  Singleplayer|Steam Achievements|Full controlle...  \n",
       "19997  Singleplayer|Steam Cloud|steam-trading-cards|R...  \n",
       "19998  Singleplayer|Multiplayer|steam-trading-cards|C...  \n",
       "19999  Singleplayer|Steam Achievements|Full controlle...  \n",
       "\n",
       "[20000 rows x 6 columns]"
      ],
      "text/html": [
       "<div>\n",
       "<style scoped>\n",
       "    .dataframe tbody tr th:only-of-type {\n",
       "        vertical-align: middle;\n",
       "    }\n",
       "\n",
       "    .dataframe tbody tr th {\n",
       "        vertical-align: top;\n",
       "    }\n",
       "\n",
       "    .dataframe thead th {\n",
       "        text-align: right;\n",
       "    }\n",
       "</style>\n",
       "<table border=\"1\" class=\"dataframe\">\n",
       "  <thead>\n",
       "    <tr style=\"text-align: right;\">\n",
       "      <th></th>\n",
       "      <th>id</th>\n",
       "      <th>name</th>\n",
       "      <th>platforms</th>\n",
       "      <th>genres</th>\n",
       "      <th>stores</th>\n",
       "      <th>tags</th>\n",
       "    </tr>\n",
       "  </thead>\n",
       "  <tbody>\n",
       "    <tr>\n",
       "      <th>0</th>\n",
       "      <td>3498</td>\n",
       "      <td>Grand Theft Auto V</td>\n",
       "      <td>PC|PlayStation 5|Xbox Series S/X|PlayStation 4...</td>\n",
       "      <td>Action</td>\n",
       "      <td>Steam|PlayStation Store|Epic Games|Xbox 360 St...</td>\n",
       "      <td>Singleplayer|Steam Achievements|Multiplayer|Fu...</td>\n",
       "    </tr>\n",
       "    <tr>\n",
       "      <th>1</th>\n",
       "      <td>3328</td>\n",
       "      <td>The Witcher 3: Wild Hunt</td>\n",
       "      <td>PlayStation 5|Xbox Series S/X|macOS|PlayStatio...</td>\n",
       "      <td>Action|RPG</td>\n",
       "      <td>GOG|PlayStation Store|Steam|Xbox Store|Nintend...</td>\n",
       "      <td>Singleplayer|Full controller support|Atmospher...</td>\n",
       "    </tr>\n",
       "    <tr>\n",
       "      <th>2</th>\n",
       "      <td>4200</td>\n",
       "      <td>Portal 2</td>\n",
       "      <td>PlayStation 3|PC|Xbox 360|Linux|macOS|Xbox One</td>\n",
       "      <td>Shooter|Puzzle</td>\n",
       "      <td>Xbox Store|Steam|PlayStation Store|Xbox 360 Store</td>\n",
       "      <td>Singleplayer|Steam Achievements|Multiplayer|Fu...</td>\n",
       "    </tr>\n",
       "    <tr>\n",
       "      <th>3</th>\n",
       "      <td>4291</td>\n",
       "      <td>Counter-Strike: Global Offensive</td>\n",
       "      <td>PC|Linux|Xbox 360|PlayStation 3</td>\n",
       "      <td>Shooter</td>\n",
       "      <td>PlayStation Store|Steam|Xbox 360 Store</td>\n",
       "      <td>Steam Achievements|Multiplayer|Full controller...</td>\n",
       "    </tr>\n",
       "    <tr>\n",
       "      <th>4</th>\n",
       "      <td>5286</td>\n",
       "      <td>Tomb Raider (2013)</td>\n",
       "      <td>PlayStation 3|Xbox 360|macOS|PC|Xbox One|PlayS...</td>\n",
       "      <td>Action</td>\n",
       "      <td>Xbox 360 Store|Steam|PlayStation Store|Google ...</td>\n",
       "      <td>Singleplayer|Multiplayer|Full controller suppo...</td>\n",
       "    </tr>\n",
       "    <tr>\n",
       "      <th>...</th>\n",
       "      <td>...</td>\n",
       "      <td>...</td>\n",
       "      <td>...</td>\n",
       "      <td>...</td>\n",
       "      <td>...</td>\n",
       "      <td>...</td>\n",
       "    </tr>\n",
       "    <tr>\n",
       "      <th>19995</th>\n",
       "      <td>17151</td>\n",
       "      <td>Fables from the Den</td>\n",
       "      <td>macOS|PC|Linux</td>\n",
       "      <td>NaN</td>\n",
       "      <td>Steam</td>\n",
       "      <td>Design &amp; Illustration</td>\n",
       "    </tr>\n",
       "    <tr>\n",
       "      <th>19996</th>\n",
       "      <td>17108</td>\n",
       "      <td>Mysterious Space</td>\n",
       "      <td>PC</td>\n",
       "      <td>Action|Indie</td>\n",
       "      <td>Steam</td>\n",
       "      <td>Singleplayer|Steam Achievements|Full controlle...</td>\n",
       "    </tr>\n",
       "    <tr>\n",
       "      <th>19997</th>\n",
       "      <td>16530</td>\n",
       "      <td>侠客风云传(Tale of Wuxia)</td>\n",
       "      <td>PC</td>\n",
       "      <td>Adventure|RPG|Strategy|Simulation|Casual</td>\n",
       "      <td>Steam</td>\n",
       "      <td>Singleplayer|Steam Cloud|steam-trading-cards|R...</td>\n",
       "    </tr>\n",
       "    <tr>\n",
       "      <th>19998</th>\n",
       "      <td>16221</td>\n",
       "      <td>Killbot</td>\n",
       "      <td>PC</td>\n",
       "      <td>Action|Adventure|Simulation|Massively Multipla...</td>\n",
       "      <td>Steam</td>\n",
       "      <td>Singleplayer|Multiplayer|steam-trading-cards|C...</td>\n",
       "    </tr>\n",
       "    <tr>\n",
       "      <th>19999</th>\n",
       "      <td>16208</td>\n",
       "      <td>Defragmented</td>\n",
       "      <td>macOS|PC|Linux</td>\n",
       "      <td>Action|RPG|Indie</td>\n",
       "      <td>Steam</td>\n",
       "      <td>Singleplayer|Steam Achievements|Full controlle...</td>\n",
       "    </tr>\n",
       "  </tbody>\n",
       "</table>\n",
       "<p>20000 rows × 6 columns</p>\n",
       "</div>"
      ]
     },
     "execution_count": 15,
     "metadata": {},
     "output_type": "execute_result"
    }
   ],
   "execution_count": 15
  },
  {
   "cell_type": "code",
   "source": [
    "game['stores'].isnull().sum()"
   ],
   "metadata": {
    "id": "cyyK54R7cYDn",
    "outputId": "e8f870e5-ee21-41a1-f2f9-2d1c2fdbaf31",
    "colab": {
     "base_uri": "https://localhost:8080/"
    },
    "ExecuteTime": {
     "end_time": "2025-10-31T15:15:36.044396Z",
     "start_time": "2025-10-31T15:15:36.040390Z"
    }
   },
   "outputs": [
    {
     "data": {
      "text/plain": [
       "np.int64(1158)"
      ]
     },
     "execution_count": 16,
     "metadata": {},
     "output_type": "execute_result"
    }
   ],
   "execution_count": 16
  },
  {
   "cell_type": "code",
   "source": [
    "game['tags'].isnull().sum()"
   ],
   "metadata": {
    "id": "jiLvezXuci26",
    "outputId": "10da5af2-afa4-4449-b18d-1dc8d8d6fee3",
    "colab": {
     "base_uri": "https://localhost:8080/"
    },
    "ExecuteTime": {
     "end_time": "2025-10-31T15:15:36.115732Z",
     "start_time": "2025-10-31T15:15:36.109857Z"
    }
   },
   "outputs": [
    {
     "data": {
      "text/plain": [
       "np.int64(677)"
      ]
     },
     "execution_count": 17,
     "metadata": {},
     "output_type": "execute_result"
    }
   ],
   "execution_count": 17
  },
  {
   "cell_type": "code",
   "source": [
    "game = game.dropna(subset=['genres', 'stores', 'tags', 'platforms'])"
   ],
   "metadata": {
    "id": "X6xmoZwbS0zs",
    "ExecuteTime": {
     "end_time": "2025-10-31T15:15:36.164951Z",
     "start_time": "2025-10-31T15:15:36.153311Z"
    }
   },
   "outputs": [],
   "execution_count": 18
  },
  {
   "cell_type": "code",
   "source": [
    "game"
   ],
   "metadata": {
    "colab": {
     "base_uri": "https://localhost:8080/",
     "height": 721
    },
    "id": "MGyfhPogHFvd",
    "outputId": "2e5bf8a5-0584-4bba-87fa-f8b2fb00995c",
    "ExecuteTime": {
     "end_time": "2025-10-31T15:15:36.231029Z",
     "start_time": "2025-10-31T15:15:36.222728Z"
    }
   },
   "outputs": [
    {
     "data": {
      "text/plain": [
       "          id                              name  \\\n",
       "0       3498                Grand Theft Auto V   \n",
       "1       3328          The Witcher 3: Wild Hunt   \n",
       "2       4200                          Portal 2   \n",
       "3       4291  Counter-Strike: Global Offensive   \n",
       "4       5286                Tomb Raider (2013)   \n",
       "...      ...                               ...   \n",
       "19994  18168                        Lepofrenia   \n",
       "19996  17108                  Mysterious Space   \n",
       "19997  16530              侠客风云传(Tale of Wuxia)   \n",
       "19998  16221                           Killbot   \n",
       "19999  16208                      Defragmented   \n",
       "\n",
       "                                               platforms  \\\n",
       "0      PC|PlayStation 5|Xbox Series S/X|PlayStation 4...   \n",
       "1      PlayStation 5|Xbox Series S/X|macOS|PlayStatio...   \n",
       "2         PlayStation 3|PC|Xbox 360|Linux|macOS|Xbox One   \n",
       "3                        PC|Linux|Xbox 360|PlayStation 3   \n",
       "4      PlayStation 3|Xbox 360|macOS|PC|Xbox One|PlayS...   \n",
       "...                                                  ...   \n",
       "19994                                                 PC   \n",
       "19996                                                 PC   \n",
       "19997                                                 PC   \n",
       "19998                                                 PC   \n",
       "19999                                     macOS|PC|Linux   \n",
       "\n",
       "                                                  genres  \\\n",
       "0                                                 Action   \n",
       "1                                             Action|RPG   \n",
       "2                                         Shooter|Puzzle   \n",
       "3                                                Shooter   \n",
       "4                                                 Action   \n",
       "...                                                  ...   \n",
       "19994                                Adventure|RPG|Indie   \n",
       "19996                                       Action|Indie   \n",
       "19997           Adventure|RPG|Strategy|Simulation|Casual   \n",
       "19998  Action|Adventure|Simulation|Massively Multipla...   \n",
       "19999                                   Action|RPG|Indie   \n",
       "\n",
       "                                                  stores  \\\n",
       "0      Steam|PlayStation Store|Epic Games|Xbox 360 St...   \n",
       "1      GOG|PlayStation Store|Steam|Xbox Store|Nintend...   \n",
       "2      Xbox Store|Steam|PlayStation Store|Xbox 360 Store   \n",
       "3                 PlayStation Store|Steam|Xbox 360 Store   \n",
       "4      Xbox 360 Store|Steam|PlayStation Store|Google ...   \n",
       "...                                                  ...   \n",
       "19994                                              Steam   \n",
       "19996                                              Steam   \n",
       "19997                                              Steam   \n",
       "19998                                              Steam   \n",
       "19999                                              Steam   \n",
       "\n",
       "                                                    tags  \n",
       "0      Singleplayer|Steam Achievements|Multiplayer|Fu...  \n",
       "1      Singleplayer|Full controller support|Atmospher...  \n",
       "2      Singleplayer|Steam Achievements|Multiplayer|Fu...  \n",
       "3      Steam Achievements|Multiplayer|Full controller...  \n",
       "4      Singleplayer|Multiplayer|Full controller suppo...  \n",
       "...                                                  ...  \n",
       "19994  Singleplayer|Steam Achievements|steam-trading-...  \n",
       "19996  Singleplayer|Steam Achievements|Full controlle...  \n",
       "19997  Singleplayer|Steam Cloud|steam-trading-cards|R...  \n",
       "19998  Singleplayer|Multiplayer|steam-trading-cards|C...  \n",
       "19999  Singleplayer|Steam Achievements|Full controlle...  \n",
       "\n",
       "[18285 rows x 6 columns]"
      ],
      "text/html": [
       "<div>\n",
       "<style scoped>\n",
       "    .dataframe tbody tr th:only-of-type {\n",
       "        vertical-align: middle;\n",
       "    }\n",
       "\n",
       "    .dataframe tbody tr th {\n",
       "        vertical-align: top;\n",
       "    }\n",
       "\n",
       "    .dataframe thead th {\n",
       "        text-align: right;\n",
       "    }\n",
       "</style>\n",
       "<table border=\"1\" class=\"dataframe\">\n",
       "  <thead>\n",
       "    <tr style=\"text-align: right;\">\n",
       "      <th></th>\n",
       "      <th>id</th>\n",
       "      <th>name</th>\n",
       "      <th>platforms</th>\n",
       "      <th>genres</th>\n",
       "      <th>stores</th>\n",
       "      <th>tags</th>\n",
       "    </tr>\n",
       "  </thead>\n",
       "  <tbody>\n",
       "    <tr>\n",
       "      <th>0</th>\n",
       "      <td>3498</td>\n",
       "      <td>Grand Theft Auto V</td>\n",
       "      <td>PC|PlayStation 5|Xbox Series S/X|PlayStation 4...</td>\n",
       "      <td>Action</td>\n",
       "      <td>Steam|PlayStation Store|Epic Games|Xbox 360 St...</td>\n",
       "      <td>Singleplayer|Steam Achievements|Multiplayer|Fu...</td>\n",
       "    </tr>\n",
       "    <tr>\n",
       "      <th>1</th>\n",
       "      <td>3328</td>\n",
       "      <td>The Witcher 3: Wild Hunt</td>\n",
       "      <td>PlayStation 5|Xbox Series S/X|macOS|PlayStatio...</td>\n",
       "      <td>Action|RPG</td>\n",
       "      <td>GOG|PlayStation Store|Steam|Xbox Store|Nintend...</td>\n",
       "      <td>Singleplayer|Full controller support|Atmospher...</td>\n",
       "    </tr>\n",
       "    <tr>\n",
       "      <th>2</th>\n",
       "      <td>4200</td>\n",
       "      <td>Portal 2</td>\n",
       "      <td>PlayStation 3|PC|Xbox 360|Linux|macOS|Xbox One</td>\n",
       "      <td>Shooter|Puzzle</td>\n",
       "      <td>Xbox Store|Steam|PlayStation Store|Xbox 360 Store</td>\n",
       "      <td>Singleplayer|Steam Achievements|Multiplayer|Fu...</td>\n",
       "    </tr>\n",
       "    <tr>\n",
       "      <th>3</th>\n",
       "      <td>4291</td>\n",
       "      <td>Counter-Strike: Global Offensive</td>\n",
       "      <td>PC|Linux|Xbox 360|PlayStation 3</td>\n",
       "      <td>Shooter</td>\n",
       "      <td>PlayStation Store|Steam|Xbox 360 Store</td>\n",
       "      <td>Steam Achievements|Multiplayer|Full controller...</td>\n",
       "    </tr>\n",
       "    <tr>\n",
       "      <th>4</th>\n",
       "      <td>5286</td>\n",
       "      <td>Tomb Raider (2013)</td>\n",
       "      <td>PlayStation 3|Xbox 360|macOS|PC|Xbox One|PlayS...</td>\n",
       "      <td>Action</td>\n",
       "      <td>Xbox 360 Store|Steam|PlayStation Store|Google ...</td>\n",
       "      <td>Singleplayer|Multiplayer|Full controller suppo...</td>\n",
       "    </tr>\n",
       "    <tr>\n",
       "      <th>...</th>\n",
       "      <td>...</td>\n",
       "      <td>...</td>\n",
       "      <td>...</td>\n",
       "      <td>...</td>\n",
       "      <td>...</td>\n",
       "      <td>...</td>\n",
       "    </tr>\n",
       "    <tr>\n",
       "      <th>19994</th>\n",
       "      <td>18168</td>\n",
       "      <td>Lepofrenia</td>\n",
       "      <td>PC</td>\n",
       "      <td>Adventure|RPG|Indie</td>\n",
       "      <td>Steam</td>\n",
       "      <td>Singleplayer|Steam Achievements|steam-trading-...</td>\n",
       "    </tr>\n",
       "    <tr>\n",
       "      <th>19996</th>\n",
       "      <td>17108</td>\n",
       "      <td>Mysterious Space</td>\n",
       "      <td>PC</td>\n",
       "      <td>Action|Indie</td>\n",
       "      <td>Steam</td>\n",
       "      <td>Singleplayer|Steam Achievements|Full controlle...</td>\n",
       "    </tr>\n",
       "    <tr>\n",
       "      <th>19997</th>\n",
       "      <td>16530</td>\n",
       "      <td>侠客风云传(Tale of Wuxia)</td>\n",
       "      <td>PC</td>\n",
       "      <td>Adventure|RPG|Strategy|Simulation|Casual</td>\n",
       "      <td>Steam</td>\n",
       "      <td>Singleplayer|Steam Cloud|steam-trading-cards|R...</td>\n",
       "    </tr>\n",
       "    <tr>\n",
       "      <th>19998</th>\n",
       "      <td>16221</td>\n",
       "      <td>Killbot</td>\n",
       "      <td>PC</td>\n",
       "      <td>Action|Adventure|Simulation|Massively Multipla...</td>\n",
       "      <td>Steam</td>\n",
       "      <td>Singleplayer|Multiplayer|steam-trading-cards|C...</td>\n",
       "    </tr>\n",
       "    <tr>\n",
       "      <th>19999</th>\n",
       "      <td>16208</td>\n",
       "      <td>Defragmented</td>\n",
       "      <td>macOS|PC|Linux</td>\n",
       "      <td>Action|RPG|Indie</td>\n",
       "      <td>Steam</td>\n",
       "      <td>Singleplayer|Steam Achievements|Full controlle...</td>\n",
       "    </tr>\n",
       "  </tbody>\n",
       "</table>\n",
       "<p>18285 rows × 6 columns</p>\n",
       "</div>"
      ]
     },
     "execution_count": 19,
     "metadata": {},
     "output_type": "execute_result"
    }
   ],
   "execution_count": 19
  },
  {
   "cell_type": "code",
   "source": [
    "def blank_space_remover(obj):\n",
    "  return obj.str.replace(' ', '', regex=False)"
   ],
   "metadata": {
    "id": "vl7w4_vdFcM9",
    "ExecuteTime": {
     "end_time": "2025-10-31T15:15:36.346098Z",
     "start_time": "2025-10-31T15:15:36.341732Z"
    }
   },
   "outputs": [],
   "execution_count": 20
  },
  {
   "cell_type": "code",
   "source": [
    "game[['platforms', 'genres', 'stores', 'tags']] = game[['platforms', 'genres', 'stores', 'tags']].apply(blank_space_remover)"
   ],
   "metadata": {
    "colab": {
     "base_uri": "https://localhost:8080/"
    },
    "id": "UUmeUU1pFcQb",
    "outputId": "4a27fe29-a1d8-4e97-c0ae-77a5da1ce104",
    "ExecuteTime": {
     "end_time": "2025-10-31T15:15:36.412766Z",
     "start_time": "2025-10-31T15:15:36.386264Z"
    }
   },
   "outputs": [
    {
     "name": "stderr",
     "output_type": "stream",
     "text": [
      "C:\\Users\\Harsh Giri\\AppData\\Local\\Temp\\ipykernel_19904\\2774913022.py:1: SettingWithCopyWarning: \n",
      "A value is trying to be set on a copy of a slice from a DataFrame.\n",
      "Try using .loc[row_indexer,col_indexer] = value instead\n",
      "\n",
      "See the caveats in the documentation: https://pandas.pydata.org/pandas-docs/stable/user_guide/indexing.html#returning-a-view-versus-a-copy\n",
      "  game[['platforms', 'genres', 'stores', 'tags']] = game[['platforms', 'genres', 'stores', 'tags']].apply(blank_space_remover)\n"
     ]
    }
   ],
   "execution_count": 21
  },
  {
   "cell_type": "code",
   "source": [
    "def pipe_remover(obj):\n",
    "  return obj.str.replace('|', ' ', regex=False)"
   ],
   "metadata": {
    "id": "pdSjm7V9-DjB",
    "ExecuteTime": {
     "end_time": "2025-10-31T15:15:36.478508Z",
     "start_time": "2025-10-31T15:15:36.473394Z"
    }
   },
   "outputs": [],
   "execution_count": 22
  },
  {
   "cell_type": "code",
   "source": [
    "game[['platforms', 'genres', 'stores', 'tags']] = game[['platforms', 'genres', 'stores', 'tags']].apply(pipe_remover)"
   ],
   "metadata": {
    "colab": {
     "base_uri": "https://localhost:8080/"
    },
    "id": "IfXezBcX9bhH",
    "outputId": "b422baad-6951-434a-e42d-ec099b2db758",
    "ExecuteTime": {
     "end_time": "2025-10-31T15:15:36.551979Z",
     "start_time": "2025-10-31T15:15:36.525071Z"
    }
   },
   "outputs": [
    {
     "name": "stderr",
     "output_type": "stream",
     "text": [
      "C:\\Users\\Harsh Giri\\AppData\\Local\\Temp\\ipykernel_19904\\4195758581.py:1: SettingWithCopyWarning: \n",
      "A value is trying to be set on a copy of a slice from a DataFrame.\n",
      "Try using .loc[row_indexer,col_indexer] = value instead\n",
      "\n",
      "See the caveats in the documentation: https://pandas.pydata.org/pandas-docs/stable/user_guide/indexing.html#returning-a-view-versus-a-copy\n",
      "  game[['platforms', 'genres', 'stores', 'tags']] = game[['platforms', 'genres', 'stores', 'tags']].apply(pipe_remover)\n"
     ]
    }
   ],
   "execution_count": 23
  },
  {
   "cell_type": "code",
   "source": [
    "game"
   ],
   "metadata": {
    "colab": {
     "base_uri": "https://localhost:8080/",
     "height": 894
    },
    "id": "VJPDOegN9rHt",
    "outputId": "ca0f2d1e-c2c6-4e2c-b7b1-e81a67c0c053",
    "ExecuteTime": {
     "end_time": "2025-10-31T15:15:36.622738Z",
     "start_time": "2025-10-31T15:15:36.612710Z"
    }
   },
   "outputs": [
    {
     "data": {
      "text/plain": [
       "          id                              name  \\\n",
       "0       3498                Grand Theft Auto V   \n",
       "1       3328          The Witcher 3: Wild Hunt   \n",
       "2       4200                          Portal 2   \n",
       "3       4291  Counter-Strike: Global Offensive   \n",
       "4       5286                Tomb Raider (2013)   \n",
       "...      ...                               ...   \n",
       "19994  18168                        Lepofrenia   \n",
       "19996  17108                  Mysterious Space   \n",
       "19997  16530              侠客风云传(Tale of Wuxia)   \n",
       "19998  16221                           Killbot   \n",
       "19999  16208                      Defragmented   \n",
       "\n",
       "                                               platforms  \\\n",
       "0      PC PlayStation5 XboxSeriesS/X PlayStation4 Pla...   \n",
       "1      PlayStation5 XboxSeriesS/X macOS PlayStation4 ...   \n",
       "2            PlayStation3 PC Xbox360 Linux macOS XboxOne   \n",
       "3                          PC Linux Xbox360 PlayStation3   \n",
       "4      PlayStation3 Xbox360 macOS PC XboxOne PlayStat...   \n",
       "...                                                  ...   \n",
       "19994                                                 PC   \n",
       "19996                                                 PC   \n",
       "19997                                                 PC   \n",
       "19998                                                 PC   \n",
       "19999                                     macOS PC Linux   \n",
       "\n",
       "                                                  genres  \\\n",
       "0                                                 Action   \n",
       "1                                             Action RPG   \n",
       "2                                         Shooter Puzzle   \n",
       "3                                                Shooter   \n",
       "4                                                 Action   \n",
       "...                                                  ...   \n",
       "19994                                Adventure RPG Indie   \n",
       "19996                                       Action Indie   \n",
       "19997           Adventure RPG Strategy Simulation Casual   \n",
       "19998  Action Adventure Simulation MassivelyMultiplay...   \n",
       "19999                                   Action RPG Indie   \n",
       "\n",
       "                                                  stores  \\\n",
       "0      Steam PlayStationStore EpicGames Xbox360Store ...   \n",
       "1      GOG PlayStationStore Steam XboxStore NintendoS...   \n",
       "2          XboxStore Steam PlayStationStore Xbox360Store   \n",
       "3                    PlayStationStore Steam Xbox360Store   \n",
       "4      Xbox360Store Steam PlayStationStore GooglePlay...   \n",
       "...                                                  ...   \n",
       "19994                                              Steam   \n",
       "19996                                              Steam   \n",
       "19997                                              Steam   \n",
       "19998                                              Steam   \n",
       "19999                                              Steam   \n",
       "\n",
       "                                                    tags  \n",
       "0      Singleplayer SteamAchievements Multiplayer Ful...  \n",
       "1      Singleplayer Fullcontrollersupport Atmospheric...  \n",
       "2      Singleplayer SteamAchievements Multiplayer Ful...  \n",
       "3      SteamAchievements Multiplayer Fullcontrollersu...  \n",
       "4      Singleplayer Multiplayer Fullcontrollersupport...  \n",
       "...                                                  ...  \n",
       "19994  Singleplayer SteamAchievements steam-trading-c...  \n",
       "19996  Singleplayer SteamAchievements Fullcontrollers...  \n",
       "19997  Singleplayer SteamCloud steam-trading-cards RP...  \n",
       "19998  Singleplayer Multiplayer steam-trading-cards C...  \n",
       "19999  Singleplayer SteamAchievements Fullcontrollers...  \n",
       "\n",
       "[18285 rows x 6 columns]"
      ],
      "text/html": [
       "<div>\n",
       "<style scoped>\n",
       "    .dataframe tbody tr th:only-of-type {\n",
       "        vertical-align: middle;\n",
       "    }\n",
       "\n",
       "    .dataframe tbody tr th {\n",
       "        vertical-align: top;\n",
       "    }\n",
       "\n",
       "    .dataframe thead th {\n",
       "        text-align: right;\n",
       "    }\n",
       "</style>\n",
       "<table border=\"1\" class=\"dataframe\">\n",
       "  <thead>\n",
       "    <tr style=\"text-align: right;\">\n",
       "      <th></th>\n",
       "      <th>id</th>\n",
       "      <th>name</th>\n",
       "      <th>platforms</th>\n",
       "      <th>genres</th>\n",
       "      <th>stores</th>\n",
       "      <th>tags</th>\n",
       "    </tr>\n",
       "  </thead>\n",
       "  <tbody>\n",
       "    <tr>\n",
       "      <th>0</th>\n",
       "      <td>3498</td>\n",
       "      <td>Grand Theft Auto V</td>\n",
       "      <td>PC PlayStation5 XboxSeriesS/X PlayStation4 Pla...</td>\n",
       "      <td>Action</td>\n",
       "      <td>Steam PlayStationStore EpicGames Xbox360Store ...</td>\n",
       "      <td>Singleplayer SteamAchievements Multiplayer Ful...</td>\n",
       "    </tr>\n",
       "    <tr>\n",
       "      <th>1</th>\n",
       "      <td>3328</td>\n",
       "      <td>The Witcher 3: Wild Hunt</td>\n",
       "      <td>PlayStation5 XboxSeriesS/X macOS PlayStation4 ...</td>\n",
       "      <td>Action RPG</td>\n",
       "      <td>GOG PlayStationStore Steam XboxStore NintendoS...</td>\n",
       "      <td>Singleplayer Fullcontrollersupport Atmospheric...</td>\n",
       "    </tr>\n",
       "    <tr>\n",
       "      <th>2</th>\n",
       "      <td>4200</td>\n",
       "      <td>Portal 2</td>\n",
       "      <td>PlayStation3 PC Xbox360 Linux macOS XboxOne</td>\n",
       "      <td>Shooter Puzzle</td>\n",
       "      <td>XboxStore Steam PlayStationStore Xbox360Store</td>\n",
       "      <td>Singleplayer SteamAchievements Multiplayer Ful...</td>\n",
       "    </tr>\n",
       "    <tr>\n",
       "      <th>3</th>\n",
       "      <td>4291</td>\n",
       "      <td>Counter-Strike: Global Offensive</td>\n",
       "      <td>PC Linux Xbox360 PlayStation3</td>\n",
       "      <td>Shooter</td>\n",
       "      <td>PlayStationStore Steam Xbox360Store</td>\n",
       "      <td>SteamAchievements Multiplayer Fullcontrollersu...</td>\n",
       "    </tr>\n",
       "    <tr>\n",
       "      <th>4</th>\n",
       "      <td>5286</td>\n",
       "      <td>Tomb Raider (2013)</td>\n",
       "      <td>PlayStation3 Xbox360 macOS PC XboxOne PlayStat...</td>\n",
       "      <td>Action</td>\n",
       "      <td>Xbox360Store Steam PlayStationStore GooglePlay...</td>\n",
       "      <td>Singleplayer Multiplayer Fullcontrollersupport...</td>\n",
       "    </tr>\n",
       "    <tr>\n",
       "      <th>...</th>\n",
       "      <td>...</td>\n",
       "      <td>...</td>\n",
       "      <td>...</td>\n",
       "      <td>...</td>\n",
       "      <td>...</td>\n",
       "      <td>...</td>\n",
       "    </tr>\n",
       "    <tr>\n",
       "      <th>19994</th>\n",
       "      <td>18168</td>\n",
       "      <td>Lepofrenia</td>\n",
       "      <td>PC</td>\n",
       "      <td>Adventure RPG Indie</td>\n",
       "      <td>Steam</td>\n",
       "      <td>Singleplayer SteamAchievements steam-trading-c...</td>\n",
       "    </tr>\n",
       "    <tr>\n",
       "      <th>19996</th>\n",
       "      <td>17108</td>\n",
       "      <td>Mysterious Space</td>\n",
       "      <td>PC</td>\n",
       "      <td>Action Indie</td>\n",
       "      <td>Steam</td>\n",
       "      <td>Singleplayer SteamAchievements Fullcontrollers...</td>\n",
       "    </tr>\n",
       "    <tr>\n",
       "      <th>19997</th>\n",
       "      <td>16530</td>\n",
       "      <td>侠客风云传(Tale of Wuxia)</td>\n",
       "      <td>PC</td>\n",
       "      <td>Adventure RPG Strategy Simulation Casual</td>\n",
       "      <td>Steam</td>\n",
       "      <td>Singleplayer SteamCloud steam-trading-cards RP...</td>\n",
       "    </tr>\n",
       "    <tr>\n",
       "      <th>19998</th>\n",
       "      <td>16221</td>\n",
       "      <td>Killbot</td>\n",
       "      <td>PC</td>\n",
       "      <td>Action Adventure Simulation MassivelyMultiplay...</td>\n",
       "      <td>Steam</td>\n",
       "      <td>Singleplayer Multiplayer steam-trading-cards C...</td>\n",
       "    </tr>\n",
       "    <tr>\n",
       "      <th>19999</th>\n",
       "      <td>16208</td>\n",
       "      <td>Defragmented</td>\n",
       "      <td>macOS PC Linux</td>\n",
       "      <td>Action RPG Indie</td>\n",
       "      <td>Steam</td>\n",
       "      <td>Singleplayer SteamAchievements Fullcontrollers...</td>\n",
       "    </tr>\n",
       "  </tbody>\n",
       "</table>\n",
       "<p>18285 rows × 6 columns</p>\n",
       "</div>"
      ]
     },
     "execution_count": 24,
     "metadata": {},
     "output_type": "execute_result"
    }
   ],
   "execution_count": 24
  },
  {
   "cell_type": "code",
   "source": [
    "game['tags'] = game['platforms'] + ' ' + game['genres'] + ' ' + game['stores'] + ' ' + game['tags']"
   ],
   "metadata": {
    "colab": {
     "base_uri": "https://localhost:8080/"
    },
    "id": "I-9Sjj1c-kjB",
    "outputId": "56e94b29-c07e-4ab8-bee8-4c7355b49a90",
    "ExecuteTime": {
     "end_time": "2025-10-31T15:15:36.705197Z",
     "start_time": "2025-10-31T15:15:36.693242Z"
    }
   },
   "outputs": [
    {
     "name": "stderr",
     "output_type": "stream",
     "text": [
      "C:\\Users\\Harsh Giri\\AppData\\Local\\Temp\\ipykernel_19904\\2440153178.py:1: SettingWithCopyWarning: \n",
      "A value is trying to be set on a copy of a slice from a DataFrame.\n",
      "Try using .loc[row_indexer,col_indexer] = value instead\n",
      "\n",
      "See the caveats in the documentation: https://pandas.pydata.org/pandas-docs/stable/user_guide/indexing.html#returning-a-view-versus-a-copy\n",
      "  game['tags'] = game['platforms'] + ' ' + game['genres'] + ' ' + game['stores'] + ' ' + game['tags']\n"
     ]
    }
   ],
   "execution_count": 25
  },
  {
   "cell_type": "code",
   "source": [
    "game"
   ],
   "metadata": {
    "colab": {
     "base_uri": "https://localhost:8080/",
     "height": 857
    },
    "id": "vtutX0r2_Cxz",
    "outputId": "07271dca-8acc-4d7d-a840-eeb7b68eb47a",
    "ExecuteTime": {
     "end_time": "2025-10-31T15:15:36.794865Z",
     "start_time": "2025-10-31T15:15:36.786228Z"
    }
   },
   "outputs": [
    {
     "data": {
      "text/plain": [
       "          id                              name  \\\n",
       "0       3498                Grand Theft Auto V   \n",
       "1       3328          The Witcher 3: Wild Hunt   \n",
       "2       4200                          Portal 2   \n",
       "3       4291  Counter-Strike: Global Offensive   \n",
       "4       5286                Tomb Raider (2013)   \n",
       "...      ...                               ...   \n",
       "19994  18168                        Lepofrenia   \n",
       "19996  17108                  Mysterious Space   \n",
       "19997  16530              侠客风云传(Tale of Wuxia)   \n",
       "19998  16221                           Killbot   \n",
       "19999  16208                      Defragmented   \n",
       "\n",
       "                                               platforms  \\\n",
       "0      PC PlayStation5 XboxSeriesS/X PlayStation4 Pla...   \n",
       "1      PlayStation5 XboxSeriesS/X macOS PlayStation4 ...   \n",
       "2            PlayStation3 PC Xbox360 Linux macOS XboxOne   \n",
       "3                          PC Linux Xbox360 PlayStation3   \n",
       "4      PlayStation3 Xbox360 macOS PC XboxOne PlayStat...   \n",
       "...                                                  ...   \n",
       "19994                                                 PC   \n",
       "19996                                                 PC   \n",
       "19997                                                 PC   \n",
       "19998                                                 PC   \n",
       "19999                                     macOS PC Linux   \n",
       "\n",
       "                                                  genres  \\\n",
       "0                                                 Action   \n",
       "1                                             Action RPG   \n",
       "2                                         Shooter Puzzle   \n",
       "3                                                Shooter   \n",
       "4                                                 Action   \n",
       "...                                                  ...   \n",
       "19994                                Adventure RPG Indie   \n",
       "19996                                       Action Indie   \n",
       "19997           Adventure RPG Strategy Simulation Casual   \n",
       "19998  Action Adventure Simulation MassivelyMultiplay...   \n",
       "19999                                   Action RPG Indie   \n",
       "\n",
       "                                                  stores  \\\n",
       "0      Steam PlayStationStore EpicGames Xbox360Store ...   \n",
       "1      GOG PlayStationStore Steam XboxStore NintendoS...   \n",
       "2          XboxStore Steam PlayStationStore Xbox360Store   \n",
       "3                    PlayStationStore Steam Xbox360Store   \n",
       "4      Xbox360Store Steam PlayStationStore GooglePlay...   \n",
       "...                                                  ...   \n",
       "19994                                              Steam   \n",
       "19996                                              Steam   \n",
       "19997                                              Steam   \n",
       "19998                                              Steam   \n",
       "19999                                              Steam   \n",
       "\n",
       "                                                    tags  \n",
       "0      PC PlayStation5 XboxSeriesS/X PlayStation4 Pla...  \n",
       "1      PlayStation5 XboxSeriesS/X macOS PlayStation4 ...  \n",
       "2      PlayStation3 PC Xbox360 Linux macOS XboxOne Sh...  \n",
       "3      PC Linux Xbox360 PlayStation3 Shooter PlayStat...  \n",
       "4      PlayStation3 Xbox360 macOS PC XboxOne PlayStat...  \n",
       "...                                                  ...  \n",
       "19994  PC Adventure RPG Indie Steam Singleplayer Stea...  \n",
       "19996  PC Action Indie Steam Singleplayer SteamAchiev...  \n",
       "19997  PC Adventure RPG Strategy Simulation Casual St...  \n",
       "19998  PC Action Adventure Simulation MassivelyMultip...  \n",
       "19999  macOS PC Linux Action RPG Indie Steam Singlepl...  \n",
       "\n",
       "[18285 rows x 6 columns]"
      ],
      "text/html": [
       "<div>\n",
       "<style scoped>\n",
       "    .dataframe tbody tr th:only-of-type {\n",
       "        vertical-align: middle;\n",
       "    }\n",
       "\n",
       "    .dataframe tbody tr th {\n",
       "        vertical-align: top;\n",
       "    }\n",
       "\n",
       "    .dataframe thead th {\n",
       "        text-align: right;\n",
       "    }\n",
       "</style>\n",
       "<table border=\"1\" class=\"dataframe\">\n",
       "  <thead>\n",
       "    <tr style=\"text-align: right;\">\n",
       "      <th></th>\n",
       "      <th>id</th>\n",
       "      <th>name</th>\n",
       "      <th>platforms</th>\n",
       "      <th>genres</th>\n",
       "      <th>stores</th>\n",
       "      <th>tags</th>\n",
       "    </tr>\n",
       "  </thead>\n",
       "  <tbody>\n",
       "    <tr>\n",
       "      <th>0</th>\n",
       "      <td>3498</td>\n",
       "      <td>Grand Theft Auto V</td>\n",
       "      <td>PC PlayStation5 XboxSeriesS/X PlayStation4 Pla...</td>\n",
       "      <td>Action</td>\n",
       "      <td>Steam PlayStationStore EpicGames Xbox360Store ...</td>\n",
       "      <td>PC PlayStation5 XboxSeriesS/X PlayStation4 Pla...</td>\n",
       "    </tr>\n",
       "    <tr>\n",
       "      <th>1</th>\n",
       "      <td>3328</td>\n",
       "      <td>The Witcher 3: Wild Hunt</td>\n",
       "      <td>PlayStation5 XboxSeriesS/X macOS PlayStation4 ...</td>\n",
       "      <td>Action RPG</td>\n",
       "      <td>GOG PlayStationStore Steam XboxStore NintendoS...</td>\n",
       "      <td>PlayStation5 XboxSeriesS/X macOS PlayStation4 ...</td>\n",
       "    </tr>\n",
       "    <tr>\n",
       "      <th>2</th>\n",
       "      <td>4200</td>\n",
       "      <td>Portal 2</td>\n",
       "      <td>PlayStation3 PC Xbox360 Linux macOS XboxOne</td>\n",
       "      <td>Shooter Puzzle</td>\n",
       "      <td>XboxStore Steam PlayStationStore Xbox360Store</td>\n",
       "      <td>PlayStation3 PC Xbox360 Linux macOS XboxOne Sh...</td>\n",
       "    </tr>\n",
       "    <tr>\n",
       "      <th>3</th>\n",
       "      <td>4291</td>\n",
       "      <td>Counter-Strike: Global Offensive</td>\n",
       "      <td>PC Linux Xbox360 PlayStation3</td>\n",
       "      <td>Shooter</td>\n",
       "      <td>PlayStationStore Steam Xbox360Store</td>\n",
       "      <td>PC Linux Xbox360 PlayStation3 Shooter PlayStat...</td>\n",
       "    </tr>\n",
       "    <tr>\n",
       "      <th>4</th>\n",
       "      <td>5286</td>\n",
       "      <td>Tomb Raider (2013)</td>\n",
       "      <td>PlayStation3 Xbox360 macOS PC XboxOne PlayStat...</td>\n",
       "      <td>Action</td>\n",
       "      <td>Xbox360Store Steam PlayStationStore GooglePlay...</td>\n",
       "      <td>PlayStation3 Xbox360 macOS PC XboxOne PlayStat...</td>\n",
       "    </tr>\n",
       "    <tr>\n",
       "      <th>...</th>\n",
       "      <td>...</td>\n",
       "      <td>...</td>\n",
       "      <td>...</td>\n",
       "      <td>...</td>\n",
       "      <td>...</td>\n",
       "      <td>...</td>\n",
       "    </tr>\n",
       "    <tr>\n",
       "      <th>19994</th>\n",
       "      <td>18168</td>\n",
       "      <td>Lepofrenia</td>\n",
       "      <td>PC</td>\n",
       "      <td>Adventure RPG Indie</td>\n",
       "      <td>Steam</td>\n",
       "      <td>PC Adventure RPG Indie Steam Singleplayer Stea...</td>\n",
       "    </tr>\n",
       "    <tr>\n",
       "      <th>19996</th>\n",
       "      <td>17108</td>\n",
       "      <td>Mysterious Space</td>\n",
       "      <td>PC</td>\n",
       "      <td>Action Indie</td>\n",
       "      <td>Steam</td>\n",
       "      <td>PC Action Indie Steam Singleplayer SteamAchiev...</td>\n",
       "    </tr>\n",
       "    <tr>\n",
       "      <th>19997</th>\n",
       "      <td>16530</td>\n",
       "      <td>侠客风云传(Tale of Wuxia)</td>\n",
       "      <td>PC</td>\n",
       "      <td>Adventure RPG Strategy Simulation Casual</td>\n",
       "      <td>Steam</td>\n",
       "      <td>PC Adventure RPG Strategy Simulation Casual St...</td>\n",
       "    </tr>\n",
       "    <tr>\n",
       "      <th>19998</th>\n",
       "      <td>16221</td>\n",
       "      <td>Killbot</td>\n",
       "      <td>PC</td>\n",
       "      <td>Action Adventure Simulation MassivelyMultiplay...</td>\n",
       "      <td>Steam</td>\n",
       "      <td>PC Action Adventure Simulation MassivelyMultip...</td>\n",
       "    </tr>\n",
       "    <tr>\n",
       "      <th>19999</th>\n",
       "      <td>16208</td>\n",
       "      <td>Defragmented</td>\n",
       "      <td>macOS PC Linux</td>\n",
       "      <td>Action RPG Indie</td>\n",
       "      <td>Steam</td>\n",
       "      <td>macOS PC Linux Action RPG Indie Steam Singlepl...</td>\n",
       "    </tr>\n",
       "  </tbody>\n",
       "</table>\n",
       "<p>18285 rows × 6 columns</p>\n",
       "</div>"
      ]
     },
     "execution_count": 26,
     "metadata": {},
     "output_type": "execute_result"
    }
   ],
   "execution_count": 26
  },
  {
   "cell_type": "code",
   "source": [
    "game = game[['id', 'name', 'tags']]"
   ],
   "metadata": {
    "id": "BpH75UM__D8M",
    "ExecuteTime": {
     "end_time": "2025-10-31T15:15:37.094687Z",
     "start_time": "2025-10-31T15:15:37.087940Z"
    }
   },
   "outputs": [],
   "execution_count": 27
  },
  {
   "cell_type": "code",
   "source": [
    "game"
   ],
   "metadata": {
    "colab": {
     "base_uri": "https://localhost:8080/",
     "height": 423
    },
    "id": "x41cL9s3_JaQ",
    "outputId": "5c0d4bd4-6a3d-41f6-cc69-5e668ff021fe",
    "ExecuteTime": {
     "end_time": "2025-10-31T15:15:37.147691Z",
     "start_time": "2025-10-31T15:15:37.139661Z"
    }
   },
   "outputs": [
    {
     "data": {
      "text/plain": [
       "          id                              name  \\\n",
       "0       3498                Grand Theft Auto V   \n",
       "1       3328          The Witcher 3: Wild Hunt   \n",
       "2       4200                          Portal 2   \n",
       "3       4291  Counter-Strike: Global Offensive   \n",
       "4       5286                Tomb Raider (2013)   \n",
       "...      ...                               ...   \n",
       "19994  18168                        Lepofrenia   \n",
       "19996  17108                  Mysterious Space   \n",
       "19997  16530              侠客风云传(Tale of Wuxia)   \n",
       "19998  16221                           Killbot   \n",
       "19999  16208                      Defragmented   \n",
       "\n",
       "                                                    tags  \n",
       "0      PC PlayStation5 XboxSeriesS/X PlayStation4 Pla...  \n",
       "1      PlayStation5 XboxSeriesS/X macOS PlayStation4 ...  \n",
       "2      PlayStation3 PC Xbox360 Linux macOS XboxOne Sh...  \n",
       "3      PC Linux Xbox360 PlayStation3 Shooter PlayStat...  \n",
       "4      PlayStation3 Xbox360 macOS PC XboxOne PlayStat...  \n",
       "...                                                  ...  \n",
       "19994  PC Adventure RPG Indie Steam Singleplayer Stea...  \n",
       "19996  PC Action Indie Steam Singleplayer SteamAchiev...  \n",
       "19997  PC Adventure RPG Strategy Simulation Casual St...  \n",
       "19998  PC Action Adventure Simulation MassivelyMultip...  \n",
       "19999  macOS PC Linux Action RPG Indie Steam Singlepl...  \n",
       "\n",
       "[18285 rows x 3 columns]"
      ],
      "text/html": [
       "<div>\n",
       "<style scoped>\n",
       "    .dataframe tbody tr th:only-of-type {\n",
       "        vertical-align: middle;\n",
       "    }\n",
       "\n",
       "    .dataframe tbody tr th {\n",
       "        vertical-align: top;\n",
       "    }\n",
       "\n",
       "    .dataframe thead th {\n",
       "        text-align: right;\n",
       "    }\n",
       "</style>\n",
       "<table border=\"1\" class=\"dataframe\">\n",
       "  <thead>\n",
       "    <tr style=\"text-align: right;\">\n",
       "      <th></th>\n",
       "      <th>id</th>\n",
       "      <th>name</th>\n",
       "      <th>tags</th>\n",
       "    </tr>\n",
       "  </thead>\n",
       "  <tbody>\n",
       "    <tr>\n",
       "      <th>0</th>\n",
       "      <td>3498</td>\n",
       "      <td>Grand Theft Auto V</td>\n",
       "      <td>PC PlayStation5 XboxSeriesS/X PlayStation4 Pla...</td>\n",
       "    </tr>\n",
       "    <tr>\n",
       "      <th>1</th>\n",
       "      <td>3328</td>\n",
       "      <td>The Witcher 3: Wild Hunt</td>\n",
       "      <td>PlayStation5 XboxSeriesS/X macOS PlayStation4 ...</td>\n",
       "    </tr>\n",
       "    <tr>\n",
       "      <th>2</th>\n",
       "      <td>4200</td>\n",
       "      <td>Portal 2</td>\n",
       "      <td>PlayStation3 PC Xbox360 Linux macOS XboxOne Sh...</td>\n",
       "    </tr>\n",
       "    <tr>\n",
       "      <th>3</th>\n",
       "      <td>4291</td>\n",
       "      <td>Counter-Strike: Global Offensive</td>\n",
       "      <td>PC Linux Xbox360 PlayStation3 Shooter PlayStat...</td>\n",
       "    </tr>\n",
       "    <tr>\n",
       "      <th>4</th>\n",
       "      <td>5286</td>\n",
       "      <td>Tomb Raider (2013)</td>\n",
       "      <td>PlayStation3 Xbox360 macOS PC XboxOne PlayStat...</td>\n",
       "    </tr>\n",
       "    <tr>\n",
       "      <th>...</th>\n",
       "      <td>...</td>\n",
       "      <td>...</td>\n",
       "      <td>...</td>\n",
       "    </tr>\n",
       "    <tr>\n",
       "      <th>19994</th>\n",
       "      <td>18168</td>\n",
       "      <td>Lepofrenia</td>\n",
       "      <td>PC Adventure RPG Indie Steam Singleplayer Stea...</td>\n",
       "    </tr>\n",
       "    <tr>\n",
       "      <th>19996</th>\n",
       "      <td>17108</td>\n",
       "      <td>Mysterious Space</td>\n",
       "      <td>PC Action Indie Steam Singleplayer SteamAchiev...</td>\n",
       "    </tr>\n",
       "    <tr>\n",
       "      <th>19997</th>\n",
       "      <td>16530</td>\n",
       "      <td>侠客风云传(Tale of Wuxia)</td>\n",
       "      <td>PC Adventure RPG Strategy Simulation Casual St...</td>\n",
       "    </tr>\n",
       "    <tr>\n",
       "      <th>19998</th>\n",
       "      <td>16221</td>\n",
       "      <td>Killbot</td>\n",
       "      <td>PC Action Adventure Simulation MassivelyMultip...</td>\n",
       "    </tr>\n",
       "    <tr>\n",
       "      <th>19999</th>\n",
       "      <td>16208</td>\n",
       "      <td>Defragmented</td>\n",
       "      <td>macOS PC Linux Action RPG Indie Steam Singlepl...</td>\n",
       "    </tr>\n",
       "  </tbody>\n",
       "</table>\n",
       "<p>18285 rows × 3 columns</p>\n",
       "</div>"
      ]
     },
     "execution_count": 28,
     "metadata": {},
     "output_type": "execute_result"
    }
   ],
   "execution_count": 28
  },
  {
   "cell_type": "code",
   "source": [
    "game['tags'][0]"
   ],
   "metadata": {
    "colab": {
     "base_uri": "https://localhost:8080/",
     "height": 104
    },
    "id": "hce2E4ZI_JzS",
    "outputId": "b6d57670-9bc3-4adc-c2f4-ab90dc84e7a0",
    "ExecuteTime": {
     "end_time": "2025-10-31T15:15:37.227538Z",
     "start_time": "2025-10-31T15:15:37.219461Z"
    }
   },
   "outputs": [
    {
     "data": {
      "text/plain": [
       "'PC PlayStation5 XboxSeriesS/X PlayStation4 PlayStation3 Xbox360 XboxOne Action Steam PlayStationStore EpicGames Xbox360Store XboxStore Singleplayer SteamAchievements Multiplayer Fullcontrollersupport Atmospheric GreatSoundtrack RPG Co-op OpenWorld cooperative First-Person ThirdPerson Funny Sandbox Comedy Third-PersonShooter Moddable Crime vrmod'"
      ]
     },
     "execution_count": 29,
     "metadata": {},
     "output_type": "execute_result"
    }
   ],
   "execution_count": 29
  },
  {
   "cell_type": "code",
   "source": [
    "game['tags'] = game['tags'].str.lower()"
   ],
   "metadata": {
    "colab": {
     "base_uri": "https://localhost:8080/"
    },
    "id": "cIT_5om9_Sti",
    "outputId": "77384277-4f20-4efa-ba67-3fc8e4610006",
    "ExecuteTime": {
     "end_time": "2025-10-31T15:15:37.306801Z",
     "start_time": "2025-10-31T15:15:37.296778Z"
    }
   },
   "outputs": [
    {
     "name": "stderr",
     "output_type": "stream",
     "text": [
      "C:\\Users\\Harsh Giri\\AppData\\Local\\Temp\\ipykernel_19904\\1078704792.py:1: SettingWithCopyWarning: \n",
      "A value is trying to be set on a copy of a slice from a DataFrame.\n",
      "Try using .loc[row_indexer,col_indexer] = value instead\n",
      "\n",
      "See the caveats in the documentation: https://pandas.pydata.org/pandas-docs/stable/user_guide/indexing.html#returning-a-view-versus-a-copy\n",
      "  game['tags'] = game['tags'].str.lower()\n"
     ]
    }
   ],
   "execution_count": 30
  },
  {
   "cell_type": "code",
   "source": [
    "game"
   ],
   "metadata": {
    "colab": {
     "base_uri": "https://localhost:8080/",
     "height": 423
    },
    "id": "_cnM76DTGU6O",
    "outputId": "519d0258-bf0a-49f4-cc9d-0f15f9cbc4a8",
    "ExecuteTime": {
     "end_time": "2025-10-31T15:15:37.335674Z",
     "start_time": "2025-10-31T15:15:37.327316Z"
    }
   },
   "outputs": [
    {
     "data": {
      "text/plain": [
       "          id                              name  \\\n",
       "0       3498                Grand Theft Auto V   \n",
       "1       3328          The Witcher 3: Wild Hunt   \n",
       "2       4200                          Portal 2   \n",
       "3       4291  Counter-Strike: Global Offensive   \n",
       "4       5286                Tomb Raider (2013)   \n",
       "...      ...                               ...   \n",
       "19994  18168                        Lepofrenia   \n",
       "19996  17108                  Mysterious Space   \n",
       "19997  16530              侠客风云传(Tale of Wuxia)   \n",
       "19998  16221                           Killbot   \n",
       "19999  16208                      Defragmented   \n",
       "\n",
       "                                                    tags  \n",
       "0      pc playstation5 xboxseriess/x playstation4 pla...  \n",
       "1      playstation5 xboxseriess/x macos playstation4 ...  \n",
       "2      playstation3 pc xbox360 linux macos xboxone sh...  \n",
       "3      pc linux xbox360 playstation3 shooter playstat...  \n",
       "4      playstation3 xbox360 macos pc xboxone playstat...  \n",
       "...                                                  ...  \n",
       "19994  pc adventure rpg indie steam singleplayer stea...  \n",
       "19996  pc action indie steam singleplayer steamachiev...  \n",
       "19997  pc adventure rpg strategy simulation casual st...  \n",
       "19998  pc action adventure simulation massivelymultip...  \n",
       "19999  macos pc linux action rpg indie steam singlepl...  \n",
       "\n",
       "[18285 rows x 3 columns]"
      ],
      "text/html": [
       "<div>\n",
       "<style scoped>\n",
       "    .dataframe tbody tr th:only-of-type {\n",
       "        vertical-align: middle;\n",
       "    }\n",
       "\n",
       "    .dataframe tbody tr th {\n",
       "        vertical-align: top;\n",
       "    }\n",
       "\n",
       "    .dataframe thead th {\n",
       "        text-align: right;\n",
       "    }\n",
       "</style>\n",
       "<table border=\"1\" class=\"dataframe\">\n",
       "  <thead>\n",
       "    <tr style=\"text-align: right;\">\n",
       "      <th></th>\n",
       "      <th>id</th>\n",
       "      <th>name</th>\n",
       "      <th>tags</th>\n",
       "    </tr>\n",
       "  </thead>\n",
       "  <tbody>\n",
       "    <tr>\n",
       "      <th>0</th>\n",
       "      <td>3498</td>\n",
       "      <td>Grand Theft Auto V</td>\n",
       "      <td>pc playstation5 xboxseriess/x playstation4 pla...</td>\n",
       "    </tr>\n",
       "    <tr>\n",
       "      <th>1</th>\n",
       "      <td>3328</td>\n",
       "      <td>The Witcher 3: Wild Hunt</td>\n",
       "      <td>playstation5 xboxseriess/x macos playstation4 ...</td>\n",
       "    </tr>\n",
       "    <tr>\n",
       "      <th>2</th>\n",
       "      <td>4200</td>\n",
       "      <td>Portal 2</td>\n",
       "      <td>playstation3 pc xbox360 linux macos xboxone sh...</td>\n",
       "    </tr>\n",
       "    <tr>\n",
       "      <th>3</th>\n",
       "      <td>4291</td>\n",
       "      <td>Counter-Strike: Global Offensive</td>\n",
       "      <td>pc linux xbox360 playstation3 shooter playstat...</td>\n",
       "    </tr>\n",
       "    <tr>\n",
       "      <th>4</th>\n",
       "      <td>5286</td>\n",
       "      <td>Tomb Raider (2013)</td>\n",
       "      <td>playstation3 xbox360 macos pc xboxone playstat...</td>\n",
       "    </tr>\n",
       "    <tr>\n",
       "      <th>...</th>\n",
       "      <td>...</td>\n",
       "      <td>...</td>\n",
       "      <td>...</td>\n",
       "    </tr>\n",
       "    <tr>\n",
       "      <th>19994</th>\n",
       "      <td>18168</td>\n",
       "      <td>Lepofrenia</td>\n",
       "      <td>pc adventure rpg indie steam singleplayer stea...</td>\n",
       "    </tr>\n",
       "    <tr>\n",
       "      <th>19996</th>\n",
       "      <td>17108</td>\n",
       "      <td>Mysterious Space</td>\n",
       "      <td>pc action indie steam singleplayer steamachiev...</td>\n",
       "    </tr>\n",
       "    <tr>\n",
       "      <th>19997</th>\n",
       "      <td>16530</td>\n",
       "      <td>侠客风云传(Tale of Wuxia)</td>\n",
       "      <td>pc adventure rpg strategy simulation casual st...</td>\n",
       "    </tr>\n",
       "    <tr>\n",
       "      <th>19998</th>\n",
       "      <td>16221</td>\n",
       "      <td>Killbot</td>\n",
       "      <td>pc action adventure simulation massivelymultip...</td>\n",
       "    </tr>\n",
       "    <tr>\n",
       "      <th>19999</th>\n",
       "      <td>16208</td>\n",
       "      <td>Defragmented</td>\n",
       "      <td>macos pc linux action rpg indie steam singlepl...</td>\n",
       "    </tr>\n",
       "  </tbody>\n",
       "</table>\n",
       "<p>18285 rows × 3 columns</p>\n",
       "</div>"
      ]
     },
     "execution_count": 31,
     "metadata": {},
     "output_type": "execute_result"
    }
   ],
   "execution_count": 31
  },
  {
   "cell_type": "code",
   "source": [
    "cv = CountVectorizer(max_features=1000, stop_words='english')\n",
    "vectors = cv.fit_transform(game['tags']).toarray()"
   ],
   "metadata": {
    "id": "gqi5-hI9GXE9",
    "ExecuteTime": {
     "end_time": "2025-10-31T15:15:39.842968Z",
     "start_time": "2025-10-31T15:15:39.609186Z"
    }
   },
   "outputs": [],
   "execution_count": 32
  },
  {
   "cell_type": "code",
   "source": [
    "vectors.shape"
   ],
   "metadata": {
    "id": "KOIDaMV7fBTr",
    "outputId": "8cd5ad67-542d-4f65-d420-e66a9a15493a",
    "colab": {
     "base_uri": "https://localhost:8080/"
    },
    "ExecuteTime": {
     "end_time": "2025-10-31T15:15:39.852234Z",
     "start_time": "2025-10-31T15:15:39.847555Z"
    }
   },
   "outputs": [
    {
     "data": {
      "text/plain": [
       "(18285, 1000)"
      ]
     },
     "execution_count": 33,
     "metadata": {},
     "output_type": "execute_result"
    }
   ],
   "execution_count": 33
  },
  {
   "cell_type": "code",
   "source": [
    "game = game.reset_index(drop=True)"
   ],
   "metadata": {
    "id": "6OIdRQANW3p6",
    "ExecuteTime": {
     "end_time": "2025-10-31T15:15:39.866250Z",
     "start_time": "2025-10-31T15:15:39.857873Z"
    }
   },
   "outputs": [],
   "execution_count": 34
  },
  {
   "cell_type": "code",
   "source": [
    "similarity = cosine_similarity(vectors)"
   ],
   "metadata": {
    "id": "1gUupuDuGhXh",
    "ExecuteTime": {
     "end_time": "2025-10-31T15:15:43.062425Z",
     "start_time": "2025-10-31T15:15:39.875746Z"
    }
   },
   "outputs": [],
   "execution_count": 35
  },
  {
   "cell_type": "code",
   "source": [
    "similarity"
   ],
   "metadata": {
    "colab": {
     "base_uri": "https://localhost:8080/"
    },
    "id": "oKiKNAvQTwnr",
    "outputId": "42593277-ef9f-4b93-fef7-3b1b327d075a",
    "ExecuteTime": {
     "end_time": "2025-10-31T15:15:48.141413Z",
     "start_time": "2025-10-31T15:15:48.136173Z"
    }
   },
   "outputs": [
    {
     "data": {
      "text/plain": [
       "array([[1.        , 0.53033009, 0.525     , ..., 0.21650635, 0.31819805,\n",
       "        0.36084392],\n",
       "       [0.53033009, 1.        , 0.25927249, ..., 0.34020691, 0.16666667,\n",
       "        0.47628967],\n",
       "       [0.525     , 0.25927249, 1.        , ..., 0.28867513, 0.48083261,\n",
       "        0.40414519],\n",
       "       ...,\n",
       "       [0.21650635, 0.34020691, 0.28867513, ..., 1.        , 0.40824829,\n",
       "        0.58333333],\n",
       "       [0.31819805, 0.16666667, 0.48083261, ..., 0.40824829, 1.        ,\n",
       "        0.40824829],\n",
       "       [0.36084392, 0.47628967, 0.40414519, ..., 0.58333333, 0.40824829,\n",
       "        1.        ]], shape=(18285, 18285))"
      ]
     },
     "execution_count": 36,
     "metadata": {},
     "output_type": "execute_result"
    }
   ],
   "execution_count": 36
  },
  {
   "cell_type": "code",
   "source": [
    "def recommend(games):\n",
    "  game_index = game[game['name'] == games].index[0]\n",
    "  distances = similarity[game_index]\n",
    "  games_list = sorted(list(enumerate(distances)), reverse=True, key=lambda x:x[1])[1:6]\n",
    "  for i in games_list:\n",
    "        print(game.iloc[i[0]]['name'])"
   ],
   "metadata": {
    "id": "OlR4XNMdTynp",
    "ExecuteTime": {
     "end_time": "2025-10-31T15:15:48.168338Z",
     "start_time": "2025-10-31T15:15:48.163698Z"
    }
   },
   "outputs": [],
   "execution_count": 37
  },
  {
   "cell_type": "code",
   "source": [
    "recommend('Mysterious Space')"
   ],
   "metadata": {
    "colab": {
     "base_uri": "https://localhost:8080/"
    },
    "id": "wdhW1kh5UKcB",
    "outputId": "9a27263f-b2c3-4f3b-dfee-ad3ccd6780ea",
    "ExecuteTime": {
     "end_time": "2025-10-31T15:15:48.307417Z",
     "start_time": "2025-10-31T15:15:48.287615Z"
    }
   },
   "outputs": [
    {
     "name": "stdout",
     "output_type": "stream",
     "text": [
      "Chompy Chomp Chomp\n",
      "Slam Bolt Scrappers\n",
      "Operation KREEP\n",
      "Porcunipine\n",
      "IACTURA\n"
     ]
    }
   ],
   "execution_count": 38
  }
 ]
}
