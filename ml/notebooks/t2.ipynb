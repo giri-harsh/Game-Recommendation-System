{
 "cells": [
  {
   "cell_type": "code",
   "id": "initial_id",
   "metadata": {
    "collapsed": true,
    "ExecuteTime": {
     "end_time": "2025-10-27T17:34:55.343401Z",
     "start_time": "2025-10-27T17:34:55.339037Z"
    }
   },
   "source": "import  pandas as pd",
   "outputs": [],
   "execution_count": 1
  },
  {
   "metadata": {
    "ExecuteTime": {
     "end_time": "2025-10-27T17:35:45.933140Z",
     "start_time": "2025-10-27T17:35:45.905832Z"
    }
   },
   "cell_type": "code",
   "source": "df = pd.read_csv(r\"C:\\Work\\Programing Language\\task4\\Game-Recommendation-System\\data\\raw\\rawg_games_4k.csv\")",
   "id": "83cf7bf4f8f372a2",
   "outputs": [],
   "execution_count": 2
  },
  {
   "metadata": {
    "ExecuteTime": {
     "end_time": "2025-10-27T17:35:49.889753Z",
     "start_time": "2025-10-27T17:35:49.875756Z"
    }
   },
   "cell_type": "code",
   "source": "df.head()",
   "id": "d79bc0b81add9c4a",
   "outputs": [
    {
     "data": {
      "text/plain": [
       "     id                              name                             slug  \\\n",
       "0  3498                Grand Theft Auto V               grand-theft-auto-v   \n",
       "1  3328          The Witcher 3: Wild Hunt          the-witcher-3-wild-hunt   \n",
       "2  4200                          Portal 2                         portal-2   \n",
       "3  4291  Counter-Strike: Global Offensive  counter-strike-global-offensive   \n",
       "4  5286                Tomb Raider (2013)                      tomb-raider   \n",
       "\n",
       "     released  metacritic  rating  ratings_count  \\\n",
       "0  2013-09-17        92.0    4.47           7235   \n",
       "1  2015-05-18        92.0    4.64           7052   \n",
       "2  2011-04-18        95.0    4.58           5991   \n",
       "3  2012-08-21        81.0    3.57           3603   \n",
       "4  2013-03-05        86.0    4.06           4048   \n",
       "\n",
       "                                           platforms          genres  \\\n",
       "0  PC|PlayStation 5|Xbox Series S/X|PlayStation 4...          Action   \n",
       "1  PlayStation 5|Xbox Series S/X|macOS|PlayStatio...      Action|RPG   \n",
       "2     PlayStation 3|PC|Xbox 360|Linux|macOS|Xbox One  Shooter|Puzzle   \n",
       "3                    PC|Linux|Xbox 360|PlayStation 3         Shooter   \n",
       "4  PlayStation 3|Xbox 360|macOS|PC|Xbox One|PlayS...          Action   \n",
       "\n",
       "                                              stores  added  \\\n",
       "0  Steam|PlayStation Store|Epic Games|Xbox 360 St...  22280   \n",
       "1  GOG|PlayStation Store|Steam|Xbox Store|Nintend...  21954   \n",
       "2  Xbox Store|Steam|PlayStation Store|Xbox 360 Store  20716   \n",
       "3             PlayStation Store|Steam|Xbox 360 Store  18318   \n",
       "4  Xbox 360 Store|Steam|PlayStation Store|Google ...  17697   \n",
       "\n",
       "                                                tags  \n",
       "0  Singleplayer|Steam Achievements|Multiplayer|Fu...  \n",
       "1  Singleplayer|Full controller support|Atmospher...  \n",
       "2  Singleplayer|Steam Achievements|Multiplayer|Fu...  \n",
       "3  Steam Achievements|Multiplayer|Full controller...  \n",
       "4  Singleplayer|Multiplayer|Full controller suppo...  "
      ],
      "text/html": [
       "<div>\n",
       "<style scoped>\n",
       "    .dataframe tbody tr th:only-of-type {\n",
       "        vertical-align: middle;\n",
       "    }\n",
       "\n",
       "    .dataframe tbody tr th {\n",
       "        vertical-align: top;\n",
       "    }\n",
       "\n",
       "    .dataframe thead th {\n",
       "        text-align: right;\n",
       "    }\n",
       "</style>\n",
       "<table border=\"1\" class=\"dataframe\">\n",
       "  <thead>\n",
       "    <tr style=\"text-align: right;\">\n",
       "      <th></th>\n",
       "      <th>id</th>\n",
       "      <th>name</th>\n",
       "      <th>slug</th>\n",
       "      <th>released</th>\n",
       "      <th>metacritic</th>\n",
       "      <th>rating</th>\n",
       "      <th>ratings_count</th>\n",
       "      <th>platforms</th>\n",
       "      <th>genres</th>\n",
       "      <th>stores</th>\n",
       "      <th>added</th>\n",
       "      <th>tags</th>\n",
       "    </tr>\n",
       "  </thead>\n",
       "  <tbody>\n",
       "    <tr>\n",
       "      <th>0</th>\n",
       "      <td>3498</td>\n",
       "      <td>Grand Theft Auto V</td>\n",
       "      <td>grand-theft-auto-v</td>\n",
       "      <td>2013-09-17</td>\n",
       "      <td>92.0</td>\n",
       "      <td>4.47</td>\n",
       "      <td>7235</td>\n",
       "      <td>PC|PlayStation 5|Xbox Series S/X|PlayStation 4...</td>\n",
       "      <td>Action</td>\n",
       "      <td>Steam|PlayStation Store|Epic Games|Xbox 360 St...</td>\n",
       "      <td>22280</td>\n",
       "      <td>Singleplayer|Steam Achievements|Multiplayer|Fu...</td>\n",
       "    </tr>\n",
       "    <tr>\n",
       "      <th>1</th>\n",
       "      <td>3328</td>\n",
       "      <td>The Witcher 3: Wild Hunt</td>\n",
       "      <td>the-witcher-3-wild-hunt</td>\n",
       "      <td>2015-05-18</td>\n",
       "      <td>92.0</td>\n",
       "      <td>4.64</td>\n",
       "      <td>7052</td>\n",
       "      <td>PlayStation 5|Xbox Series S/X|macOS|PlayStatio...</td>\n",
       "      <td>Action|RPG</td>\n",
       "      <td>GOG|PlayStation Store|Steam|Xbox Store|Nintend...</td>\n",
       "      <td>21954</td>\n",
       "      <td>Singleplayer|Full controller support|Atmospher...</td>\n",
       "    </tr>\n",
       "    <tr>\n",
       "      <th>2</th>\n",
       "      <td>4200</td>\n",
       "      <td>Portal 2</td>\n",
       "      <td>portal-2</td>\n",
       "      <td>2011-04-18</td>\n",
       "      <td>95.0</td>\n",
       "      <td>4.58</td>\n",
       "      <td>5991</td>\n",
       "      <td>PlayStation 3|PC|Xbox 360|Linux|macOS|Xbox One</td>\n",
       "      <td>Shooter|Puzzle</td>\n",
       "      <td>Xbox Store|Steam|PlayStation Store|Xbox 360 Store</td>\n",
       "      <td>20716</td>\n",
       "      <td>Singleplayer|Steam Achievements|Multiplayer|Fu...</td>\n",
       "    </tr>\n",
       "    <tr>\n",
       "      <th>3</th>\n",
       "      <td>4291</td>\n",
       "      <td>Counter-Strike: Global Offensive</td>\n",
       "      <td>counter-strike-global-offensive</td>\n",
       "      <td>2012-08-21</td>\n",
       "      <td>81.0</td>\n",
       "      <td>3.57</td>\n",
       "      <td>3603</td>\n",
       "      <td>PC|Linux|Xbox 360|PlayStation 3</td>\n",
       "      <td>Shooter</td>\n",
       "      <td>PlayStation Store|Steam|Xbox 360 Store</td>\n",
       "      <td>18318</td>\n",
       "      <td>Steam Achievements|Multiplayer|Full controller...</td>\n",
       "    </tr>\n",
       "    <tr>\n",
       "      <th>4</th>\n",
       "      <td>5286</td>\n",
       "      <td>Tomb Raider (2013)</td>\n",
       "      <td>tomb-raider</td>\n",
       "      <td>2013-03-05</td>\n",
       "      <td>86.0</td>\n",
       "      <td>4.06</td>\n",
       "      <td>4048</td>\n",
       "      <td>PlayStation 3|Xbox 360|macOS|PC|Xbox One|PlayS...</td>\n",
       "      <td>Action</td>\n",
       "      <td>Xbox 360 Store|Steam|PlayStation Store|Google ...</td>\n",
       "      <td>17697</td>\n",
       "      <td>Singleplayer|Multiplayer|Full controller suppo...</td>\n",
       "    </tr>\n",
       "  </tbody>\n",
       "</table>\n",
       "</div>"
      ]
     },
     "execution_count": 3,
     "metadata": {},
     "output_type": "execute_result"
    }
   ],
   "execution_count": 3
  },
  {
   "metadata": {},
   "cell_type": "code",
   "outputs": [],
   "execution_count": null,
   "source": "",
   "id": "2d802726c14bdeec"
  },
  {
   "metadata": {
    "import_data_from_file": {
     "file_name": "../../data/raw/rawg_games_4k.csv",
     "variable_name": "df_rawg_games_4k"
    },
    "ExecuteTime": {
     "end_time": "2025-10-27T17:36:06.410295Z",
     "start_time": "2025-10-27T17:36:05.915601Z"
    }
   },
   "cell_type": "code",
   "source": [
    "import pandas as pd\n",
    "df_rawg_games_4k = pd.read_csv('../../data/raw/rawg_games_4k.csv')\n",
    "df_rawg_games_4k"
   ],
   "id": "663f9cc80472c289",
   "outputs": [
    {
     "ename": "ParserError",
     "evalue": "Error tokenizing data. C error: Expected 29 fields in line 3, saw 31\n",
     "output_type": "error",
     "traceback": [
      "\u001B[31m---------------------------------------------------------------------------\u001B[39m",
      "\u001B[31mParserError\u001B[39m                               Traceback (most recent call last)",
      "\u001B[36mCell\u001B[39m\u001B[36m \u001B[39m\u001B[32mIn[4]\u001B[39m\u001B[32m, line 2\u001B[39m\n\u001B[32m      1\u001B[39m \u001B[38;5;28;01mimport\u001B[39;00m\u001B[38;5;250m \u001B[39m\u001B[34;01mpandas\u001B[39;00m\u001B[38;5;250m \u001B[39m\u001B[38;5;28;01mas\u001B[39;00m\u001B[38;5;250m \u001B[39m\u001B[34;01mpd\u001B[39;00m\n\u001B[32m----> \u001B[39m\u001B[32m2\u001B[39m df_rawg_games_4k = \u001B[43mpd\u001B[49m\u001B[43m.\u001B[49m\u001B[43mread_csv\u001B[49m\u001B[43m(\u001B[49m\u001B[33;43m'\u001B[39;49m\u001B[33;43m../../data/raw/rawg_games_4k.csv\u001B[39;49m\u001B[33;43m'\u001B[39;49m\u001B[43m,\u001B[49m\u001B[43m \u001B[49m\u001B[43msep\u001B[49m\u001B[43m \u001B[49m\u001B[43m=\u001B[49m\u001B[43m \u001B[49m\u001B[33;43m'\u001B[39;49m\u001B[33;43m|\u001B[39;49m\u001B[33;43m'\u001B[39;49m\u001B[43m)\u001B[49m\n\u001B[32m      3\u001B[39m df_rawg_games_4k\n",
      "\u001B[36mFile \u001B[39m\u001B[32mC:\\Work\\Programing Language\\task4\\Game-Recommendation-System\\.venv\\Lib\\site-packages\\pandas\\io\\parsers\\readers.py:1026\u001B[39m, in \u001B[36mread_csv\u001B[39m\u001B[34m(filepath_or_buffer, sep, delimiter, header, names, index_col, usecols, dtype, engine, converters, true_values, false_values, skipinitialspace, skiprows, skipfooter, nrows, na_values, keep_default_na, na_filter, verbose, skip_blank_lines, parse_dates, infer_datetime_format, keep_date_col, date_parser, date_format, dayfirst, cache_dates, iterator, chunksize, compression, thousands, decimal, lineterminator, quotechar, quoting, doublequote, escapechar, comment, encoding, encoding_errors, dialect, on_bad_lines, delim_whitespace, low_memory, memory_map, float_precision, storage_options, dtype_backend)\u001B[39m\n\u001B[32m   1013\u001B[39m kwds_defaults = _refine_defaults_read(\n\u001B[32m   1014\u001B[39m     dialect,\n\u001B[32m   1015\u001B[39m     delimiter,\n\u001B[32m   (...)\u001B[39m\u001B[32m   1022\u001B[39m     dtype_backend=dtype_backend,\n\u001B[32m   1023\u001B[39m )\n\u001B[32m   1024\u001B[39m kwds.update(kwds_defaults)\n\u001B[32m-> \u001B[39m\u001B[32m1026\u001B[39m \u001B[38;5;28;01mreturn\u001B[39;00m \u001B[43m_read\u001B[49m\u001B[43m(\u001B[49m\u001B[43mfilepath_or_buffer\u001B[49m\u001B[43m,\u001B[49m\u001B[43m \u001B[49m\u001B[43mkwds\u001B[49m\u001B[43m)\u001B[49m\n",
      "\u001B[36mFile \u001B[39m\u001B[32mC:\\Work\\Programing Language\\task4\\Game-Recommendation-System\\.venv\\Lib\\site-packages\\pandas\\io\\parsers\\readers.py:626\u001B[39m, in \u001B[36m_read\u001B[39m\u001B[34m(filepath_or_buffer, kwds)\u001B[39m\n\u001B[32m    623\u001B[39m     \u001B[38;5;28;01mreturn\u001B[39;00m parser\n\u001B[32m    625\u001B[39m \u001B[38;5;28;01mwith\u001B[39;00m parser:\n\u001B[32m--> \u001B[39m\u001B[32m626\u001B[39m     \u001B[38;5;28;01mreturn\u001B[39;00m \u001B[43mparser\u001B[49m\u001B[43m.\u001B[49m\u001B[43mread\u001B[49m\u001B[43m(\u001B[49m\u001B[43mnrows\u001B[49m\u001B[43m)\u001B[49m\n",
      "\u001B[36mFile \u001B[39m\u001B[32mC:\\Work\\Programing Language\\task4\\Game-Recommendation-System\\.venv\\Lib\\site-packages\\pandas\\io\\parsers\\readers.py:1923\u001B[39m, in \u001B[36mTextFileReader.read\u001B[39m\u001B[34m(self, nrows)\u001B[39m\n\u001B[32m   1916\u001B[39m nrows = validate_integer(\u001B[33m\"\u001B[39m\u001B[33mnrows\u001B[39m\u001B[33m\"\u001B[39m, nrows)\n\u001B[32m   1917\u001B[39m \u001B[38;5;28;01mtry\u001B[39;00m:\n\u001B[32m   1918\u001B[39m     \u001B[38;5;66;03m# error: \"ParserBase\" has no attribute \"read\"\u001B[39;00m\n\u001B[32m   1919\u001B[39m     (\n\u001B[32m   1920\u001B[39m         index,\n\u001B[32m   1921\u001B[39m         columns,\n\u001B[32m   1922\u001B[39m         col_dict,\n\u001B[32m-> \u001B[39m\u001B[32m1923\u001B[39m     ) = \u001B[38;5;28;43mself\u001B[39;49m\u001B[43m.\u001B[49m\u001B[43m_engine\u001B[49m\u001B[43m.\u001B[49m\u001B[43mread\u001B[49m\u001B[43m(\u001B[49m\u001B[43m  \u001B[49m\u001B[38;5;66;43;03m# type: ignore[attr-defined]\u001B[39;49;00m\n\u001B[32m   1924\u001B[39m \u001B[43m        \u001B[49m\u001B[43mnrows\u001B[49m\n\u001B[32m   1925\u001B[39m \u001B[43m    \u001B[49m\u001B[43m)\u001B[49m\n\u001B[32m   1926\u001B[39m \u001B[38;5;28;01mexcept\u001B[39;00m \u001B[38;5;167;01mException\u001B[39;00m:\n\u001B[32m   1927\u001B[39m     \u001B[38;5;28mself\u001B[39m.close()\n",
      "\u001B[36mFile \u001B[39m\u001B[32mC:\\Work\\Programing Language\\task4\\Game-Recommendation-System\\.venv\\Lib\\site-packages\\pandas\\io\\parsers\\c_parser_wrapper.py:234\u001B[39m, in \u001B[36mCParserWrapper.read\u001B[39m\u001B[34m(self, nrows)\u001B[39m\n\u001B[32m    232\u001B[39m \u001B[38;5;28;01mtry\u001B[39;00m:\n\u001B[32m    233\u001B[39m     \u001B[38;5;28;01mif\u001B[39;00m \u001B[38;5;28mself\u001B[39m.low_memory:\n\u001B[32m--> \u001B[39m\u001B[32m234\u001B[39m         chunks = \u001B[38;5;28;43mself\u001B[39;49m\u001B[43m.\u001B[49m\u001B[43m_reader\u001B[49m\u001B[43m.\u001B[49m\u001B[43mread_low_memory\u001B[49m\u001B[43m(\u001B[49m\u001B[43mnrows\u001B[49m\u001B[43m)\u001B[49m\n\u001B[32m    235\u001B[39m         \u001B[38;5;66;03m# destructive to chunks\u001B[39;00m\n\u001B[32m    236\u001B[39m         data = _concatenate_chunks(chunks)\n",
      "\u001B[36mFile \u001B[39m\u001B[32mpandas/_libs/parsers.pyx:838\u001B[39m, in \u001B[36mpandas._libs.parsers.TextReader.read_low_memory\u001B[39m\u001B[34m()\u001B[39m\n",
      "\u001B[36mFile \u001B[39m\u001B[32mpandas/_libs/parsers.pyx:905\u001B[39m, in \u001B[36mpandas._libs.parsers.TextReader._read_rows\u001B[39m\u001B[34m()\u001B[39m\n",
      "\u001B[36mFile \u001B[39m\u001B[32mpandas/_libs/parsers.pyx:874\u001B[39m, in \u001B[36mpandas._libs.parsers.TextReader._tokenize_rows\u001B[39m\u001B[34m()\u001B[39m\n",
      "\u001B[36mFile \u001B[39m\u001B[32mpandas/_libs/parsers.pyx:891\u001B[39m, in \u001B[36mpandas._libs.parsers.TextReader._check_tokenize_status\u001B[39m\u001B[34m()\u001B[39m\n",
      "\u001B[36mFile \u001B[39m\u001B[32mpandas/_libs/parsers.pyx:2061\u001B[39m, in \u001B[36mpandas._libs.parsers.raise_parser_error\u001B[39m\u001B[34m()\u001B[39m\n",
      "\u001B[31mParserError\u001B[39m: Error tokenizing data. C error: Expected 29 fields in line 3, saw 31\n"
     ]
    }
   ],
   "execution_count": null
  }
 ],
 "metadata": {
  "kernelspec": {
   "display_name": "Python 3",
   "language": "python",
   "name": "python3"
  },
  "language_info": {
   "codemirror_mode": {
    "name": "ipython",
    "version": 2
   },
   "file_extension": ".py",
   "mimetype": "text/x-python",
   "name": "python",
   "nbconvert_exporter": "python",
   "pygments_lexer": "ipython2",
   "version": "2.7.6"
  }
 },
 "nbformat": 4,
 "nbformat_minor": 5
}
