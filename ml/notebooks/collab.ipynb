{
 "cells": [
  {
<<<<<<< HEAD
   "cell_type": "markdown",
   "id": "3efbe9c8",
   "metadata": {},
   "source": [
    "Hum sath sath hai"
   ]
  },
  {
   "cell_type": "markdown",
   "id": "0b66da5d",
   "metadata": {},
   "source": []
  }
 ],
 "metadata": {
  "language_info": {
   "name": "python"
=======
   "metadata": {
    "ExecuteTime": {
     "end_time": "2025-10-28T17:09:39.575951Z",
     "start_time": "2025-10-28T17:09:39.571343Z"
    }
   },
   "cell_type": "code",
   "source": [
    "import pandas as pd\n",
    "import numpy as np\n",
    "from matplotlib import pyplot as plt\n",
    "import seaborn as sns\n",
    "from sklearn.preprocessing import StandardScaler\n",
    "\n",
    "\n",
    "\n",
    "pd.set_option('display.max_rows', None)\n",
    "pd.set_option('display.max_columns', None)\n",
    "pd.set_option('display.width', None)\n",
    "pd.set_option('display.max_colwidth', None)"
   ],
   "id": "38bbd839a9ee0312",
   "outputs": [],
   "execution_count": 16
  },
  {
   "metadata": {
    "ExecuteTime": {
     "end_time": "2025-10-28T17:09:39.787572Z",
     "start_time": "2025-10-28T17:09:39.599553Z"
    }
   },
   "cell_type": "code",
   "source": [
    "df_og=pd.read_csv(r\"C:\\Work\\Programing Language\\task4\\Game-Recommendation-System\\data\\raw\\rawg_games_20k.csv\")\n",
    "df=pd.read_csv(r\"C:\\Work\\Programing Language\\task4\\Game-Recommendation-System\\data\\raw\\rawg_games_20k.csv\")\n",
    "df_og.head()"
   ],
   "id": "3167cf19fe4866e7",
   "outputs": [
    {
     "data": {
      "text/plain": [
       "     id                              name                             slug  \\\n",
       "0  3498                Grand Theft Auto V               grand-theft-auto-v   \n",
       "1  3328          The Witcher 3: Wild Hunt          the-witcher-3-wild-hunt   \n",
       "2  4200                          Portal 2                         portal-2   \n",
       "3  4291  Counter-Strike: Global Offensive  counter-strike-global-offensive   \n",
       "4  5286                Tomb Raider (2013)                      tomb-raider   \n",
       "\n",
       "     released  metacritic  rating  ratings_count  \\\n",
       "0  2013-09-17        92.0    4.47           7236   \n",
       "1  2015-05-18        92.0    4.64           7052   \n",
       "2  2011-04-18        95.0    4.58           5992   \n",
       "3  2012-08-21        81.0    3.57           3603   \n",
       "4  2013-03-05        86.0    4.06           4048   \n",
       "\n",
       "                                                                        platforms  \\\n",
       "0  PC|PlayStation 5|Xbox Series S/X|PlayStation 4|PlayStation 3|Xbox 360|Xbox One   \n",
       "1   PlayStation 5|Xbox Series S/X|macOS|PlayStation 4|Nintendo Switch|PC|Xbox One   \n",
       "2                                  PlayStation 3|PC|Xbox 360|Linux|macOS|Xbox One   \n",
       "3                                                 PC|Linux|Xbox 360|PlayStation 3   \n",
       "4                          PlayStation 3|Xbox 360|macOS|PC|Xbox One|PlayStation 4   \n",
       "\n",
       "           genres  \\\n",
       "0          Action   \n",
       "1      Action|RPG   \n",
       "2  Shooter|Puzzle   \n",
       "3         Shooter   \n",
       "4          Action   \n",
       "\n",
       "                                                                    stores  \\\n",
       "0             Steam|PlayStation Store|Epic Games|Xbox 360 Store|Xbox Store   \n",
       "1                    GOG|PlayStation Store|Steam|Xbox Store|Nintendo Store   \n",
       "2                        Xbox Store|Steam|PlayStation Store|Xbox 360 Store   \n",
       "3                                   PlayStation Store|Steam|Xbox 360 Store   \n",
       "4  Xbox 360 Store|Steam|PlayStation Store|Google Play|App Store|Epic Games   \n",
       "\n",
       "   added  \\\n",
       "0  22282   \n",
       "1  21954   \n",
       "2  20717   \n",
       "3  18318   \n",
       "4  17697   \n",
       "\n",
       "                                                                                                                                                                                                                                                                                                                             tags  \n",
       "0                                                                                                     Singleplayer|Steam Achievements|Multiplayer|Full controller support|Atmospheric|Great Soundtrack|RPG|Co-op|Open World|cooperative|First-Person|Third Person|Funny|Sandbox|Comedy|Third-Person Shooter|Moddable|Crime|vr mod  \n",
       "1                                                                                           Singleplayer|Full controller support|Atmospheric|Great Soundtrack|RPG|Story Rich|Open World|Third Person|Fantasy|Sandbox|Action RPG|Dark|Nudity|controller support|Choices Matter|Dark Fantasy|Mature|Medieval|Magic|Multiple Endings  \n",
       "2  Singleplayer|Steam Achievements|Multiplayer|Full controller support|Steam Cloud|Atmospheric|steam-trading-cards|Co-op|Story Rich|cooperative|First-Person|Sci-fi|FPS|Online Co-Op|Funny|Female Protagonist|Comedy|Local Co-Op|stats|Steam Workshop|Space|Includes level editor|Captions available|Commentary available|Science  \n",
       "3                                       Steam Achievements|Multiplayer|Full controller support|steam-trading-cards|Co-op|cooperative|First-Person|FPS|Online Co-Op|Tactical|stats|Steam Workshop|PvP|Moddable|War|In-App Purchases|Realistic|Team-Based|Fast-Paced|Military|Competitive|Valve Anti-Cheat enabled|e-sports|Trading  \n",
       "4                                                                                                       Singleplayer|Multiplayer|Full controller support|Atmospheric|RPG|Third Person|Exploration|Classic|Female Protagonist|Stealth|Action-Adventure|Third-Person Shooter|Retro|Cinematic|Quick-Time Events|Dinosaurs|Lara Croft  "
      ],
      "text/html": [
       "<div>\n",
       "<style scoped>\n",
       "    .dataframe tbody tr th:only-of-type {\n",
       "        vertical-align: middle;\n",
       "    }\n",
       "\n",
       "    .dataframe tbody tr th {\n",
       "        vertical-align: top;\n",
       "    }\n",
       "\n",
       "    .dataframe thead th {\n",
       "        text-align: right;\n",
       "    }\n",
       "</style>\n",
       "<table border=\"1\" class=\"dataframe\">\n",
       "  <thead>\n",
       "    <tr style=\"text-align: right;\">\n",
       "      <th></th>\n",
       "      <th>id</th>\n",
       "      <th>name</th>\n",
       "      <th>slug</th>\n",
       "      <th>released</th>\n",
       "      <th>metacritic</th>\n",
       "      <th>rating</th>\n",
       "      <th>ratings_count</th>\n",
       "      <th>platforms</th>\n",
       "      <th>genres</th>\n",
       "      <th>stores</th>\n",
       "      <th>added</th>\n",
       "      <th>tags</th>\n",
       "    </tr>\n",
       "  </thead>\n",
       "  <tbody>\n",
       "    <tr>\n",
       "      <th>0</th>\n",
       "      <td>3498</td>\n",
       "      <td>Grand Theft Auto V</td>\n",
       "      <td>grand-theft-auto-v</td>\n",
       "      <td>2013-09-17</td>\n",
       "      <td>92.0</td>\n",
       "      <td>4.47</td>\n",
       "      <td>7236</td>\n",
       "      <td>PC|PlayStation 5|Xbox Series S/X|PlayStation 4|PlayStation 3|Xbox 360|Xbox One</td>\n",
       "      <td>Action</td>\n",
       "      <td>Steam|PlayStation Store|Epic Games|Xbox 360 Store|Xbox Store</td>\n",
       "      <td>22282</td>\n",
       "      <td>Singleplayer|Steam Achievements|Multiplayer|Full controller support|Atmospheric|Great Soundtrack|RPG|Co-op|Open World|cooperative|First-Person|Third Person|Funny|Sandbox|Comedy|Third-Person Shooter|Moddable|Crime|vr mod</td>\n",
       "    </tr>\n",
       "    <tr>\n",
       "      <th>1</th>\n",
       "      <td>3328</td>\n",
       "      <td>The Witcher 3: Wild Hunt</td>\n",
       "      <td>the-witcher-3-wild-hunt</td>\n",
       "      <td>2015-05-18</td>\n",
       "      <td>92.0</td>\n",
       "      <td>4.64</td>\n",
       "      <td>7052</td>\n",
       "      <td>PlayStation 5|Xbox Series S/X|macOS|PlayStation 4|Nintendo Switch|PC|Xbox One</td>\n",
       "      <td>Action|RPG</td>\n",
       "      <td>GOG|PlayStation Store|Steam|Xbox Store|Nintendo Store</td>\n",
       "      <td>21954</td>\n",
       "      <td>Singleplayer|Full controller support|Atmospheric|Great Soundtrack|RPG|Story Rich|Open World|Third Person|Fantasy|Sandbox|Action RPG|Dark|Nudity|controller support|Choices Matter|Dark Fantasy|Mature|Medieval|Magic|Multiple Endings</td>\n",
       "    </tr>\n",
       "    <tr>\n",
       "      <th>2</th>\n",
       "      <td>4200</td>\n",
       "      <td>Portal 2</td>\n",
       "      <td>portal-2</td>\n",
       "      <td>2011-04-18</td>\n",
       "      <td>95.0</td>\n",
       "      <td>4.58</td>\n",
       "      <td>5992</td>\n",
       "      <td>PlayStation 3|PC|Xbox 360|Linux|macOS|Xbox One</td>\n",
       "      <td>Shooter|Puzzle</td>\n",
       "      <td>Xbox Store|Steam|PlayStation Store|Xbox 360 Store</td>\n",
       "      <td>20717</td>\n",
       "      <td>Singleplayer|Steam Achievements|Multiplayer|Full controller support|Steam Cloud|Atmospheric|steam-trading-cards|Co-op|Story Rich|cooperative|First-Person|Sci-fi|FPS|Online Co-Op|Funny|Female Protagonist|Comedy|Local Co-Op|stats|Steam Workshop|Space|Includes level editor|Captions available|Commentary available|Science</td>\n",
       "    </tr>\n",
       "    <tr>\n",
       "      <th>3</th>\n",
       "      <td>4291</td>\n",
       "      <td>Counter-Strike: Global Offensive</td>\n",
       "      <td>counter-strike-global-offensive</td>\n",
       "      <td>2012-08-21</td>\n",
       "      <td>81.0</td>\n",
       "      <td>3.57</td>\n",
       "      <td>3603</td>\n",
       "      <td>PC|Linux|Xbox 360|PlayStation 3</td>\n",
       "      <td>Shooter</td>\n",
       "      <td>PlayStation Store|Steam|Xbox 360 Store</td>\n",
       "      <td>18318</td>\n",
       "      <td>Steam Achievements|Multiplayer|Full controller support|steam-trading-cards|Co-op|cooperative|First-Person|FPS|Online Co-Op|Tactical|stats|Steam Workshop|PvP|Moddable|War|In-App Purchases|Realistic|Team-Based|Fast-Paced|Military|Competitive|Valve Anti-Cheat enabled|e-sports|Trading</td>\n",
       "    </tr>\n",
       "    <tr>\n",
       "      <th>4</th>\n",
       "      <td>5286</td>\n",
       "      <td>Tomb Raider (2013)</td>\n",
       "      <td>tomb-raider</td>\n",
       "      <td>2013-03-05</td>\n",
       "      <td>86.0</td>\n",
       "      <td>4.06</td>\n",
       "      <td>4048</td>\n",
       "      <td>PlayStation 3|Xbox 360|macOS|PC|Xbox One|PlayStation 4</td>\n",
       "      <td>Action</td>\n",
       "      <td>Xbox 360 Store|Steam|PlayStation Store|Google Play|App Store|Epic Games</td>\n",
       "      <td>17697</td>\n",
       "      <td>Singleplayer|Multiplayer|Full controller support|Atmospheric|RPG|Third Person|Exploration|Classic|Female Protagonist|Stealth|Action-Adventure|Third-Person Shooter|Retro|Cinematic|Quick-Time Events|Dinosaurs|Lara Croft</td>\n",
       "    </tr>\n",
       "  </tbody>\n",
       "</table>\n",
       "</div>"
      ]
     },
     "execution_count": 17,
     "metadata": {},
     "output_type": "execute_result"
    }
   ],
   "execution_count": 17
  },
  {
   "metadata": {
    "ExecuteTime": {
     "end_time": "2025-10-28T17:09:39.857620Z",
     "start_time": "2025-10-28T17:09:39.828721Z"
    }
   },
   "cell_type": "code",
   "source": [
    "print(f\"Shape : {df.shape}\")\n",
    "print(f\"Info : {df.info()}\")\n",
    "df.describe()"
   ],
   "id": "23550f81b285f213",
   "outputs": [
    {
     "name": "stdout",
     "output_type": "stream",
     "text": [
      "Shape : (20000, 12)\n",
      "<class 'pandas.core.frame.DataFrame'>\n",
      "RangeIndex: 20000 entries, 0 to 19999\n",
      "Data columns (total 12 columns):\n",
      " #   Column         Non-Null Count  Dtype  \n",
      "---  ------         --------------  -----  \n",
      " 0   id             20000 non-null  int64  \n",
      " 1   name           20000 non-null  object \n",
      " 2   slug           20000 non-null  object \n",
      " 3   released       19328 non-null  object \n",
      " 4   metacritic     5406 non-null   float64\n",
      " 5   rating         20000 non-null  float64\n",
      " 6   ratings_count  20000 non-null  int64  \n",
      " 7   platforms      19998 non-null  object \n",
      " 8   genres         19652 non-null  object \n",
      " 9   stores         18842 non-null  object \n",
      " 10  added          20000 non-null  int64  \n",
      " 11  tags           19323 non-null  object \n",
      "dtypes: float64(2), int64(3), object(7)\n",
      "memory usage: 1.8+ MB\n",
      "Info : None\n"
     ]
    },
    {
     "data": {
      "text/plain": [
       "                 id   metacritic        rating  ratings_count         added\n",
       "count  2.000000e+04  5406.000000  20000.000000   20000.000000  20000.000000\n",
       "mean   1.378563e+05    73.747688      2.292000      84.126450    620.540450\n",
       "std    2.402878e+05    11.087490      1.631992     278.981489   1325.524443\n",
       "min    1.000000e+00    21.000000      0.000000       0.000000     60.000000\n",
       "25%    1.415675e+04    68.000000      0.000000       4.000000    109.000000\n",
       "50%    2.269200e+04    75.000000      2.880000      14.000000    193.500000\n",
       "75%    6.138325e+04    81.000000      3.670000      49.000000    520.000000\n",
       "max    1.007483e+06    99.000000      4.860000    7236.000000  22282.000000"
      ],
      "text/html": [
       "<div>\n",
       "<style scoped>\n",
       "    .dataframe tbody tr th:only-of-type {\n",
       "        vertical-align: middle;\n",
       "    }\n",
       "\n",
       "    .dataframe tbody tr th {\n",
       "        vertical-align: top;\n",
       "    }\n",
       "\n",
       "    .dataframe thead th {\n",
       "        text-align: right;\n",
       "    }\n",
       "</style>\n",
       "<table border=\"1\" class=\"dataframe\">\n",
       "  <thead>\n",
       "    <tr style=\"text-align: right;\">\n",
       "      <th></th>\n",
       "      <th>id</th>\n",
       "      <th>metacritic</th>\n",
       "      <th>rating</th>\n",
       "      <th>ratings_count</th>\n",
       "      <th>added</th>\n",
       "    </tr>\n",
       "  </thead>\n",
       "  <tbody>\n",
       "    <tr>\n",
       "      <th>count</th>\n",
       "      <td>2.000000e+04</td>\n",
       "      <td>5406.000000</td>\n",
       "      <td>20000.000000</td>\n",
       "      <td>20000.000000</td>\n",
       "      <td>20000.000000</td>\n",
       "    </tr>\n",
       "    <tr>\n",
       "      <th>mean</th>\n",
       "      <td>1.378563e+05</td>\n",
       "      <td>73.747688</td>\n",
       "      <td>2.292000</td>\n",
       "      <td>84.126450</td>\n",
       "      <td>620.540450</td>\n",
       "    </tr>\n",
       "    <tr>\n",
       "      <th>std</th>\n",
       "      <td>2.402878e+05</td>\n",
       "      <td>11.087490</td>\n",
       "      <td>1.631992</td>\n",
       "      <td>278.981489</td>\n",
       "      <td>1325.524443</td>\n",
       "    </tr>\n",
       "    <tr>\n",
       "      <th>min</th>\n",
       "      <td>1.000000e+00</td>\n",
       "      <td>21.000000</td>\n",
       "      <td>0.000000</td>\n",
       "      <td>0.000000</td>\n",
       "      <td>60.000000</td>\n",
       "    </tr>\n",
       "    <tr>\n",
       "      <th>25%</th>\n",
       "      <td>1.415675e+04</td>\n",
       "      <td>68.000000</td>\n",
       "      <td>0.000000</td>\n",
       "      <td>4.000000</td>\n",
       "      <td>109.000000</td>\n",
       "    </tr>\n",
       "    <tr>\n",
       "      <th>50%</th>\n",
       "      <td>2.269200e+04</td>\n",
       "      <td>75.000000</td>\n",
       "      <td>2.880000</td>\n",
       "      <td>14.000000</td>\n",
       "      <td>193.500000</td>\n",
       "    </tr>\n",
       "    <tr>\n",
       "      <th>75%</th>\n",
       "      <td>6.138325e+04</td>\n",
       "      <td>81.000000</td>\n",
       "      <td>3.670000</td>\n",
       "      <td>49.000000</td>\n",
       "      <td>520.000000</td>\n",
       "    </tr>\n",
       "    <tr>\n",
       "      <th>max</th>\n",
       "      <td>1.007483e+06</td>\n",
       "      <td>99.000000</td>\n",
       "      <td>4.860000</td>\n",
       "      <td>7236.000000</td>\n",
       "      <td>22282.000000</td>\n",
       "    </tr>\n",
       "  </tbody>\n",
       "</table>\n",
       "</div>"
      ]
     },
     "execution_count": 18,
     "metadata": {},
     "output_type": "execute_result"
    }
   ],
   "execution_count": 18
  },
  {
   "metadata": {
    "ExecuteTime": {
     "end_time": "2025-10-28T17:09:40.062089Z",
     "start_time": "2025-10-28T17:09:40.055417Z"
    }
   },
   "cell_type": "code",
   "source": "df.drop(['slug','released','ratings_count','added','metacritic','rating'],axis=1,inplace=True)",
   "id": "86adc0b6642ea443",
   "outputs": [],
   "execution_count": 19
  },
  {
   "metadata": {
    "ExecuteTime": {
     "end_time": "2025-10-28T17:09:40.268708Z",
     "start_time": "2025-10-28T17:09:40.262659Z"
    }
   },
   "cell_type": "code",
   "source": "print(f\"Unique Value in Genre {df['genres'].unique()}\")",
   "id": "1874c9b994a77603",
   "outputs": [
    {
     "name": "stdout",
     "output_type": "stream",
     "text": [
      "Unique Value in Genre ['Action' 'Action|RPG' 'Shooter|Puzzle' ...\n",
      " 'Adventure|Simulation|Sports|Racing|Casual|Massively Multiplayer|Indie'\n",
      " 'Action|Sports|Family|Indie'\n",
      " 'Action|Shooter|Adventure|Strategy|Casual|Indie']\n"
     ]
    }
   ],
   "execution_count": 20
  },
  {
   "metadata": {
    "ExecuteTime": {
     "end_time": "2025-10-28T17:09:40.305518Z",
     "start_time": "2025-10-28T17:09:40.295959Z"
    }
   },
   "cell_type": "code",
   "source": "print(f\"Null count {df.isnull().sum()}\")",
   "id": "66159d812addbbc5",
   "outputs": [
    {
     "name": "stdout",
     "output_type": "stream",
     "text": [
      "Null count id              0\n",
      "name            0\n",
      "platforms       2\n",
      "genres        348\n",
      "stores       1158\n",
      "tags          677\n",
      "dtype: int64\n"
     ]
    }
   ],
   "execution_count": 21
  },
  {
   "metadata": {
    "ExecuteTime": {
     "end_time": "2025-10-28T17:09:40.331784Z",
     "start_time": "2025-10-28T17:09:40.327956Z"
    }
   },
   "cell_type": "code",
   "source": [
    "# print(f\"Shape Before {df.shape}\")\n",
    "# df.dropna(inplace=True)\n",
    "# print(f\"Shape after Drop {df.shape}\")"
   ],
   "id": "8e488aeaeb857cdb",
   "outputs": [],
   "execution_count": 22
  },
  {
   "metadata": {
    "ExecuteTime": {
     "end_time": "2025-10-28T17:09:40.346638Z",
     "start_time": "2025-10-28T17:09:40.343855Z"
    }
   },
   "cell_type": "code",
   "source": "",
   "id": "fefb74fe6a56bd89",
   "outputs": [],
   "execution_count": null
  }
 ],
 "metadata": {
  "kernelspec": {
   "name": "python3",
   "language": "python",
   "display_name": "Python 3 (ipykernel)"
>>>>>>> a7a066ac15e4f1f42825635ec170fbdd1432c45f
  }
 },
 "nbformat": 4,
 "nbformat_minor": 5
}
