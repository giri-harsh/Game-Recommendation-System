{
 "cells": [
  {
   "cell_type": "code",
   "id": "initial_id",
   "metadata": {
    "collapsed": true,
    "ExecuteTime": {
     "end_time": "2025-10-29T19:35:04.460029Z",
     "start_time": "2025-10-29T19:35:00.313295Z"
    }
   },
   "source": [
    "import numpy as np\n",
    "import pandas as pd\n",
    "from sklearn.feature_extraction.text import TfidfVectorizer\n",
    "from sklearn.preprocessing import normalize\n",
    "from sklearn.cluster import AgglomerativeClustering\n",
    "from sklearn.metrics.pairwise import cosine_similarity\n",
    "from sklearn.metrics import silhouette_score"
   ],
   "outputs": [],
   "execution_count": 1
  },
  {
   "metadata": {
    "ExecuteTime": {
     "end_time": "2025-10-29T19:35:04.719150Z",
     "start_time": "2025-10-29T19:35:04.479350Z"
    }
   },
   "cell_type": "code",
   "source": [
    "game = pd.read_csv(\n",
    "    r'C:\\Work\\Programing Language\\task4\\Game-Recommendation-System\\data\\raw\\rawg_games_20k.csv'\n",
    ")\n",
    "print(game.head())"
   ],
   "id": "aa6874ee78e70ea3",
   "outputs": [
    {
     "name": "stdout",
     "output_type": "stream",
     "text": [
      "     id                              name                             slug  \\\n",
      "0  3498                Grand Theft Auto V               grand-theft-auto-v   \n",
      "1  3328          The Witcher 3: Wild Hunt          the-witcher-3-wild-hunt   \n",
      "2  4200                          Portal 2                         portal-2   \n",
      "3  4291  Counter-Strike: Global Offensive  counter-strike-global-offensive   \n",
      "4  5286                Tomb Raider (2013)                      tomb-raider   \n",
      "\n",
      "     released  metacritic  rating  ratings_count  \\\n",
      "0  2013-09-17        92.0    4.47           7236   \n",
      "1  2015-05-18        92.0    4.64           7052   \n",
      "2  2011-04-18        95.0    4.58           5992   \n",
      "3  2012-08-21        81.0    3.57           3603   \n",
      "4  2013-03-05        86.0    4.06           4048   \n",
      "\n",
      "                                           platforms          genres  \\\n",
      "0  PC|PlayStation 5|Xbox Series S/X|PlayStation 4...          Action   \n",
      "1  PlayStation 5|Xbox Series S/X|macOS|PlayStatio...      Action|RPG   \n",
      "2     PlayStation 3|PC|Xbox 360|Linux|macOS|Xbox One  Shooter|Puzzle   \n",
      "3                    PC|Linux|Xbox 360|PlayStation 3         Shooter   \n",
      "4  PlayStation 3|Xbox 360|macOS|PC|Xbox One|PlayS...          Action   \n",
      "\n",
      "                                              stores  added  \\\n",
      "0  Steam|PlayStation Store|Epic Games|Xbox 360 St...  22282   \n",
      "1  GOG|PlayStation Store|Steam|Xbox Store|Nintend...  21954   \n",
      "2  Xbox Store|Steam|PlayStation Store|Xbox 360 Store  20717   \n",
      "3             PlayStation Store|Steam|Xbox 360 Store  18318   \n",
      "4  Xbox 360 Store|Steam|PlayStation Store|Google ...  17697   \n",
      "\n",
      "                                                tags  \n",
      "0  Singleplayer|Steam Achievements|Multiplayer|Fu...  \n",
      "1  Singleplayer|Full controller support|Atmospher...  \n",
      "2  Singleplayer|Steam Achievements|Multiplayer|Fu...  \n",
      "3  Steam Achievements|Multiplayer|Full controller...  \n",
      "4  Singleplayer|Multiplayer|Full controller suppo...  \n"
     ]
    }
   ],
   "execution_count": 2
  },
  {
   "metadata": {
    "ExecuteTime": {
     "end_time": "2025-10-29T19:35:04.780143Z",
     "start_time": "2025-10-29T19:35:04.738220Z"
    }
   },
   "cell_type": "code",
   "source": "game.info()",
   "id": "b3c8f10b6139bd98",
   "outputs": [
    {
     "name": "stdout",
     "output_type": "stream",
     "text": [
      "<class 'pandas.core.frame.DataFrame'>\n",
      "RangeIndex: 20000 entries, 0 to 19999\n",
      "Data columns (total 12 columns):\n",
      " #   Column         Non-Null Count  Dtype  \n",
      "---  ------         --------------  -----  \n",
      " 0   id             20000 non-null  int64  \n",
      " 1   name           20000 non-null  object \n",
      " 2   slug           20000 non-null  object \n",
      " 3   released       19328 non-null  object \n",
      " 4   metacritic     5406 non-null   float64\n",
      " 5   rating         20000 non-null  float64\n",
      " 6   ratings_count  20000 non-null  int64  \n",
      " 7   platforms      19998 non-null  object \n",
      " 8   genres         19652 non-null  object \n",
      " 9   stores         18842 non-null  object \n",
      " 10  added          20000 non-null  int64  \n",
      " 11  tags           19323 non-null  object \n",
      "dtypes: float64(2), int64(3), object(7)\n",
      "memory usage: 1.8+ MB\n"
     ]
    }
   ],
   "execution_count": 3
  },
  {
   "metadata": {
    "ExecuteTime": {
     "end_time": "2025-10-29T19:35:04.822274Z",
     "start_time": "2025-10-29T19:35:04.793457Z"
    }
   },
   "cell_type": "code",
   "source": [
    "game = game[['id', 'name', 'platforms', 'genres', 'stores', 'tags']].dropna()\n",
    "print(\"\\nRemaining rows after dropping NA:\", len(game))\n"
   ],
   "id": "e56c95cd77b193ad",
   "outputs": [
    {
     "name": "stdout",
     "output_type": "stream",
     "text": [
      "\n",
      "Remaining rows after dropping NA: 18285\n"
     ]
    }
   ],
   "execution_count": 4
  },
  {
   "metadata": {
    "ExecuteTime": {
     "end_time": "2025-10-29T19:35:04.846100Z",
     "start_time": "2025-10-29T19:35:04.827803Z"
    }
   },
   "cell_type": "code",
   "source": [
    "print(\"\\nMissing values per column:\")\n",
    "print(game.isnull().sum())"
   ],
   "id": "2b6e233554beb827",
   "outputs": [
    {
     "name": "stdout",
     "output_type": "stream",
     "text": [
      "\n",
      "Missing values per column:\n",
      "id           0\n",
      "name         0\n",
      "platforms    0\n",
      "genres       0\n",
      "stores       0\n",
      "tags         0\n",
      "dtype: int64\n"
     ]
    }
   ],
   "execution_count": 5
  },
  {
   "metadata": {
    "ExecuteTime": {
     "end_time": "2025-10-29T19:35:04.860981Z",
     "start_time": "2025-10-29T19:35:04.846100Z"
    }
   },
   "cell_type": "code",
   "source": [
    "def clean_text(series):\n",
    "    series = series.str.replace(' ', '', regex=False)\n",
    "    series = series.str.replace('|', ' ', regex=False)\n",
    "    series = series.str.lower()\n",
    "    return series"
   ],
   "id": "58b8fa341f3b960d",
   "outputs": [],
   "execution_count": 6
  },
  {
   "metadata": {
    "ExecuteTime": {
     "end_time": "2025-10-29T19:35:04.993233Z",
     "start_time": "2025-10-29T19:35:04.863176Z"
    }
   },
   "cell_type": "code",
   "source": "game[['platforms', 'genres', 'stores', 'tags']] = game[['platforms', 'genres', 'stores', 'tags']].apply(clean_text)",
   "id": "823ef340f02a24f6",
   "outputs": [],
   "execution_count": 7
  },
  {
   "metadata": {
    "ExecuteTime": {
     "end_time": "2025-10-29T19:35:05.010701Z",
     "start_time": "2025-10-29T19:35:05.004006Z"
    }
   },
   "cell_type": "code",
   "source": "",
   "id": "7d02cc85debb6c03",
   "outputs": [],
   "execution_count": null
  },
  {
   "metadata": {},
   "cell_type": "markdown",
   "source": [
    "* combining important coloumns\n",
    "*"
   ],
   "id": "270345650a5f17"
  },
  {
   "metadata": {},
   "cell_type": "markdown",
   "source": "",
   "id": "1b6498ccd123a3af"
  },
  {
   "metadata": {
    "ExecuteTime": {
     "end_time": "2025-10-29T19:35:05.068054Z",
     "start_time": "2025-10-29T19:35:05.016478Z"
    }
   },
   "cell_type": "code",
   "source": "game['combined'] = game['platforms'] + ' ' + game['genres'] + ' ' + game['stores'] + ' ' + game['tags']\n",
   "id": "b14a708ee17168f5",
   "outputs": [],
   "execution_count": 8
  },
  {
   "metadata": {
    "ExecuteTime": {
     "end_time": "2025-10-29T19:35:05.104592Z",
     "start_time": "2025-10-29T19:35:05.082664Z"
    }
   },
   "cell_type": "code",
   "source": "game['combined'].head()",
   "id": "a35f1b125618a6db",
   "outputs": [
    {
     "data": {
      "text/plain": [
       "0    pc playstation5 xboxseriess/x playstation4 pla...\n",
       "1    playstation5 xboxseriess/x macos playstation4 ...\n",
       "2    playstation3 pc xbox360 linux macos xboxone sh...\n",
       "3    pc linux xbox360 playstation3 shooter playstat...\n",
       "4    playstation3 xbox360 macos pc xboxone playstat...\n",
       "Name: combined, dtype: object"
      ]
     },
     "execution_count": 9,
     "metadata": {},
     "output_type": "execute_result"
    }
   ],
   "execution_count": 9
  },
  {
   "metadata": {
    "jupyter": {
     "is_executing": true
    }
   },
   "cell_type": "code",
   "source": [
    "tfidf = TfidfVectorizer(max_features=500, stop_words='english')\n",
    "X = tfidf.fit_transform(game['combined'])\n",
    "X = normalize(X)"
   ],
   "id": "9a39903d20e2c51c",
   "outputs": [],
   "execution_count": null
  },
  {
   "metadata": {
    "ExecuteTime": {
     "end_time": "2025-10-29T10:15:02.720877Z",
     "start_time": "2025-10-29T10:15:02.691064Z"
    }
   },
   "cell_type": "code",
   "source": [
    "sample_idx = np.random.choice(len(game), 2000, replace=False)\n",
    "X_sample = X[sample_idx]\n",
    "sampled_game = game.iloc[sample_idx].copy()"
   ],
   "id": "f70af6da8e101d49",
   "outputs": [],
   "execution_count": 11
  },
  {
   "metadata": {
    "ExecuteTime": {
     "end_time": "2025-10-29T10:15:02.834658Z",
     "start_time": "2025-10-29T10:15:02.822823Z"
    }
   },
   "cell_type": "code",
   "source": [
    "cluster_model = AgglomerativeClustering(\n",
    "    n_clusters=15,\n",
    "    metric='cosine',\n",
    "    linkage='average'\n",
    ")"
   ],
   "id": "79a05d8e61bc3b7c",
   "outputs": [],
   "execution_count": 12
  },
  {
   "metadata": {
    "ExecuteTime": {
     "end_time": "2025-10-29T10:15:04.522983Z",
     "start_time": "2025-10-29T10:15:03.122332Z"
    }
   },
   "cell_type": "code",
   "source": [
    "X_sample_dense = X_sample.toarray()\n",
    "sampled_game['cluster'] = cluster_model.fit_predict(X_sample_dense)"
   ],
   "id": "55a65ccb028a3cb1",
   "outputs": [],
   "execution_count": 13
  },
  {
   "metadata": {},
   "cell_type": "markdown",
   "source": "* trying K-means",
   "id": "2e4dc4dc74241ff9"
  },
  {
   "metadata": {
    "ExecuteTime": {
     "end_time": "2025-10-29T10:15:09.225188Z",
     "start_time": "2025-10-29T10:15:05.403647Z"
    }
   },
   "cell_type": "code",
   "source": [
    "# %% KMeans clustering\n",
    "from sklearn.cluster import KMeans\n",
    "\n",
    "# Run KMeans on the same sample data\n",
    "kmeans_model = KMeans(n_clusters=15, random_state=42, n_init=10)\n",
    "sampled_game['cluster_kmeans'] = kmeans_model.fit_predict(X_sample_dense)\n",
    "\n",
    "print(\"\\nKMeans Cluster distribution:\\n\", sampled_game['cluster_kmeans'].value_counts())\n",
    "\n",
    "# Evaluate clustering quality using silhouette score\n",
    "sil_score_kmeans = silhouette_score(X_sample_dense, sampled_game['cluster_kmeans'], metric='cosine')\n",
    "print(f\"\\nSilhouette Score (KMeans Cluster quality): {sil_score_kmeans:.3f}\")\n"
   ],
   "id": "c736a1edf44e7708",
   "outputs": [
    {
     "name": "stdout",
     "output_type": "stream",
     "text": [
      "\n",
      "KMeans Cluster distribution:\n",
      " cluster_kmeans\n",
      "14    292\n",
      "1     213\n",
      "3     192\n",
      "0     187\n",
      "2     142\n",
      "11    141\n",
      "10    134\n",
      "7     131\n",
      "4     115\n",
      "9     114\n",
      "6     103\n",
      "12     92\n",
      "13     56\n",
      "5      55\n",
      "8      33\n",
      "Name: count, dtype: int64\n",
      "\n",
      "Silhouette Score (KMeans Cluster quality): 0.077\n"
     ]
    }
   ],
   "execution_count": 14
  },
  {
   "metadata": {
    "ExecuteTime": {
     "end_time": "2025-10-29T10:15:09.388060Z",
     "start_time": "2025-10-29T10:15:09.366381Z"
    }
   },
   "cell_type": "code",
   "source": "print(sampled_game['cluster'].value_counts())",
   "id": "65c76fabde2d3ee1",
   "outputs": [
    {
     "name": "stdout",
     "output_type": "stream",
     "text": [
      "cluster\n",
      "14    1561\n",
      "6      114\n",
      "2       99\n",
      "5       63\n",
      "4       49\n",
      "3       36\n",
      "0       18\n",
      "8       14\n",
      "12      13\n",
      "13       9\n",
      "11       9\n",
      "1        6\n",
      "9        4\n",
      "10       3\n",
      "7        2\n",
      "Name: count, dtype: int64\n"
     ]
    }
   ],
   "execution_count": 15
  },
  {
   "metadata": {
    "ExecuteTime": {
     "end_time": "2025-10-29T10:15:09.683807Z",
     "start_time": "2025-10-29T10:15:09.431048Z"
    }
   },
   "cell_type": "code",
   "source": [
    "sil_score = silhouette_score(X_sample_dense, sampled_game['cluster'], metric='cosine')\n",
    "print(f\"\\nSilhouette Score (cluster quality): {sil_score:.3f}\")"
   ],
   "id": "a75e8a46be770b16",
   "outputs": [
    {
     "name": "stdout",
     "output_type": "stream",
     "text": [
      "\n",
      "Silhouette Score (cluster quality): 0.015\n"
     ]
    }
   ],
   "execution_count": 16
  },
  {
   "metadata": {
    "ExecuteTime": {
     "end_time": "2025-10-29T10:15:09.741687Z",
     "start_time": "2025-10-29T10:15:09.718589Z"
    }
   },
   "cell_type": "code",
   "source": [
    "print(\"\\n--- Comparison ---\")\n",
    "print(f\"Hierarchical Silhouette Score: {sil_score:.3f}\")\n",
    "print(f\"KMeans Silhouette Score: {sil_score_kmeans:.3f}\")\n",
    "\n",
    "if sil_score_kmeans > sil_score:\n",
    "    print(\"KMeans performed better based on silhouette score.\")\n",
    "else:\n",
    "    print(\"Hierarchical clustering performed better based on silhouette score.\")\n"
   ],
   "id": "2263aa61a291395a",
   "outputs": [
    {
     "name": "stdout",
     "output_type": "stream",
     "text": [
      "\n",
      "--- Comparison ---\n",
      "Hierarchical Silhouette Score: 0.015\n",
      "KMeans Silhouette Score: 0.077\n",
      "KMeans performed better based on silhouette score.\n"
     ]
    }
   ],
   "execution_count": 17
  },
  {
   "metadata": {
    "ExecuteTime": {
     "end_time": "2025-10-29T10:15:09.800429Z",
     "start_time": "2025-10-29T10:15:09.783439Z"
    }
   },
   "cell_type": "code",
   "source": [
    "for c in range(3):\n",
    "    print(f\"\\nCluster {c} examples:\")\n",
    "    print(sampled_game[sampled_game['cluster'] == c]['name'].head(5).to_list())\n"
   ],
   "id": "7770319dd9628612",
   "outputs": [
    {
     "name": "stdout",
     "output_type": "stream",
     "text": [
      "\n",
      "Cluster 0 examples:\n",
      "['The Church in the Darkness', 'Signs of the Sojourner: Prologue', 'Pillars of Eternity - Definitive Edition', \"Assassin's Creed Unity\", 'Neptunia x Senran Kagura: Ninja Wars']\n",
      "\n",
      "Cluster 1 examples:\n",
      "['Delta Force — Black Hawk Down: Team Sabre', 'Kraken Academy!!', 'Hitman HD Pack', 'Unreal Tournament (2014)', 'Punch Club 2: Fast Forward']\n",
      "\n",
      "Cluster 2 examples:\n",
      "['Avorion', 'Star Chef 2: Cooking Game', 'Endless Sky', 'Project CARS', 'Roots of Pacha']\n"
     ]
    }
   ],
   "execution_count": 18
  },
  {
   "metadata": {
    "ExecuteTime": {
     "end_time": "2025-10-29T10:15:09.847090Z",
     "start_time": "2025-10-29T10:15:09.833153Z"
    }
   },
   "cell_type": "code",
   "source": [
    "def recommend_by_input(user_input, top_n=5):\n",
    "    user_input = user_input.lower()\n",
    "    user_vector = tfidf.transform([user_input]).toarray()\n",
    "    user_vector = normalize(user_vector)\n",
    "\n",
    "    similarities = cosine_similarity(user_vector, X_sample)\n",
    "    closest_game_idx = np.argmax(similarities)\n",
    "    user_cluster = sampled_game.iloc[closest_game_idx]['cluster']\n",
    "\n",
    "    cluster_mask = sampled_game['cluster'] == user_cluster\n",
    "    cluster_games = sampled_game[cluster_mask]\n",
    "    cluster_vectors = X_sample[cluster_mask.to_numpy()]\n",
    "\n",
    "    cluster_sim = cosine_similarity(user_vector, cluster_vectors).flatten()\n",
    "    cluster_games = cluster_games.copy()\n",
    "    cluster_games['similarity'] = cluster_sim\n",
    "\n",
    "    recommendations = cluster_games.sort_values(by='similarity', ascending=False).head(top_n)\n",
    "\n",
    "    print(f\"\\nTop {top_n} games for input: '{user_input}' (Cluster {user_cluster})\")\n",
    "    for i, row in recommendations.iterrows():\n",
    "        print(f\"- {row['name']} | Similarity: {row['similarity']:.3f}\")"
   ],
   "id": "58a167466135aace",
   "outputs": [],
   "execution_count": 19
  },
  {
   "metadata": {
    "ExecuteTime": {
     "end_time": "2025-10-29T10:15:09.906339Z",
     "start_time": "2025-10-29T10:15:09.874779Z"
    }
   },
   "cell_type": "code",
   "source": [
    "# %% Test GTA V with KMeans clusters\n",
    "\n",
    "def recommend_by_input_kmeans(user_input, top_n=5):\n",
    "    user_input = user_input.lower()\n",
    "    user_vector = tfidf.transform([user_input]).toarray()\n",
    "    user_vector = normalize(user_vector)\n",
    "\n",
    "    # Find the nearest game in TF-IDF space\n",
    "    similarities = cosine_similarity(user_vector, X_sample)\n",
    "    closest_game_idx = np.argmax(similarities)\n",
    "    user_cluster = sampled_game.iloc[closest_game_idx]['cluster_kmeans']\n",
    "\n",
    "    # Recommend from the same KMeans cluster\n",
    "    cluster_mask = sampled_game['cluster_kmeans'] == user_cluster\n",
    "    cluster_games = sampled_game[cluster_mask]\n",
    "    cluster_vectors = X_sample[cluster_mask.to_numpy()]\n",
    "\n",
    "    cluster_sim = cosine_similarity(user_vector, cluster_vectors).flatten()\n",
    "\n",
    "    cluster_games = cluster_games.copy()\n",
    "    cluster_games['similarity'] = cluster_sim\n",
    "    recommendations = cluster_games.sort_values(by='similarity', ascending=False).head(top_n)\n",
    "\n",
    "    print(f\"\\nTop {top_n} games for input: '{user_input}' (KMeans Cluster {user_cluster})\")\n",
    "    for _, row in recommendations.iterrows():\n",
    "        print(f\"- {row['name']} | Similarity: {row['similarity']:.3f}\")\n",
    "\n",
    "gta_input = \"PC Action Open World Crime Multiplayer\"\n",
    "recommend_by_input_kmeans(gta_input, top_n=5)\n"
   ],
   "id": "f03e1260d97a1ba2",
   "outputs": [
    {
     "name": "stdout",
     "output_type": "stream",
     "text": [
      "\n",
      "Top 5 games for input: 'pc action open world crime multiplayer' (KMeans Cluster 14)\n",
      "- Kingpin — Life of Crime | Similarity: 0.482\n",
      "- Batla | Similarity: 0.352\n",
      "- Delta Force: Task Force Dagger | Similarity: 0.338\n",
      "- Kraken Academy!! | Similarity: 0.302\n",
      "- Thief Simulator VR | Similarity: 0.298\n"
     ]
    }
   ],
   "execution_count": 20
  },
  {
   "metadata": {
    "ExecuteTime": {
     "end_time": "2025-10-29T10:15:09.975060Z",
     "start_time": "2025-10-29T10:15:09.958895Z"
    }
   },
   "cell_type": "code",
   "source": [
    "test_queries_kmeans = [\n",
    "    \"story\",\n",
    "    \"open world\",\n",
    "    \"single player\",\n",
    "    \"pc\",\n",
    "    \"sandbox\"\n",
    "]\n",
    "\n",
    "for query in test_queries:\n",
    "    print(\"\\n\" + \"=\"*70)\n",
    "    recommend_by_input(query, top_n=5)\n",
    "\n",
    "# %% Example: GTA V\n",
    "print(\"\\n\" + \"=\"*70)\n",
    "gta_input = \"PC Action Open World Crime Multiplayer\"\n",
    "recommend_by_input(gta_input, top_n=5)"
   ],
   "id": "e799b3260d2a033b",
   "outputs": [],
   "execution_count": 21
  },
  {
   "metadata": {
    "ExecuteTime": {
     "end_time": "2025-10-29T10:15:10.152430Z",
     "start_time": "2025-10-29T10:15:10.140747Z"
    }
   },
   "cell_type": "code",
   "source": "",
   "id": "c7fd1704522773c7",
   "outputs": [],
   "execution_count": null
  }
 ],
 "metadata": {
  "kernelspec": {
   "display_name": "Python 3",
   "language": "python",
   "name": "python3"
  },
  "language_info": {
   "codemirror_mode": {
    "name": "ipython",
    "version": 2
   },
   "file_extension": ".py",
   "mimetype": "text/x-python",
   "name": "python",
   "nbconvert_exporter": "python",
   "pygments_lexer": "ipython2",
   "version": "2.7.6"
  }
 },
 "nbformat": 4,
 "nbformat_minor": 5
}
